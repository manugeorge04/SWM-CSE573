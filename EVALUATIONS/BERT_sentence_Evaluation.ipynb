{
  "nbformat": 4,
  "nbformat_minor": 0,
  "metadata": {
    "colab": {
      "name": "BERT_sentence_Evaluation.ipynb",
      "provenance": []
    },
    "kernelspec": {
      "name": "python3",
      "display_name": "Python 3"
    }
  },
  "cells": [
    {
      "cell_type": "code",
      "metadata": {
        "id": "Oc4Gw4fT9sjI",
        "colab_type": "code",
        "outputId": "1d285d14-1ad0-4d9a-c0fb-64fef3cfb1fb",
        "colab": {
          "base_uri": "https://localhost:8080/",
          "height": 141
        }
      },
      "source": [
        "import os\n",
        "import numpy as np\n",
        "import pandas as pd\n",
        "from google.colab import drive\n",
        "#import ktrain\n",
        "#from ktrain import text\n",
        "import nltk\n",
        "from nltk.tokenize import sent_tokenize\n",
        "from nltk.corpus import stopwords\n",
        "from nltk.stem import WordNetLemmatizer\n",
        "from nltk.stem.porter import PorterStemmer\n",
        "from nltk.tokenize import RegexpTokenizer\n",
        "import tensorflow as tf\n",
        "from tensorflow.python.keras.layers import Dense, Flatten, Input, LSTM, Conv1D, GRU, Dropout\n",
        "from tensorflow.python.keras.layers.embeddings import Embedding\n",
        "from tensorflow.python.keras.preprocessing.text import one_hot\n",
        "from tensorflow.python.keras.preprocessing.sequence import pad_sequences\n",
        "from tensorflow.python.keras.models import Sequential, Model, load_model\n",
        "from tensorflow.python.keras.preprocessing.text import Tokenizer\n",
        "from tensorflow.python.keras.callbacks import ModelCheckpoint\n",
        "from tensorflow.python.keras.optimizers import SGD, Adam, RMSprop\n",
        "from tensorflow.python.keras import regularizers\n",
        "import string\n",
        "nltk.download('punkt')\n",
        "nltk.download('stopwords')\n",
        "nltk.download('wordnet')"
      ],
      "execution_count": 11,
      "outputs": [
        {
          "output_type": "stream",
          "text": [
            "[nltk_data] Downloading package punkt to /root/nltk_data...\n",
            "[nltk_data]   Package punkt is already up-to-date!\n",
            "[nltk_data] Downloading package stopwords to /root/nltk_data...\n",
            "[nltk_data]   Package stopwords is already up-to-date!\n",
            "[nltk_data] Downloading package wordnet to /root/nltk_data...\n",
            "[nltk_data]   Package wordnet is already up-to-date!\n"
          ],
          "name": "stdout"
        },
        {
          "output_type": "execute_result",
          "data": {
            "text/plain": [
              "True"
            ]
          },
          "metadata": {
            "tags": []
          },
          "execution_count": 11
        }
      ]
    },
    {
      "cell_type": "code",
      "metadata": {
        "id": "ekjgxoLe9wga",
        "colab_type": "code",
        "outputId": "9b7d362b-a0c2-41a2-d678-2ab3ae742d07",
        "colab": {
          "base_uri": "https://localhost:8080/",
          "height": 258
        }
      },
      "source": [
        "drive.mount('/content/drive/')\n",
        "print(os.listdir('./'))\n",
        "os.chdir('drive/My Drive/SWM-stock-prediction/code')"
      ],
      "execution_count": 12,
      "outputs": [
        {
          "output_type": "stream",
          "text": [
            "Drive already mounted at /content/drive/; to attempt to forcibly remount, call drive.mount(\"/content/drive/\", force_remount=True).\n",
            "['.ipynb_checkpoints', 'articlescraper.py', 'metadata.csv', 'news_join.ipynb', 'preprocess.ipynb', 'stockdata', 'tweetdata', 'unzip_data.py', 'model_bertBCE.h5', 'model_bert.ckpt.data-00001-of-00002', 'model_bert.ckpt.data-00000-of-00002', 'model_bert.ckpt.index', 'checkpoint', 'bert_Sentence_training.png']\n"
          ],
          "name": "stdout"
        },
        {
          "output_type": "error",
          "ename": "FileNotFoundError",
          "evalue": "ignored",
          "traceback": [
            "\u001b[0;31m---------------------------------------------------------------------------\u001b[0m",
            "\u001b[0;31mFileNotFoundError\u001b[0m                         Traceback (most recent call last)",
            "\u001b[0;32m<ipython-input-12-c468f0d77c74>\u001b[0m in \u001b[0;36m<module>\u001b[0;34m()\u001b[0m\n\u001b[1;32m      1\u001b[0m \u001b[0mdrive\u001b[0m\u001b[0;34m.\u001b[0m\u001b[0mmount\u001b[0m\u001b[0;34m(\u001b[0m\u001b[0;34m'/content/drive/'\u001b[0m\u001b[0;34m)\u001b[0m\u001b[0;34m\u001b[0m\u001b[0;34m\u001b[0m\u001b[0m\n\u001b[1;32m      2\u001b[0m \u001b[0mprint\u001b[0m\u001b[0;34m(\u001b[0m\u001b[0mos\u001b[0m\u001b[0;34m.\u001b[0m\u001b[0mlistdir\u001b[0m\u001b[0;34m(\u001b[0m\u001b[0;34m'./'\u001b[0m\u001b[0;34m)\u001b[0m\u001b[0;34m)\u001b[0m\u001b[0;34m\u001b[0m\u001b[0;34m\u001b[0m\u001b[0m\n\u001b[0;32m----> 3\u001b[0;31m \u001b[0mos\u001b[0m\u001b[0;34m.\u001b[0m\u001b[0mchdir\u001b[0m\u001b[0;34m(\u001b[0m\u001b[0;34m'drive/My Drive/SWM-stock-prediction/code'\u001b[0m\u001b[0;34m)\u001b[0m\u001b[0;34m\u001b[0m\u001b[0;34m\u001b[0m\u001b[0m\n\u001b[0m",
            "\u001b[0;31mFileNotFoundError\u001b[0m: [Errno 2] No such file or directory: 'drive/My Drive/SWM-stock-prediction/code'"
          ]
        }
      ]
    },
    {
      "cell_type": "code",
      "metadata": {
        "id": "tNYR0Hu3V8tw",
        "colab_type": "code",
        "colab": {}
      },
      "source": [
        "def split_document_to_chunks(row, field_name, chunk_len):\n",
        "    text = row[field_name]\n",
        "    if(text!='[]'):\n",
        "        label = row['label']\n",
        "        sentences = sent_tokenize(text)\n",
        "        output = []\n",
        "        for i in range(0,len(sentences), chunk_len):\n",
        "            if(i+chunk_len < len(sentences)):\n",
        "                chunk = ''.join(sentences[i:i+chunk_len])\n",
        "            else:\n",
        "                chunk = ''.join(sentences[i:len(sentences)])\n",
        "            output.append((chunk,label))\n",
        "        return output\n",
        "def prepare_data_set(data_set):\n",
        "    chunked_text_labels = data_set.apply(split_document_to_chunks, args=('filteredtext_amzn', 3), axis=1)\n",
        "    X=[]\n",
        "    y=[]\n",
        "    for chunks in chunked_text_labels:\n",
        "        if(chunks is not None):\n",
        "            for chunk in chunks:\n",
        "                X.append(chunk[0])\n",
        "                y.append(chunk[1])\n",
        "    return X,y"
      ],
      "execution_count": 0,
      "outputs": []
    },
    {
      "cell_type": "markdown",
      "metadata": {
        "id": "mXWEaWg4QthH",
        "colab_type": "text"
      },
      "source": [
        "**Loading the dataset**"
      ]
    },
    {
      "cell_type": "code",
      "metadata": {
        "id": "WbZIXICnLzJC",
        "colab_type": "code",
        "colab": {}
      },
      "source": [
        "X_train = np.load('../Data/X_train_bert.npy')\n",
        "X_test = np.load('../Data/X_test_bert.npy')\n",
        "train_label = np.load('../Data/label_train_bert.npy')\n",
        "test_label = np.load('../Data/label_test_bert.npy')"
      ],
      "execution_count": 0,
      "outputs": []
    },
    {
      "cell_type": "markdown",
      "metadata": {
        "id": "IBjAvHv2RUX4",
        "colab_type": "text"
      },
      "source": [
        "**Train and test shapes**"
      ]
    },
    {
      "cell_type": "code",
      "metadata": {
        "id": "KH3bO1exRZfd",
        "colab_type": "code",
        "outputId": "b5483a9d-7c60-4045-c611-8809ec0a0fdb",
        "colab": {
          "base_uri": "https://localhost:8080/",
          "height": 52
        }
      },
      "source": [
        "print(X_train.shape)\n",
        "print(X_test.shape)"
      ],
      "execution_count": 15,
      "outputs": [
        {
          "output_type": "stream",
          "text": [
            "(59278, 768)\n",
            "(13349, 768)\n"
          ],
          "name": "stdout"
        }
      ]
    },
    {
      "cell_type": "markdown",
      "metadata": {
        "id": "46X51Fd4Q0Wj",
        "colab_type": "text"
      },
      "source": [
        "**Loading the trained BERT Sentence embedding + DNN Model**"
      ]
    },
    {
      "cell_type": "code",
      "metadata": {
        "id": "dsr9MqhZQlWs",
        "colab_type": "code",
        "colab": {}
      },
      "source": [
        "model = load_model('../Data/bert_sentence_NN.h5')"
      ],
      "execution_count": 0,
      "outputs": []
    },
    {
      "cell_type": "markdown",
      "metadata": {
        "id": "G2orhYOORHpY",
        "colab_type": "text"
      },
      "source": [
        "**DNN Architecture**"
      ]
    },
    {
      "cell_type": "code",
      "metadata": {
        "id": "W16ENr_MRGgD",
        "colab_type": "code",
        "outputId": "523e957e-b414-45cf-c4d7-cbdc3c4d5a2e",
        "colab": {
          "base_uri": "https://localhost:8080/",
          "height": 265
        }
      },
      "source": [
        "model.summary()"
      ],
      "execution_count": 17,
      "outputs": [
        {
          "output_type": "stream",
          "text": [
            "Model: \"sequential_8\"\n",
            "_________________________________________________________________\n",
            "Layer (type)                 Output Shape              Param #   \n",
            "=================================================================\n",
            "dense_23 (Dense)             (None, 768)               590592    \n",
            "_________________________________________________________________\n",
            "dropout_7 (Dropout)          (None, 768)               0         \n",
            "_________________________________________________________________\n",
            "dense_24 (Dense)             (None, 1)                 769       \n",
            "=================================================================\n",
            "Total params: 591,361\n",
            "Trainable params: 591,361\n",
            "Non-trainable params: 0\n",
            "_________________________________________________________________\n"
          ],
          "name": "stdout"
        }
      ]
    },
    {
      "cell_type": "code",
      "metadata": {
        "id": "8YM2Fp2ARN9w",
        "colab_type": "code",
        "outputId": "873c4307-4394-4b11-dc45-d9a481e669fe",
        "colab": {
          "base_uri": "https://localhost:8080/",
          "height": 52
        }
      },
      "source": [
        "model.evaluate(X_test, test_label)"
      ],
      "execution_count": 0,
      "outputs": [
        {
          "output_type": "stream",
          "text": [
            "418/418 [==============================] - 1s 2ms/step - loss: 0.6531 - accuracy: 0.6383\n"
          ],
          "name": "stdout"
        },
        {
          "output_type": "execute_result",
          "data": {
            "text/plain": [
              "[0.6531215310096741, 0.6383249759674072]"
            ]
          },
          "metadata": {
            "tags": []
          },
          "execution_count": 10
        }
      ]
    },
    {
      "cell_type": "code",
      "metadata": {
        "id": "Ra1UISrdRl5G",
        "colab_type": "code",
        "colab": {}
      },
      "source": [
        "from sklearn.metrics import confusion_matrix, precision_score, recall_score, roc_auc_score"
      ],
      "execution_count": 0,
      "outputs": []
    },
    {
      "cell_type": "code",
      "metadata": {
        "id": "K2LVR8s3jV6w",
        "colab_type": "code",
        "colab": {
          "base_uri": "https://localhost:8080/",
          "height": 178
        },
        "outputId": "69fb2557-2967-4b06-ee90-d032541ec167"
      },
      "source": [
        "ypred = model.predict_classes(X_test)\n",
        "print(confusion_matrix(test_label, ypred))\n",
        "print(precision_score(test_label, ypred))\n",
        "print(recall_score(test_label, ypred))\n",
        "print(roc_auc_score(test_label, ypred))\n"
      ],
      "execution_count": 20,
      "outputs": [
        {
          "output_type": "stream",
          "text": [
            "WARNING:tensorflow:From <ipython-input-20-4c6eceff93e4>:1: Sequential.predict_classes (from tensorflow.python.keras.engine.sequential) is deprecated and will be removed after 2021-01-01.\n",
            "Instructions for updating:\n",
            "Please use instead:* `np.argmax(model.predict(x), axis=-1)`,   if your model does multi-class classification   (e.g. if it uses a `softmax` last-layer activation).* `(model.predict(x) > 0.5).astype(\"int32\")`,   if your model does binary classification   (e.g. if it uses a `sigmoid` last-layer activation).\n",
            "[[4130 2722]\n",
            " [2106 4391]]\n",
            "0.6173203992689442\n",
            "0.675850392488841\n",
            "0.6392970584744264\n"
          ],
          "name": "stdout"
        }
      ]
    },
    {
      "cell_type": "code",
      "metadata": {
        "id": "ofR5qDhekegw",
        "colab_type": "code",
        "colab": {}
      },
      "source": [
        ""
      ],
      "execution_count": 0,
      "outputs": []
    }
  ]
}