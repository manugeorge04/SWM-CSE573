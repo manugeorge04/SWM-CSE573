{
  "nbformat": 4,
  "nbformat_minor": 0,
  "metadata": {
    "colab": {
      "name": "Train_SVM.ipynb",
      "provenance": [],
      "collapsed_sections": []
    },
    "kernelspec": {
      "name": "python3",
      "display_name": "Python 3"
    }
  },
  "cells": [
    {
      "cell_type": "code",
      "metadata": {
        "id": "hTIflOKXWxf4",
        "colab_type": "code",
        "outputId": "309b2322-c6be-4f43-9514-6e4f08b7ef2e",
        "colab": {
          "base_uri": "https://localhost:8080/",
          "height": 812
        }
      },
      "source": [
        "import nltk\n",
        "import pandas as pd\n",
        "import numpy as np\n",
        "nltk.download(\"popular\")\n",
        "from nltk.corpus import stopwords\n",
        "from sklearn.feature_extraction.text import CountVectorizer\n",
        "from sklearn.feature_extraction.text import TfidfTransformer\n",
        "from sklearn.decomposition import PCA\n",
        "from sklearn import preprocessing, svm\n",
        "from sklearn.model_selection import train_test_split\n",
        "from sklearn.metrics import accuracy_score, precision_score, recall_score\n",
        "stop_words = set(stopwords.words('english'))"
      ],
      "execution_count": 1,
      "outputs": [
        {
          "output_type": "stream",
          "text": [
            "[nltk_data] Downloading collection 'popular'\n",
            "[nltk_data]    | \n",
            "[nltk_data]    | Downloading package cmudict to /root/nltk_data...\n",
            "[nltk_data]    |   Unzipping corpora/cmudict.zip.\n",
            "[nltk_data]    | Downloading package gazetteers to /root/nltk_data...\n",
            "[nltk_data]    |   Unzipping corpora/gazetteers.zip.\n",
            "[nltk_data]    | Downloading package genesis to /root/nltk_data...\n",
            "[nltk_data]    |   Unzipping corpora/genesis.zip.\n",
            "[nltk_data]    | Downloading package gutenberg to /root/nltk_data...\n",
            "[nltk_data]    |   Unzipping corpora/gutenberg.zip.\n",
            "[nltk_data]    | Downloading package inaugural to /root/nltk_data...\n",
            "[nltk_data]    |   Unzipping corpora/inaugural.zip.\n",
            "[nltk_data]    | Downloading package movie_reviews to\n",
            "[nltk_data]    |     /root/nltk_data...\n",
            "[nltk_data]    |   Unzipping corpora/movie_reviews.zip.\n",
            "[nltk_data]    | Downloading package names to /root/nltk_data...\n",
            "[nltk_data]    |   Unzipping corpora/names.zip.\n",
            "[nltk_data]    | Downloading package shakespeare to /root/nltk_data...\n",
            "[nltk_data]    |   Unzipping corpora/shakespeare.zip.\n",
            "[nltk_data]    | Downloading package stopwords to /root/nltk_data...\n",
            "[nltk_data]    |   Unzipping corpora/stopwords.zip.\n",
            "[nltk_data]    | Downloading package treebank to /root/nltk_data...\n",
            "[nltk_data]    |   Unzipping corpora/treebank.zip.\n",
            "[nltk_data]    | Downloading package twitter_samples to\n",
            "[nltk_data]    |     /root/nltk_data...\n",
            "[nltk_data]    |   Unzipping corpora/twitter_samples.zip.\n",
            "[nltk_data]    | Downloading package omw to /root/nltk_data...\n",
            "[nltk_data]    |   Unzipping corpora/omw.zip.\n",
            "[nltk_data]    | Downloading package wordnet to /root/nltk_data...\n",
            "[nltk_data]    |   Unzipping corpora/wordnet.zip.\n",
            "[nltk_data]    | Downloading package wordnet_ic to /root/nltk_data...\n",
            "[nltk_data]    |   Unzipping corpora/wordnet_ic.zip.\n",
            "[nltk_data]    | Downloading package words to /root/nltk_data...\n",
            "[nltk_data]    |   Unzipping corpora/words.zip.\n",
            "[nltk_data]    | Downloading package maxent_ne_chunker to\n",
            "[nltk_data]    |     /root/nltk_data...\n",
            "[nltk_data]    |   Unzipping chunkers/maxent_ne_chunker.zip.\n",
            "[nltk_data]    | Downloading package punkt to /root/nltk_data...\n",
            "[nltk_data]    |   Unzipping tokenizers/punkt.zip.\n",
            "[nltk_data]    | Downloading package snowball_data to\n",
            "[nltk_data]    |     /root/nltk_data...\n",
            "[nltk_data]    | Downloading package averaged_perceptron_tagger to\n",
            "[nltk_data]    |     /root/nltk_data...\n",
            "[nltk_data]    |   Unzipping taggers/averaged_perceptron_tagger.zip.\n",
            "[nltk_data]    | \n",
            "[nltk_data]  Done downloading collection popular\n"
          ],
          "name": "stdout"
        }
      ]
    },
    {
      "cell_type": "code",
      "metadata": {
        "id": "FttEt1iQW53-",
        "colab_type": "code",
        "colab": {}
      },
      "source": [
        "# load appropriate csv file for time interval\n",
        "df = pd.read_csv('./final60_amzn.csv')"
      ],
      "execution_count": 0,
      "outputs": []
    },
    {
      "cell_type": "code",
      "metadata": {
        "id": "1MkhP9K5cFLf",
        "colab_type": "code",
        "outputId": "91889764-fec6-40f4-a8cd-97749a5b7a64",
        "colab": {
          "base_uri": "https://localhost:8080/",
          "height": 407
        }
      },
      "source": [
        "df"
      ],
      "execution_count": 3,
      "outputs": [
        {
          "output_type": "execute_result",
          "data": {
            "text/html": [
              "<div>\n",
              "<style scoped>\n",
              "    .dataframe tbody tr th:only-of-type {\n",
              "        vertical-align: middle;\n",
              "    }\n",
              "\n",
              "    .dataframe tbody tr th {\n",
              "        vertical-align: top;\n",
              "    }\n",
              "\n",
              "    .dataframe thead th {\n",
              "        text-align: right;\n",
              "    }\n",
              "</style>\n",
              "<table border=\"1\" class=\"dataframe\">\n",
              "  <thead>\n",
              "    <tr style=\"text-align: right;\">\n",
              "      <th></th>\n",
              "      <th>Unnamed: 0</th>\n",
              "      <th>text</th>\n",
              "      <th>sentiment</th>\n",
              "      <th>label</th>\n",
              "      <th>stock_time</th>\n",
              "    </tr>\n",
              "  </thead>\n",
              "  <tbody>\n",
              "    <tr>\n",
              "      <th>0</th>\n",
              "      <td>0</td>\n",
              "      <td>like face antitrust review doj run trump appoi...</td>\n",
              "      <td>0.015654</td>\n",
              "      <td>1.0</td>\n",
              "      <td>2017-12-15 18:30:00</td>\n",
              "    </tr>\n",
              "    <tr>\n",
              "      <th>1</th>\n",
              "      <td>1</td>\n",
              "      <td>help explain run switch app feel much slower w...</td>\n",
              "      <td>0.022823</td>\n",
              "      <td>1.0</td>\n",
              "      <td>2017-12-21 18:30:00</td>\n",
              "    </tr>\n",
              "    <tr>\n",
              "      <th>2</th>\n",
              "      <td>2</td>\n",
              "      <td>china new cybersecur law pass last june requir...</td>\n",
              "      <td>0.002677</td>\n",
              "      <td>-1.0</td>\n",
              "      <td>2017-12-22 00:30:00</td>\n",
              "    </tr>\n",
              "    <tr>\n",
              "      <th>3</th>\n",
              "      <td>3</td>\n",
              "      <td>downsid offici support googl play movi tv app ...</td>\n",
              "      <td>0.032610</td>\n",
              "      <td>-1.0</td>\n",
              "      <td>2017-12-22 21:30:00</td>\n",
              "    </tr>\n",
              "    <tr>\n",
              "      <th>4</th>\n",
              "      <td>4</td>\n",
              "      <td>new year find tesla almost immedi pressur 2018...</td>\n",
              "      <td>0.064034</td>\n",
              "      <td>1.0</td>\n",
              "      <td>2017-12-27 00:30:00</td>\n",
              "    </tr>\n",
              "    <tr>\n",
              "      <th>...</th>\n",
              "      <td>...</td>\n",
              "      <td>...</td>\n",
              "      <td>...</td>\n",
              "      <td>...</td>\n",
              "      <td>...</td>\n",
              "    </tr>\n",
              "    <tr>\n",
              "      <th>2038</th>\n",
              "      <td>2038</td>\n",
              "      <td>make sure check today friday finish line hear ...</td>\n",
              "      <td>0.027635</td>\n",
              "      <td>-1.0</td>\n",
              "      <td>2019-02-01 19:30:00</td>\n",
              "    </tr>\n",
              "    <tr>\n",
              "      <th>2039</th>\n",
              "      <td>2039</td>\n",
              "      <td>2017 share amazon ran 560 appl return 485 sp 5...</td>\n",
              "      <td>0.021235</td>\n",
              "      <td>1.0</td>\n",
              "      <td>2019-02-01 20:30:00</td>\n",
              "    </tr>\n",
              "    <tr>\n",
              "      <th>2040</th>\n",
              "      <td>2040</td>\n",
              "      <td>5 top stock trade first thing monday acb amzn ...</td>\n",
              "      <td>0.014997</td>\n",
              "      <td>-1.0</td>\n",
              "      <td>2019-02-01 21:30:00</td>\n",
              "    </tr>\n",
              "    <tr>\n",
              "      <th>2041</th>\n",
              "      <td>2041</td>\n",
              "      <td>top alphabet compet like appl aapl hardwar mar...</td>\n",
              "      <td>0.022944</td>\n",
              "      <td>-1.0</td>\n",
              "      <td>2019-02-01 23:30:00</td>\n",
              "    </tr>\n",
              "    <tr>\n",
              "      <th>2042</th>\n",
              "      <td>2042</td>\n",
              "      <td>companyn20year averag annual growth raten1000 ...</td>\n",
              "      <td>0.036458</td>\n",
              "      <td>-1.0</td>\n",
              "      <td>2019-02-02 00:30:00</td>\n",
              "    </tr>\n",
              "  </tbody>\n",
              "</table>\n",
              "<p>2043 rows × 5 columns</p>\n",
              "</div>"
            ],
            "text/plain": [
              "      Unnamed: 0  ...           stock_time\n",
              "0              0  ...  2017-12-15 18:30:00\n",
              "1              1  ...  2017-12-21 18:30:00\n",
              "2              2  ...  2017-12-22 00:30:00\n",
              "3              3  ...  2017-12-22 21:30:00\n",
              "4              4  ...  2017-12-27 00:30:00\n",
              "...          ...  ...                  ...\n",
              "2038        2038  ...  2019-02-01 19:30:00\n",
              "2039        2039  ...  2019-02-01 20:30:00\n",
              "2040        2040  ...  2019-02-01 21:30:00\n",
              "2041        2041  ...  2019-02-01 23:30:00\n",
              "2042        2042  ...  2019-02-02 00:30:00\n",
              "\n",
              "[2043 rows x 5 columns]"
            ]
          },
          "metadata": {
            "tags": []
          },
          "execution_count": 3
        }
      ]
    },
    {
      "cell_type": "code",
      "metadata": {
        "id": "uotwpWh2XAs7",
        "colab_type": "code",
        "colab": {}
      },
      "source": [
        "# train with ngrams and sentiment\n",
        "text = df['text']\n",
        "sent = df['sentiment']\n",
        "labels = df['label']\n",
        "\n",
        "# generate ngrams = 2,2 or 2,3 with Count Vectorizer\n",
        "count_vectorizer = CountVectorizer(max_df=0.8, min_df=0.02, stop_words=stop_words, ngram_range=(2,2))\n",
        "X = count_vectorizer.fit_transform(text)\n",
        "\n",
        "# use TfIdf to determine freq\n",
        "tfidf = TfidfTransformer(smooth_idf=True, use_idf=True)\n",
        "X = tfidf.fit_transform(X).toarray()\n",
        "\n",
        "# use PCA to generate final text dataset\n",
        "pca = PCA(n_components=3)\n",
        "pca_comp = pca.fit_transform(X)\n",
        "\n",
        "# join text and sentiment\n",
        "finalXtrain = np.hstack((pca_comp, np.atleast_2d(sent).T))\n",
        "\n",
        "# create train and test split\n",
        "X_train, X_test, y_train, y_test = train_test_split(finalXtrain, labels, test_size=0.3, random_state=15)\n",
        "\n",
        "# scale the data\n",
        "minmaxScaler = preprocessing.MinMaxScaler()\n",
        "scaled_x_train = minmaxScaler.fit_transform(X_train)\n",
        "scaled_x_test = minmaxScaler.fit_transform(X_test)"
      ],
      "execution_count": 0,
      "outputs": []
    },
    {
      "cell_type": "code",
      "metadata": {
        "id": "2Bv5soOUXDJu",
        "colab_type": "code",
        "outputId": "98f04ed7-e5ed-47b1-e54d-ef04edb79ea9",
        "colab": {
          "base_uri": "https://localhost:8080/",
          "height": 86
        }
      },
      "source": [
        "# evaluation for ngrams and sentiment\n",
        "\n",
        "# create and train SVM model\n",
        "svm_model = svm.NuSVC(probability=True)\n",
        "svm_model.fit(scaled_x_train, y_train)\n",
        "\n",
        "# generate prediction\n",
        "y_train_pred = svm_model.predict(scaled_x_train)\n",
        "y_test_pred = svm_model.predict(scaled_x_test)\n",
        "\n",
        "# display train and test accuracy\n",
        "train_accuracy = accuracy_score(y_train, y_train_pred)\n",
        "print('Training accuracy is {0}'.format(train_accuracy))\n",
        "test_accuracy = accuracy_score(y_test, y_test_pred)\n",
        "print('Testing accuracy is {0}'.format(test_accuracy))\n",
        "\n",
        "# display precision\n",
        "prec_score = precision_score(y_test, y_test_pred)\n",
        "print('Precision: {0}'.format(prec_score))\n",
        "\n",
        "# display recall\n",
        "rec_score = recall_score(y_test, y_test_pred)\n",
        "print('Recall: {0}'.format(rec_score))"
      ],
      "execution_count": 5,
      "outputs": [
        {
          "output_type": "stream",
          "text": [
            "Training accuracy is 0.5328671328671328\n",
            "Testing accuracy is 0.5073409461663948\n",
            "Precision: 0.5609756097560976\n",
            "Recall: 0.14743589743589744\n"
          ],
          "name": "stdout"
        }
      ]
    },
    {
      "cell_type": "code",
      "metadata": {
        "id": "AUKr2ulocV4u",
        "colab_type": "code",
        "colab": {}
      },
      "source": [
        "# train with ngrams only\n",
        "text = df['text']\n",
        "labels = df['label']\n",
        "\n",
        "# generate ngrams = 2,2 or 2,3 with Count Vectorizer\n",
        "count_vectorizer = CountVectorizer(max_df=0.8, min_df=0.02, stop_words=stop_words, ngram_range=(2,2))\n",
        "X = count_vectorizer.fit_transform(text)\n",
        "\n",
        "# use TfIdf to determine freq\n",
        "tfidf = TfidfTransformer(smooth_idf=True, use_idf=True)\n",
        "X = tfidf.fit_transform(X).toarray()\n",
        "\n",
        "# use PCA to generate final text dataset\n",
        "pca = PCA(n_components=3)\n",
        "finalXtrain = pca.fit_transform(X)\n",
        "\n",
        "# create train and test split\n",
        "X_train, X_test, y_train, y_test = train_test_split(finalXtrain, labels, test_size=0.3, random_state=15)\n",
        "\n",
        "# scale the data\n",
        "minmaxScaler = preprocessing.MinMaxScaler()\n",
        "scaled_x_train = minmaxScaler.fit_transform(X_train)\n",
        "scaled_x_test = minmaxScaler.fit_transform(X_test)"
      ],
      "execution_count": 0,
      "outputs": []
    },
    {
      "cell_type": "code",
      "metadata": {
        "id": "jCPQAPIjccBl",
        "colab_type": "code",
        "outputId": "e298f21c-6bc1-4423-9b82-b98cb7dd90d7",
        "colab": {
          "base_uri": "https://localhost:8080/",
          "height": 86
        }
      },
      "source": [
        "# evaluation for ngrams\n",
        "\n",
        "# create and train SVM model\n",
        "svm_model = svm.NuSVC(probability=True)\n",
        "svm_model.fit(scaled_x_train, y_train)\n",
        "\n",
        "# generate prediction\n",
        "y_train_pred = svm_model.predict(scaled_x_train)\n",
        "y_test_pred = svm_model.predict(scaled_x_test)\n",
        "\n",
        "# display train and test accuracy\n",
        "train_accuracy = accuracy_score(y_train, y_train_pred)\n",
        "print('Training accuracy is {0}'.format(train_accuracy))\n",
        "test_accuracy = accuracy_score(y_test, y_test_pred)\n",
        "print('Testing accuracy is {0}'.format(test_accuracy))\n",
        "\n",
        "# display precision\n",
        "prec_score = precision_score(y_test, y_test_pred)\n",
        "print('Precision: {0}'.format(prec_score))\n",
        "\n",
        "# display recall\n",
        "rec_score = recall_score(y_test, y_test_pred)\n",
        "print('Recall: {0}'.format(rec_score))"
      ],
      "execution_count": 7,
      "outputs": [
        {
          "output_type": "stream",
          "text": [
            "Training accuracy is 0.5496503496503496\n",
            "Testing accuracy is 0.5122349102773246\n",
            "Precision: 0.5140388768898488\n",
            "Recall: 0.7628205128205128\n"
          ],
          "name": "stdout"
        }
      ]
    },
    {
      "cell_type": "code",
      "metadata": {
        "id": "gjK_JSyZc8mB",
        "colab_type": "code",
        "colab": {}
      },
      "source": [
        ""
      ],
      "execution_count": 0,
      "outputs": []
    }
  ]
}