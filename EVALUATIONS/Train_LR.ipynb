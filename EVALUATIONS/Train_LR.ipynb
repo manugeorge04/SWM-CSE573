{
  "nbformat": 4,
  "nbformat_minor": 0,
  "metadata": {
    "colab": {
      "name": "Train_LR.ipynb",
      "provenance": [],
      "collapsed_sections": []
    },
    "kernelspec": {
      "name": "python3",
      "display_name": "Python 3"
    }
  },
  "cells": [
    {
      "cell_type": "code",
      "metadata": {
        "id": "z6wkT68kSFhm",
        "colab_type": "code",
        "outputId": "75a42950-2a74-4ad9-f967-408fab5cb52c",
        "colab": {
          "base_uri": "https://localhost:8080/",
          "height": 846
        }
      },
      "source": [
        "import nltk\n",
        "import pandas as pd\n",
        "import numpy as np\n",
        "nltk.download(\"popular\")\n",
        "from nltk.corpus import stopwords\n",
        "from sklearn.feature_extraction.text import CountVectorizer\n",
        "from sklearn.feature_extraction.text import TfidfTransformer\n",
        "from sklearn.decomposition import PCA\n",
        "from sklearn import preprocessing\n",
        "from sklearn.linear_model import LogisticRegression\n",
        "from sklearn.model_selection import train_test_split\n",
        "from sklearn.metrics import accuracy_score, precision_score, recall_score\n",
        "stop_words = set(stopwords.words('english'))"
      ],
      "execution_count": 5,
      "outputs": [
        {
          "output_type": "stream",
          "text": [
            "[nltk_data] Downloading collection 'popular'\n",
            "[nltk_data]    | \n",
            "[nltk_data]    | Downloading package cmudict to /root/nltk_data...\n",
            "[nltk_data]    |   Package cmudict is already up-to-date!\n",
            "[nltk_data]    | Downloading package gazetteers to /root/nltk_data...\n",
            "[nltk_data]    |   Package gazetteers is already up-to-date!\n",
            "[nltk_data]    | Downloading package genesis to /root/nltk_data...\n",
            "[nltk_data]    |   Package genesis is already up-to-date!\n",
            "[nltk_data]    | Downloading package gutenberg to /root/nltk_data...\n",
            "[nltk_data]    |   Package gutenberg is already up-to-date!\n",
            "[nltk_data]    | Downloading package inaugural to /root/nltk_data...\n",
            "[nltk_data]    |   Package inaugural is already up-to-date!\n",
            "[nltk_data]    | Downloading package movie_reviews to\n",
            "[nltk_data]    |     /root/nltk_data...\n",
            "[nltk_data]    |   Package movie_reviews is already up-to-date!\n",
            "[nltk_data]    | Downloading package names to /root/nltk_data...\n",
            "[nltk_data]    |   Package names is already up-to-date!\n",
            "[nltk_data]    | Downloading package shakespeare to /root/nltk_data...\n",
            "[nltk_data]    |   Package shakespeare is already up-to-date!\n",
            "[nltk_data]    | Downloading package stopwords to /root/nltk_data...\n",
            "[nltk_data]    |   Package stopwords is already up-to-date!\n",
            "[nltk_data]    | Downloading package treebank to /root/nltk_data...\n",
            "[nltk_data]    |   Package treebank is already up-to-date!\n",
            "[nltk_data]    | Downloading package twitter_samples to\n",
            "[nltk_data]    |     /root/nltk_data...\n",
            "[nltk_data]    |   Package twitter_samples is already up-to-date!\n",
            "[nltk_data]    | Downloading package omw to /root/nltk_data...\n",
            "[nltk_data]    |   Package omw is already up-to-date!\n",
            "[nltk_data]    | Downloading package wordnet to /root/nltk_data...\n",
            "[nltk_data]    |   Package wordnet is already up-to-date!\n",
            "[nltk_data]    | Downloading package wordnet_ic to /root/nltk_data...\n",
            "[nltk_data]    |   Package wordnet_ic is already up-to-date!\n",
            "[nltk_data]    | Downloading package words to /root/nltk_data...\n",
            "[nltk_data]    |   Package words is already up-to-date!\n",
            "[nltk_data]    | Downloading package maxent_ne_chunker to\n",
            "[nltk_data]    |     /root/nltk_data...\n",
            "[nltk_data]    |   Package maxent_ne_chunker is already up-to-date!\n",
            "[nltk_data]    | Downloading package punkt to /root/nltk_data...\n",
            "[nltk_data]    |   Package punkt is already up-to-date!\n",
            "[nltk_data]    | Downloading package snowball_data to\n",
            "[nltk_data]    |     /root/nltk_data...\n",
            "[nltk_data]    |   Package snowball_data is already up-to-date!\n",
            "[nltk_data]    | Downloading package averaged_perceptron_tagger to\n",
            "[nltk_data]    |     /root/nltk_data...\n",
            "[nltk_data]    |   Package averaged_perceptron_tagger is already up-\n",
            "[nltk_data]    |       to-date!\n",
            "[nltk_data]    | \n",
            "[nltk_data]  Done downloading collection popular\n"
          ],
          "name": "stdout"
        }
      ]
    },
    {
      "cell_type": "code",
      "metadata": {
        "id": "v5Lg6YOOTebQ",
        "colab_type": "code",
        "colab": {}
      },
      "source": [
        "df = pd.read_csv('./final60_amzn.csv')"
      ],
      "execution_count": 0,
      "outputs": []
    },
    {
      "cell_type": "code",
      "metadata": {
        "id": "7fC_MiiAYlXZ",
        "colab_type": "code",
        "outputId": "425a397f-c8f0-4424-af30-f2e83e536e5b",
        "colab": {
          "base_uri": "https://localhost:8080/",
          "height": 407
        }
      },
      "source": [
        "df"
      ],
      "execution_count": 7,
      "outputs": [
        {
          "output_type": "execute_result",
          "data": {
            "text/html": [
              "<div>\n",
              "<style scoped>\n",
              "    .dataframe tbody tr th:only-of-type {\n",
              "        vertical-align: middle;\n",
              "    }\n",
              "\n",
              "    .dataframe tbody tr th {\n",
              "        vertical-align: top;\n",
              "    }\n",
              "\n",
              "    .dataframe thead th {\n",
              "        text-align: right;\n",
              "    }\n",
              "</style>\n",
              "<table border=\"1\" class=\"dataframe\">\n",
              "  <thead>\n",
              "    <tr style=\"text-align: right;\">\n",
              "      <th></th>\n",
              "      <th>Unnamed: 0</th>\n",
              "      <th>text</th>\n",
              "      <th>sentiment</th>\n",
              "      <th>label</th>\n",
              "      <th>stock_time</th>\n",
              "    </tr>\n",
              "  </thead>\n",
              "  <tbody>\n",
              "    <tr>\n",
              "      <th>0</th>\n",
              "      <td>0</td>\n",
              "      <td>like face antitrust review doj run trump appoi...</td>\n",
              "      <td>0.015654</td>\n",
              "      <td>1.0</td>\n",
              "      <td>2017-12-15 18:30:00</td>\n",
              "    </tr>\n",
              "    <tr>\n",
              "      <th>1</th>\n",
              "      <td>1</td>\n",
              "      <td>help explain run switch app feel much slower w...</td>\n",
              "      <td>0.022823</td>\n",
              "      <td>1.0</td>\n",
              "      <td>2017-12-21 18:30:00</td>\n",
              "    </tr>\n",
              "    <tr>\n",
              "      <th>2</th>\n",
              "      <td>2</td>\n",
              "      <td>china new cybersecur law pass last june requir...</td>\n",
              "      <td>0.002677</td>\n",
              "      <td>-1.0</td>\n",
              "      <td>2017-12-22 00:30:00</td>\n",
              "    </tr>\n",
              "    <tr>\n",
              "      <th>3</th>\n",
              "      <td>3</td>\n",
              "      <td>downsid offici support googl play movi tv app ...</td>\n",
              "      <td>0.032610</td>\n",
              "      <td>-1.0</td>\n",
              "      <td>2017-12-22 21:30:00</td>\n",
              "    </tr>\n",
              "    <tr>\n",
              "      <th>4</th>\n",
              "      <td>4</td>\n",
              "      <td>new year find tesla almost immedi pressur 2018...</td>\n",
              "      <td>0.064034</td>\n",
              "      <td>1.0</td>\n",
              "      <td>2017-12-27 00:30:00</td>\n",
              "    </tr>\n",
              "    <tr>\n",
              "      <th>...</th>\n",
              "      <td>...</td>\n",
              "      <td>...</td>\n",
              "      <td>...</td>\n",
              "      <td>...</td>\n",
              "      <td>...</td>\n",
              "    </tr>\n",
              "    <tr>\n",
              "      <th>2038</th>\n",
              "      <td>2038</td>\n",
              "      <td>make sure check today friday finish line hear ...</td>\n",
              "      <td>0.027635</td>\n",
              "      <td>-1.0</td>\n",
              "      <td>2019-02-01 19:30:00</td>\n",
              "    </tr>\n",
              "    <tr>\n",
              "      <th>2039</th>\n",
              "      <td>2039</td>\n",
              "      <td>2017 share amazon ran 560 appl return 485 sp 5...</td>\n",
              "      <td>0.021235</td>\n",
              "      <td>1.0</td>\n",
              "      <td>2019-02-01 20:30:00</td>\n",
              "    </tr>\n",
              "    <tr>\n",
              "      <th>2040</th>\n",
              "      <td>2040</td>\n",
              "      <td>5 top stock trade first thing monday acb amzn ...</td>\n",
              "      <td>0.014997</td>\n",
              "      <td>-1.0</td>\n",
              "      <td>2019-02-01 21:30:00</td>\n",
              "    </tr>\n",
              "    <tr>\n",
              "      <th>2041</th>\n",
              "      <td>2041</td>\n",
              "      <td>top alphabet compet like appl aapl hardwar mar...</td>\n",
              "      <td>0.022944</td>\n",
              "      <td>-1.0</td>\n",
              "      <td>2019-02-01 23:30:00</td>\n",
              "    </tr>\n",
              "    <tr>\n",
              "      <th>2042</th>\n",
              "      <td>2042</td>\n",
              "      <td>companyn20year averag annual growth raten1000 ...</td>\n",
              "      <td>0.036458</td>\n",
              "      <td>-1.0</td>\n",
              "      <td>2019-02-02 00:30:00</td>\n",
              "    </tr>\n",
              "  </tbody>\n",
              "</table>\n",
              "<p>2043 rows × 5 columns</p>\n",
              "</div>"
            ],
            "text/plain": [
              "      Unnamed: 0  ...           stock_time\n",
              "0              0  ...  2017-12-15 18:30:00\n",
              "1              1  ...  2017-12-21 18:30:00\n",
              "2              2  ...  2017-12-22 00:30:00\n",
              "3              3  ...  2017-12-22 21:30:00\n",
              "4              4  ...  2017-12-27 00:30:00\n",
              "...          ...  ...                  ...\n",
              "2038        2038  ...  2019-02-01 19:30:00\n",
              "2039        2039  ...  2019-02-01 20:30:00\n",
              "2040        2040  ...  2019-02-01 21:30:00\n",
              "2041        2041  ...  2019-02-01 23:30:00\n",
              "2042        2042  ...  2019-02-02 00:30:00\n",
              "\n",
              "[2043 rows x 5 columns]"
            ]
          },
          "metadata": {
            "tags": []
          },
          "execution_count": 7
        }
      ]
    },
    {
      "cell_type": "code",
      "metadata": {
        "id": "gh_VQ3OvTEy7",
        "colab_type": "code",
        "colab": {}
      },
      "source": [
        "# train with text and sentiment\n",
        "text = df['text']\n",
        "sent = df['sentiment']\n",
        "labels = df['label']\n",
        "\n",
        "# generate ngrams = 2,2 or 2,3 with Count Vectorizer\n",
        "count_vectorizer = CountVectorizer(max_df=0.8, min_df=0.02, stop_words=stop_words, ngram_range=(2,2))\n",
        "X = count_vectorizer.fit_transform(text)\n",
        "\n",
        "# use TfIdf to determine freq\n",
        "tfidf = TfidfTransformer(smooth_idf=True, use_idf=True)\n",
        "X = tfidf.fit_transform(X).toarray()\n",
        "\n",
        "# use PCA to generate final text dataset\n",
        "pca = PCA(n_components=3)\n",
        "pca_comp = pca.fit_transform(X)\n",
        "\n",
        "# join text and sentiment\n",
        "finalXtrain = np.hstack((pca_comp, np.atleast_2d(sent).T))\n",
        "\n",
        "# create train and test split\n",
        "X_train, X_test, y_train, y_test = train_test_split(finalXtrain, labels, test_size=0.3, random_state=15)\n",
        "\n",
        "# scale the data\n",
        "minmaxScaler = preprocessing.MinMaxScaler()\n",
        "scaled_x_train = minmaxScaler.fit_transform(X_train)\n",
        "scaled_x_test = minmaxScaler.fit_transform(X_test)"
      ],
      "execution_count": 0,
      "outputs": []
    },
    {
      "cell_type": "code",
      "metadata": {
        "id": "hK3XbjZuUo7W",
        "colab_type": "code",
        "outputId": "ca60d6fc-912f-4cbc-fea4-dabd0c72cc54",
        "colab": {
          "base_uri": "https://localhost:8080/",
          "height": 86
        }
      },
      "source": [
        "# evaluation for ngrams and sentiment\n",
        "\n",
        "# create and train LR model\n",
        "lr_model = LogisticRegression(random_state=10)\n",
        "lr_model.fit(scaled_x_train,y_train)\n",
        "\n",
        "# generate prediction\n",
        "y_train_pred = lr_model.predict(scaled_x_train)\n",
        "y_test_pred = lr_model.predict(scaled_x_test)\n",
        "\n",
        "# display train and test accuracy\n",
        "train_accuracy = accuracy_score(y_train, y_train_pred)\n",
        "print('Training accuracy is {0}'.format(train_accuracy))\n",
        "test_accuracy = accuracy_score(y_test, y_test_pred)\n",
        "print('Testing accuracy is {0}'.format(test_accuracy))\n",
        "\n",
        "# display precision\n",
        "prec_score = precision_score(y_test, y_test_pred)\n",
        "print('Precision: {0}'.format(prec_score))\n",
        "\n",
        "# display recall\n",
        "rec_score = recall_score(y_test, y_test_pred)\n",
        "print('Recall: {0}'.format(rec_score))"
      ],
      "execution_count": 9,
      "outputs": [
        {
          "output_type": "stream",
          "text": [
            "Training accuracy is 0.5559440559440559\n",
            "Testing accuracy is 0.5089722675367048\n",
            "Precision: 0.5089722675367048\n",
            "Recall: 1.0\n"
          ],
          "name": "stdout"
        }
      ]
    },
    {
      "cell_type": "code",
      "metadata": {
        "id": "Qc1H-04hXzGf",
        "colab_type": "code",
        "colab": {}
      },
      "source": [
        "# train with ngrams\n",
        "text = df['text']\n",
        "labels = df['label']\n",
        "\n",
        "# generate ngrams = 2,2 or 2,3 with Count Vectorizer\n",
        "count_vectorizer = CountVectorizer(max_df=0.8, min_df=0.02, stop_words=stop_words, ngram_range=(2,2))\n",
        "X = count_vectorizer.fit_transform(text)\n",
        "\n",
        "# use TfIdf to determine freq\n",
        "tfidf = TfidfTransformer(smooth_idf=True, use_idf=True)\n",
        "X = tfidf.fit_transform(X).toarray()\n",
        "\n",
        "# use PCA to generate final text dataset\n",
        "pca = PCA(n_components=3)\n",
        "finalXtrain = pca.fit_transform(X)\n",
        "\n",
        "# create train and test split\n",
        "X_train, X_test, y_train, y_test = train_test_split(finalXtrain, labels, test_size=0.3, random_state=15)\n",
        "\n",
        "# scale the data\n",
        "minmaxScaler = preprocessing.MinMaxScaler()\n",
        "scaled_x_train = minmaxScaler.fit_transform(X_train)\n",
        "scaled_x_test = minmaxScaler.fit_transform(X_test)"
      ],
      "execution_count": 0,
      "outputs": []
    },
    {
      "cell_type": "code",
      "metadata": {
        "id": "Hl7HU1K7YAQf",
        "colab_type": "code",
        "outputId": "2a3519df-e443-4ff5-8f00-3523410b67a1",
        "colab": {
          "base_uri": "https://localhost:8080/",
          "height": 86
        }
      },
      "source": [
        "# evaluation for ngrams\n",
        "\n",
        "# create and train LR model\n",
        "lr_model = LogisticRegression(random_state=10)\n",
        "lr_model.fit(scaled_x_train,y_train)\n",
        "\n",
        "# generate prediction\n",
        "y_train_pred = lr_model.predict(scaled_x_train)\n",
        "y_test_pred = lr_model.predict(scaled_x_test)\n",
        "\n",
        "# display train and test accuracy\n",
        "train_accuracy = accuracy_score(y_train, y_train_pred)\n",
        "print('Training accuracy is {0}'.format(train_accuracy))\n",
        "test_accuracy = accuracy_score(y_test, y_test_pred)\n",
        "print('Testing accuracy is {0}'.format(test_accuracy))\n",
        "\n",
        "# display precision\n",
        "prec_score = precision_score(y_test, y_test_pred)\n",
        "print('Precision: {0}'.format(prec_score))\n",
        "\n",
        "# display recall\n",
        "rec_score = recall_score(y_test, y_test_pred)\n",
        "print('Recall: {0}'.format(rec_score))"
      ],
      "execution_count": 11,
      "outputs": [
        {
          "output_type": "stream",
          "text": [
            "Training accuracy is 0.5559440559440559\n",
            "Testing accuracy is 0.5089722675367048\n",
            "Precision: 0.5089722675367048\n",
            "Recall: 1.0\n"
          ],
          "name": "stdout"
        }
      ]
    },
    {
      "cell_type": "code",
      "metadata": {
        "id": "qSWA4TPJ86OE",
        "colab_type": "code",
        "colab": {}
      },
      "source": [
        ""
      ],
      "execution_count": 0,
      "outputs": []
    }
  ]
}