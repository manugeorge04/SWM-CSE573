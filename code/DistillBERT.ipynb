{
  "nbformat": 4,
  "nbformat_minor": 0,
  "metadata": {
    "colab": {
      "name": "DistillBERT.ipynb",
      "provenance": [],
      "collapsed_sections": []
    },
    "kernelspec": {
      "name": "python3",
      "display_name": "Python 3"
    },
    "accelerator": "GPU"
  },
  "cells": [
    {
      "cell_type": "code",
      "metadata": {
        "id": "yHPmwu-Etd84",
        "colab_type": "code",
        "outputId": "c3547424-5b0f-410f-8306-3c1094259430",
        "colab": {
          "base_uri": "https://localhost:8080/",
          "height": 425
        }
      },
      "source": [
        "!pip install transformers"
      ],
      "execution_count": 2,
      "outputs": [
        {
          "output_type": "stream",
          "text": [
            "Requirement already satisfied: transformers in /usr/local/lib/python3.6/dist-packages (2.8.0)\n",
            "Requirement already satisfied: tokenizers==0.5.2 in /usr/local/lib/python3.6/dist-packages (from transformers) (0.5.2)\n",
            "Requirement already satisfied: dataclasses; python_version < \"3.7\" in /usr/local/lib/python3.6/dist-packages (from transformers) (0.7)\n",
            "Requirement already satisfied: sacremoses in /usr/local/lib/python3.6/dist-packages (from transformers) (0.0.41)\n",
            "Requirement already satisfied: boto3 in /usr/local/lib/python3.6/dist-packages (from transformers) (1.12.43)\n",
            "Requirement already satisfied: regex!=2019.12.17 in /usr/local/lib/python3.6/dist-packages (from transformers) (2019.12.20)\n",
            "Requirement already satisfied: filelock in /usr/local/lib/python3.6/dist-packages (from transformers) (3.0.12)\n",
            "Requirement already satisfied: numpy in /usr/local/lib/python3.6/dist-packages (from transformers) (1.18.3)\n",
            "Requirement already satisfied: sentencepiece in /usr/local/lib/python3.6/dist-packages (from transformers) (0.1.86)\n",
            "Requirement already satisfied: requests in /usr/local/lib/python3.6/dist-packages (from transformers) (2.21.0)\n",
            "Requirement already satisfied: tqdm>=4.27 in /usr/local/lib/python3.6/dist-packages (from transformers) (4.38.0)\n",
            "Requirement already satisfied: joblib in /usr/local/lib/python3.6/dist-packages (from sacremoses->transformers) (0.14.1)\n",
            "Requirement already satisfied: six in /usr/local/lib/python3.6/dist-packages (from sacremoses->transformers) (1.12.0)\n",
            "Requirement already satisfied: click in /usr/local/lib/python3.6/dist-packages (from sacremoses->transformers) (7.1.1)\n",
            "Requirement already satisfied: botocore<1.16.0,>=1.15.43 in /usr/local/lib/python3.6/dist-packages (from boto3->transformers) (1.15.43)\n",
            "Requirement already satisfied: jmespath<1.0.0,>=0.7.1 in /usr/local/lib/python3.6/dist-packages (from boto3->transformers) (0.9.5)\n",
            "Requirement already satisfied: s3transfer<0.4.0,>=0.3.0 in /usr/local/lib/python3.6/dist-packages (from boto3->transformers) (0.3.3)\n",
            "Requirement already satisfied: chardet<3.1.0,>=3.0.2 in /usr/local/lib/python3.6/dist-packages (from requests->transformers) (3.0.4)\n",
            "Requirement already satisfied: idna<2.9,>=2.5 in /usr/local/lib/python3.6/dist-packages (from requests->transformers) (2.8)\n",
            "Requirement already satisfied: certifi>=2017.4.17 in /usr/local/lib/python3.6/dist-packages (from requests->transformers) (2020.4.5.1)\n",
            "Requirement already satisfied: urllib3<1.25,>=1.21.1 in /usr/local/lib/python3.6/dist-packages (from requests->transformers) (1.24.3)\n",
            "Requirement already satisfied: python-dateutil<3.0.0,>=2.1 in /usr/local/lib/python3.6/dist-packages (from botocore<1.16.0,>=1.15.43->boto3->transformers) (2.8.1)\n",
            "Requirement already satisfied: docutils<0.16,>=0.10 in /usr/local/lib/python3.6/dist-packages (from botocore<1.16.0,>=1.15.43->boto3->transformers) (0.15.2)\n"
          ],
          "name": "stdout"
        }
      ]
    },
    {
      "cell_type": "code",
      "metadata": {
        "id": "QmQwWVcxO6KI",
        "colab_type": "code",
        "colab": {}
      },
      "source": [
        "import os\n",
        "import numpy as np\n",
        "import pandas as pd\n",
        "import tensorflow as tf\n",
        "from tensorflow.keras.layers import Dense, Input\n",
        "from tensorflow.keras.optimizers import Adam\n",
        "from tensorflow.keras.models import Model\n",
        "from tensorflow.keras.callbacks import ModelCheckpoint\n",
        "import transformers\n",
        "from tensorflow.keras.callbacks import ModelCheckpoint\n",
        "from google.colab import drive"
      ],
      "execution_count": 0,
      "outputs": []
    },
    {
      "cell_type": "code",
      "metadata": {
        "id": "Zjgjw5JlIEOR",
        "colab_type": "code",
        "colab": {}
      },
      "source": [
        "MAX_LEN=512"
      ],
      "execution_count": 0,
      "outputs": []
    },
    {
      "cell_type": "code",
      "metadata": {
        "id": "XZdfPj4vPPTz",
        "colab_type": "code",
        "outputId": "a345000a-5209-48b6-96a2-7162f2b8c3d9",
        "colab": {
          "base_uri": "https://localhost:8080/",
          "height": 52
        }
      },
      "source": [
        "drive.mount('/content/drive/')\n",
        "print(os.listdir('./'))\n",
        "os.chdir('drive/My Drive/SWM-stock-prediction/code')\n",
        "#!git clone https://github.com/baani-khurana/SWM-stock-prediction.git"
      ],
      "execution_count": 6,
      "outputs": [
        {
          "output_type": "stream",
          "text": [
            "Drive already mounted at /content/drive/; to attempt to forcibly remount, call drive.mount(\"/content/drive/\", force_remount=True).\n",
            "['.config', 'drive', 'sample_data']\n"
          ],
          "name": "stdout"
        }
      ]
    },
    {
      "cell_type": "code",
      "metadata": {
        "id": "HDJYezc1TXRN",
        "colab_type": "code",
        "outputId": "f1d3cc08-04a6-4e64-da67-26fadf9ade75",
        "colab": {
          "base_uri": "https://localhost:8080/",
          "height": 247
        }
      },
      "source": [
        "os.listdir('./')"
      ],
      "execution_count": 7,
      "outputs": [
        {
          "output_type": "execute_result",
          "data": {
            "text/plain": [
              "['.ipynb_checkpoints',\n",
              " 'articlescraper.py',\n",
              " 'metadata.csv',\n",
              " 'news_join.ipynb',\n",
              " 'preprocess.ipynb',\n",
              " 'stockdata',\n",
              " 'tweetdata',\n",
              " 'unzip_data.py',\n",
              " 'model_bertBCE.h5',\n",
              " 'model_bert.ckpt.data-00001-of-00002',\n",
              " 'model_bert.ckpt.data-00000-of-00002',\n",
              " 'model_bert.ckpt.index',\n",
              " 'checkpoint']"
            ]
          },
          "metadata": {
            "tags": []
          },
          "execution_count": 7
        }
      ]
    },
    {
      "cell_type": "code",
      "metadata": {
        "id": "AEYKBm6ED3jD",
        "colab_type": "code",
        "colab": {}
      },
      "source": [
        "def bert_encode(texts, tokenizer, max_len=512):\n",
        "    all_tokens = []\n",
        "    \n",
        "    for text in texts:\n",
        "        text = tokenizer.tokenize(text)\n",
        "            \n",
        "        text = text[:max_len-2]\n",
        "        input_sequence = [\"[CLS]\"] + text + [\"[SEP]\"]\n",
        "        pad_len = max_len - len(input_sequence)\n",
        "        \n",
        "        tokens = tokenizer.convert_tokens_to_ids(input_sequence)\n",
        "        tokens += [0] * pad_len\n",
        "        pad_masks = [1] * len(input_sequence) + [0] * pad_len\n",
        "        segment_ids = [0] * max_len\n",
        "        \n",
        "        all_tokens.append(tokens)\n",
        "    \n",
        "    return np.array(all_tokens)"
      ],
      "execution_count": 0,
      "outputs": []
    },
    {
      "cell_type": "code",
      "metadata": {
        "id": "_vAcIncY_Ji4",
        "colab_type": "code",
        "colab": {}
      },
      "source": [
        "def build_model(transformer, max_len=512):\n",
        "  input_word_ids = Input(shape=(max_len,), dtype=tf.int32, name=\"input_word_ids\")\n",
        "  sequence_output = transformer(input_word_ids)[0]\n",
        "  cls_token = sequence_output[:, 0, :]\n",
        "  out = Dense(1, activation='sigmoid')(cls_token)\n",
        "\n",
        "  model = Model(inputs=input_word_ids, outputs=out)\n",
        "  model.compile(Adam(lr=1e-5), loss='binary_crossentropy', metrics=['accuracy'])\n",
        "\n",
        "  return model"
      ],
      "execution_count": 0,
      "outputs": []
    },
    {
      "cell_type": "code",
      "metadata": {
        "id": "SkV_7EjsE7pe",
        "colab_type": "code",
        "outputId": "123b3c71-708c-4878-f1db-06a059574c5d",
        "colab": {
          "base_uri": "https://localhost:8080/",
          "height": 52
        }
      },
      "source": [
        "%%time\n",
        "transformer_layer = transformers.TFDistilBertModel.from_pretrained('distilbert-base-uncased')\n",
        "tokenizer = transformers.DistilBertTokenizer.from_pretrained('distilbert-base-uncased')"
      ],
      "execution_count": 10,
      "outputs": [
        {
          "output_type": "stream",
          "text": [
            "CPU times: user 3.85 s, sys: 1.64 s, total: 5.49 s\n",
            "Wall time: 8.16 s\n"
          ],
          "name": "stdout"
        }
      ]
    },
    {
      "cell_type": "code",
      "metadata": {
        "id": "vEQWLCQVPX25",
        "colab_type": "code",
        "colab": {}
      },
      "source": [
        "df = pd.read_csv('../Data/final_dataset_joined_aapl240_onlyMentions.csv')"
      ],
      "execution_count": 0,
      "outputs": []
    },
    {
      "cell_type": "code",
      "metadata": {
        "id": "nMPhAJ4_Rbie",
        "colab_type": "code",
        "colab": {}
      },
      "source": [
        "df = df[df.filteredtext_aapl != '[]']\n",
        "del df['Unnamed: 0']\n",
        "df.index = range(df.shape[0])\n",
        "#df['encoded_aapl'] = df.filteredtext_aapl.apply(text_encoder, args=(tokenizer, MAX_LEN))\n",
        "train_df = df[df.stock_time <= \"2018-12-01 00:00:00\"]\n",
        "test_df = df[df.stock_time > \"2018-12-01 00:00:00\"]"
      ],
      "execution_count": 0,
      "outputs": []
    },
    {
      "cell_type": "code",
      "metadata": {
        "id": "T4oLexEFFNfb",
        "colab_type": "code",
        "colab": {}
      },
      "source": [
        "#df['encoded_aapl'] = df.encoded_aapl.apply(lambda x: list(x))"
      ],
      "execution_count": 0,
      "outputs": []
    },
    {
      "cell_type": "code",
      "metadata": {
        "id": "8Inqcg8BHonf",
        "colab_type": "code",
        "outputId": "cc7fc353-5373-466e-83f0-3aa735d44ab7",
        "colab": {
          "base_uri": "https://localhost:8080/",
          "height": 197
        }
      },
      "source": [
        "df.head()"
      ],
      "execution_count": 13,
      "outputs": [
        {
          "output_type": "execute_result",
          "data": {
            "text/html": [
              "<div>\n",
              "<style scoped>\n",
              "    .dataframe tbody tr th:only-of-type {\n",
              "        vertical-align: middle;\n",
              "    }\n",
              "\n",
              "    .dataframe tbody tr th {\n",
              "        vertical-align: top;\n",
              "    }\n",
              "\n",
              "    .dataframe thead th {\n",
              "        text-align: right;\n",
              "    }\n",
              "</style>\n",
              "<table border=\"1\" class=\"dataframe\">\n",
              "  <thead>\n",
              "    <tr style=\"text-align: right;\">\n",
              "      <th></th>\n",
              "      <th>site</th>\n",
              "      <th>news_file_loc</th>\n",
              "      <th>filteredtext_aapl</th>\n",
              "      <th>filteredtext_amzn</th>\n",
              "      <th>news_timestamp</th>\n",
              "      <th>stock_time</th>\n",
              "      <th>open</th>\n",
              "      <th>close</th>\n",
              "      <th>low</th>\n",
              "      <th>high</th>\n",
              "      <th>volume</th>\n",
              "      <th>label</th>\n",
              "    </tr>\n",
              "  </thead>\n",
              "  <tbody>\n",
              "    <tr>\n",
              "      <th>0</th>\n",
              "      <td>businesswire.com</td>\n",
              "      <td>../Data/News/2018-01/news_0000265.json</td>\n",
              "      <td>nape summit week will also feature the annual ...</td>\n",
              "      <td>[]</td>\n",
              "      <td>2017-12-07 20:00:00</td>\n",
              "      <td>2017-12-07 22:30:00</td>\n",
              "      <td>169.73</td>\n",
              "      <td>170.43</td>\n",
              "      <td>168.93</td>\n",
              "      <td>169.29</td>\n",
              "      <td>28528</td>\n",
              "      <td>1</td>\n",
              "    </tr>\n",
              "    <tr>\n",
              "      <th>1</th>\n",
              "      <td>yahoo.com</td>\n",
              "      <td>../Data/News/2018-01/news_0001827.json</td>\n",
              "      <td>from apples hugely anticipated iphone x to sam...</td>\n",
              "      <td>[]</td>\n",
              "      <td>2017-12-08 21:37:00</td>\n",
              "      <td>2017-12-08 22:30:00</td>\n",
              "      <td>169.98</td>\n",
              "      <td>170.05</td>\n",
              "      <td>168.79</td>\n",
              "      <td>169.31</td>\n",
              "      <td>24782</td>\n",
              "      <td>1</td>\n",
              "    </tr>\n",
              "    <tr>\n",
              "      <th>2</th>\n",
              "      <td>yahoo.com</td>\n",
              "      <td>../Data/News/2018-01/news_0000282.json</td>\n",
              "      <td>they are not just the largest browser, but the...</td>\n",
              "      <td>[]</td>\n",
              "      <td>2017-12-12 01:55:00</td>\n",
              "      <td>2017-12-12 02:30:00</td>\n",
              "      <td>172.61</td>\n",
              "      <td>172.80</td>\n",
              "      <td>172.59</td>\n",
              "      <td>172.67</td>\n",
              "      <td>90</td>\n",
              "      <td>1</td>\n",
              "    </tr>\n",
              "    <tr>\n",
              "      <th>3</th>\n",
              "      <td>investingnews.com</td>\n",
              "      <td>../Data/News/2018-01/news_0001849.json</td>\n",
              "      <td>the humanitarian crisis in the drc has placed ...</td>\n",
              "      <td>[]</td>\n",
              "      <td>2017-12-12 22:10:00</td>\n",
              "      <td>2017-12-12 22:30:00</td>\n",
              "      <td>171.78</td>\n",
              "      <td>172.14</td>\n",
              "      <td>171.55</td>\n",
              "      <td>171.70</td>\n",
              "      <td>21640</td>\n",
              "      <td>-1</td>\n",
              "    </tr>\n",
              "    <tr>\n",
              "      <th>4</th>\n",
              "      <td>seekingalpha.com</td>\n",
              "      <td>../Data/News/2018-01/news_0001855.json</td>\n",
              "      <td>cramer prefers finisar (nasdaq: fnsr ) after a...</td>\n",
              "      <td>[]</td>\n",
              "      <td>2017-12-14 11:42:00</td>\n",
              "      <td>2017-12-14 18:30:00</td>\n",
              "      <td>172.41</td>\n",
              "      <td>173.12</td>\n",
              "      <td>171.63</td>\n",
              "      <td>172.14</td>\n",
              "      <td>24351</td>\n",
              "      <td>1</td>\n",
              "    </tr>\n",
              "  </tbody>\n",
              "</table>\n",
              "</div>"
            ],
            "text/plain": [
              "                site                           news_file_loc  ... volume label\n",
              "0   businesswire.com  ../Data/News/2018-01/news_0000265.json  ...  28528     1\n",
              "1          yahoo.com  ../Data/News/2018-01/news_0001827.json  ...  24782     1\n",
              "2          yahoo.com  ../Data/News/2018-01/news_0000282.json  ...     90     1\n",
              "3  investingnews.com  ../Data/News/2018-01/news_0001849.json  ...  21640    -1\n",
              "4   seekingalpha.com  ../Data/News/2018-01/news_0001855.json  ...  24351     1\n",
              "\n",
              "[5 rows x 12 columns]"
            ]
          },
          "metadata": {
            "tags": []
          },
          "execution_count": 13
        }
      ]
    },
    {
      "cell_type": "code",
      "metadata": {
        "id": "WQh257qD7DBm",
        "colab_type": "code",
        "outputId": "c98bb0e6-d006-4680-a390-a8886bbf68b2",
        "colab": {
          "base_uri": "https://localhost:8080/",
          "height": 34
        }
      },
      "source": [
        "train_df.shape[0]/df.shape[0]"
      ],
      "execution_count": 14,
      "outputs": [
        {
          "output_type": "execute_result",
          "data": {
            "text/plain": [
              "0.8169713665581434"
            ]
          },
          "metadata": {
            "tags": []
          },
          "execution_count": 14
        }
      ]
    },
    {
      "cell_type": "code",
      "metadata": {
        "id": "3x1hQY979fFx",
        "colab_type": "code",
        "outputId": "2054fbea-0898-4142-8484-a1408fd427cf",
        "colab": {
          "base_uri": "https://localhost:8080/",
          "height": 119
        }
      },
      "source": [
        "test_df.index"
      ],
      "execution_count": 0,
      "outputs": [
        {
          "output_type": "execute_result",
          "data": {
            "text/plain": [
              "Int64Index([58922, 58923, 58924, 58925, 58926, 58927, 58928, 58929, 58930,\n",
              "            58931,\n",
              "            ...\n",
              "            72259, 72260, 72261, 72262, 72263, 72264, 72265, 72266, 72267,\n",
              "            72268],\n",
              "           dtype='int64', length=13347)"
            ]
          },
          "metadata": {
            "tags": []
          },
          "execution_count": 12
        }
      ]
    },
    {
      "cell_type": "code",
      "metadata": {
        "id": "LifLUOBw6xNT",
        "colab_type": "code",
        "colab": {}
      },
      "source": [
        "aapl_news = df.filteredtext_aapl.values\n",
        "labels = df.label.values"
      ],
      "execution_count": 0,
      "outputs": []
    },
    {
      "cell_type": "code",
      "metadata": {
        "id": "WfYj9mELUVZn",
        "colab_type": "code",
        "outputId": "1505bf4a-d2a3-4c0d-f2bd-6962a24499fc",
        "colab": {
          "base_uri": "https://localhost:8080/",
          "height": 34
        }
      },
      "source": [
        "'''\n",
        "enc = tokenizer.encode(aapl_news[2], add_special_tokens=True)\n",
        "len(enc)\n",
        "for sent in aapl_news:\n",
        "\n",
        "    # Tokenize the text and add `[CLS]` and `[SEP]` tokens.\n",
        "    input_ids = tokenizer.encode(sent, add_special_tokens=True)\n",
        "\n",
        "    # Update the maximum sentence length.\n",
        "    max_len = max(max_len, len(input_ids))\n",
        "\n",
        "print('Max sentence length: ', max_len)'''"
      ],
      "execution_count": 0,
      "outputs": [
        {
          "output_type": "execute_result",
          "data": {
            "text/plain": [
              "203"
            ]
          },
          "metadata": {
            "tags": []
          },
          "execution_count": 23
        }
      ]
    },
    {
      "cell_type": "code",
      "metadata": {
        "id": "gPDsZkA1JWW7",
        "colab_type": "code",
        "colab": {}
      },
      "source": [
        "train_input = bert_encode(train_df.filteredtext_aapl.values, tokenizer, 2048)"
      ],
      "execution_count": 0,
      "outputs": []
    },
    {
      "cell_type": "code",
      "metadata": {
        "id": "TUTZgJ_TVaxl",
        "colab_type": "code",
        "outputId": "22d3ccc6-92ce-49d6-da20-6819142b3fc3",
        "colab": {
          "base_uri": "https://localhost:8080/",
          "height": 173
        }
      },
      "source": [
        "aapl_news"
      ],
      "execution_count": 0,
      "outputs": [
        {
          "output_type": "execute_result",
          "data": {
            "text/plain": [
              "array([\"['\\\\nNAPE Summit Week will also feature the annual NAPE Summit Charities Luncheon with Tom Brokaw as keynote speaker ; a new Job Fair for upstream professionals; educational seminars presented by industry organizations AIPN, IPAA, SEG and AAPL; domestic and international NAPE Theaters running two days of Prospect Previews and Capital and Service Provider Presentations ; and a two-day Expo on nearly 15 acres of exhibition space', '\\\\nNAPE was founded in 1993 to help stimulate oil and gas industry activity during a downturn', '\\\\nThe NAPE Global Business Conference explores the most pressing topics in the domestic and international oil and gas industry each year, featuring presentations from C-level industry experts one day before the NAPE Expo opens', ' The Expo will conclude with a Summit Sweepstakes drawing for a 2018 Silver Ford F-150 in celebration of NAPEs 25 th anniversary', ' The 2018 NAPE Global Business Conference will be held February 7, 2018, and will address trends in private equity, acquisitions and divestitures and more']\",\n",
              "       \"['\\\\niPhone X  Best phone if money isnt an issue Apples iPhone X is one of the best, and most expensive, phones you can buy', ' Even more so if youre tired of Apple', ' And at $725, the S8 is just $25 more than the iPhone 8', '\\\\nSure, the loss of the Home button, which disappeared so Apple could make a full-screen handset, will turn off some users', '\\\\nBut man is the iPhone X beautiful ', ' More Samsungs Galaxy S8 is the go-to smartphone for anyone who wants a high-powered handset and has an intense dislike of Apples iPhone 8', '\\\\nThe S8s curved, edge-to-edge display gives the handset a unique look , and its Super AMOLED display technology offers a greater range of colors than the iPhone 8s LCD panel', '\\\\niPhone 8 Plus  Best smartphone for the Apple lover Apples iPhone 8 Plus is a fantastic smartphone with an impressive camera and huge display', '\\\\nGalaxy Note 8  Best big-screen smartphone Samsungs Galaxy Note 8 is a powerful handset with a brilliant display, but itll cost you', ' More Okay, so Samsungs got a great phone or two, but that doesnt mean much to Apple fans', ' And besides, if youre looking for a phone thats both elegant and screams wealth, the iPhone X is the only way to go', ' Our most recent trip around the Sun brought an incredible array of top-notch handsets that will help set the standard for smartphone design and technology for years to come', ' Thats a pretty solid deal', ' More Apples (AAPL) most premium of premium devices starts at a cool $1,000, or about $41 to $49 per month depending on your purchase plan  putting it out of the reach of many consumers', ' The Xs spot-on Face ID facial-recognition technology and fantastic dual-lens camera help make this just the kind of iPhone Apple needed at a time when industry analysts were questioning the companys ability to innovate', ' Perhaps the \\\\nGalaxy S8  Best smartphone if you dont want an iPhone Samsungs Galaxy S8 is an impressive smartphone', ' Its 5', ' From Apples hugely anticipated iPhone X to Samsungs comeback tour following the Note 7 debacle, it was a big year for the smartphone industry', ' Not that the S8 is second to Apples mainstream smartphone', ' Its worth noting that price doesnt include the cost of your monthly wireless plan', ' If not, you might want to go for a different Samsung handset', '8-inch nearly edge-to-edge panel gently curves around its four corners and its OLED display technology produces brilliant colors and deep blacks', ' Starting at $799, the iPhone 8 Plus has a large screen that, though not as colorful as Samsungs, offers sharp visuals', ' And while the S8, and its larger stablemate the S8+, might beat out the iPhone 8, it cant quite top the iPhone 8 Plus ', ' And so now is the perfect time to reflect on the single most important issue of 2017: the best smartphones of the year', ' But Apple has some slick touch controls to make up for it', ' In fact, Id put the S8 over the iPhone 8 thanks to its superior design, display and camera']\",\n",
              "       \"['', ' They are not just the largest browser, but the largest mobile OS, the largest ad exchange and the largest ad server, so it makes sense that they be the first to move', ' And web publishers would be wise to remember that these arent the only kind of bad ads they need to fix, from fraudulent ads (projected to be a $16', '\\\\nMore from Rob:\\\\nHow hackers might target you in 2018 How the FCCs plan to kill net neutrality affects you You should still use the iPhone Xs Face ID even though hackers say they beat it Barry Diller says big media will be serfs on the land of tech giants How Apple sold me on buying a Windows laptop Email Rob at rob@robpegoraro', '4 billion problem this year ) to the clickbait that treats you like an idiot', '\\\\nGoogle has staked out a much stronger position on this issue than the other browsers, said Confiants Mangin', '\\\\nGoogle competitors like Apple ( AAPL ), Microsoft ( MSFT ) and Mozilla would be wise to follow its lead', 'com; follow him on Twitter at @robpegoraro ', '\\\\nWarned Contextlys Singel: The online ad ecosystem is rife with fraud, and publishers ought to worry much more than they do about the damage these kinds of ads and other low-rent ad units do to their reputations with readers']\",\n",
              "       ...,\n",
              "       \"['\\\\nFacebook ha tenido que lidiar con los escndalos sobre la privacidad de datos y la desinformacin, por lo que ahora est luchando por recuperar la confianza de los inversionistas, Wall Street y los legisladores en Washington', ' Todos presentaron el formulario de consentimiento de sus padres debidamente firmado', '\\\\nArtculos relacionados que te pueden interesar:\\\\nDejen que usuarios vendan datos a Facebook: Leonid Bershidsky\\\\nFacebook cambia de actitud y deja de disculparse\\\\nHeidi Chung', '\\\\nTras la sospecha que levantaron los informes sobre un presunto espionaje por parte de Facebook, Apple ( AAPL ) respondi bloqueando la aplicacin ', ' Finalmente, los adolescentes representaron menos del 5% del total de personas que decidieron participar en este programa de investigacin']\",\n",
              "       '[\\' and China flags side by side with a graph tracking growth\\', \\' Worldwide smartphone sales in decline It turns out that Apple was dealing with the worst year ever for smartphone sales, according to the Worldwide Quarterly Mobile Phone Tracker report issued by market intelligence company IDC\\', \\' Worldwide smartphone shipments fell to 375\\', \\'4 billion units shipped, a 4% year over year decline in 2018\\', \\'4 million units\\', \\' More Image source: Getty Images\\', \\' The stronger dollar in relation to other currencies took a toll, reducing revenue by 2%, while also making the iPhone more expensive for international customers\\', \\' More From The Motley Fool\\', \" Apple\\'s also losing market share Cook cited a number of other issues that factored into iPhone sales declines\", \\' The factors cited by Cook that played into falling iPhone sales last quarter will likely persist -- particularly in light of the ongoing trade war -- which is why Apple forecast another quarter of year-over-year declines for the upcoming second quarter\\', \" Huawei, one of the companies\\' fiercest rivals in China was the biggest beneficiary, with 60\", \\'S\\', \\'5 million units, up 43\\', \" Following Apple\\'s forecast revision, tech giant Samsung (NASDAQOTH: SSNLF) -- best known for its popular Galaxy smartphones -- issued its own warning for the fourth quarter\", \\' Tepid iPhone sales in China may be the new normal for Apple, as Chinese consumers increasingly choose cheaper options and worldwide smartphone sales continue to decline\\', \" A new report reveals that Apple wasn\\'t the only one dealing with falling smartphone sales\", \\' The country accounts for roughly 30% of the world\\\\\\'s smartphone sales, but the report states \"high inventory continues to be a challenge across the market as is consumer spending on devices, which has been down overall\\', \\' A young woman smiling comparing two smartphones\\', \" Finally, Apple\\'s battery replacement program attracted far more customers than the company anticipated, allowing them to delay upgrading to newer iPhone models\", \\' These very same factors, many of which have an impact on price-sensitive buyers, opened the door for low-cost smartphone providers to steal market share from Apple and Samsung\\', \" Things probably won\\'t get better anytime soon Given the slowing economy in China, it makes sense that Chinese consumers would opt for lower-cost smartphone options\", \\'4 million in Q4 were down 11\\', \\' On Apple\\\\\\'s earnings conference call earlier this week, Cook said, \"Most of the shortfall relative to our original guidance and over 100% of our worldwide year-over-year revenue decline was driven by performance in Greater China\\', \\'5% year over year, and other big players suffered falling sales as well\\', \\' Fewer and fewer carriers are willing to subsidize smartphones, shifting the cost to consumers\\', \\' When Apple reported its full financial results for the quarter , CEO Tim Cook cited a number of reasons for the shortfall\\', \\' This announcement sent the stock reeling and seemingly proved that weakening iPhone sales were the new reality\\', \" Now investors have some independent corroboration for Cook\\'s assertions\", \\'4 million, according to IDC, declining by 5\\', \\'\" The IDC report confirmed Cook\\\\\\'s assertions about sales in China, which saw smartphone sales decline by over 10% in 2018\\', \\'5% year over year\\', \\' U\\', \\' IDC said it was the \"worst year ever for smartphone shipments,\" with about 1\\', \" Samsung\\'s Q4 shipments came in at 70\", \\' The biggest impact, according to Cook, was the result of the weakening economy in China\\', \\' When Apple revised its guidance, Cook said the company had failed to anticipate \"the magnitude of the economic deceleration,\" the result of the second worst GDP growth in China in the past 25 years -- a situation that was made even worse by the ongoing trade war with the U\\', \"This Report Just Confirmed Apple\\'s China Problem Danny Vena, The Motley Fool Reblog Apple (NASDAQ: AAPL) shocked investors last month when it revised its first-quarter forecast , saying that revenue would likely decline by 5% year over year despite already issuing conservative guidance just two months before\", \\'4 million units in the fourth quarter, a decline of 5% year over year, marking the fifth consecutive quarter of falling sales\\']',\n",
              "       \"['\\\\nApple (NASDAQ:AAPL) last issued its quarterly earnings results on Tuesday, January 29th', '00 in a research note on Wednesday, November 28th', '31 billion for analyst estimates of $84', ' Morgan Stanley upped their target price on shares of Apple from $226', '00 to $275', '00 and gave the stock an overweight rating in a research report on Thursday, November 8th', ' JPMorgan Chase & Co', '72% and a return on equity of 51', '\\\\nShares of Apple stock opened at $166', '17 by $0', ' Finally, Royal Bank of Canada restated a buy rating and set a $240', ' The company has a consensus rating of Hold and a consensus price target of $191', ' Quantamental Technologies LLC purchased a new position in Apple during the fourth quarter worth approximately $181,000', ' Apple had a net margin of 22', '74 earnings per share for the current fiscal year', 'Apple (NASDAQ:AAPL) had its price objective raised by stock analysts at UBS Group from $180', ' CKW Financial Group raised its stake in Apple by 15', ' Brand Asset Management Group Inc', ' now owns 614 shares of the iPhone makers stock valued at $97,000 after buying an additional 144 shares during the period', ' It also sells various related software, services, accessories, and third-party digital content and applications', '07 billion', '00 in a report released on Wednesday, www', ' The company offers iPhone, a line of smartphones; iPad, a line of multi-purpose tablets; and Mac, a line of desktop and portable personal computers, as well as iOS, macOS, watchOS, and tvOS operating systems', '05% of the stock is owned by corporate insiders', '\\\\nA number of other research analysts have also issued reports on the stock', '00 to $200', ' Apple has a 52-week low of $142', '61 and a beta of 1', ' lifted its stake in shares of Apple by 30', ' 57', ' raised its stake in Apple by 75', '00 and a 52-week high of $233', ' CKW Financial Group now owns 807 shares of the iPhone makers stock worth $127,000 after purchasing an additional 105 shares during the period', '0% during the fourth quarter', '09%', '15% from the companys previous close', '00 to $253', '01', '\\\\nIn related news, insider Chris Kondo sold 3,408 shares of the companys stock in a transaction that occurred on Monday, November 19th', '6% during the fourth quarter', '\\\\nAbout Apple\\\\nApple Inc designs, manufactures, and markets mobile communication and media devices, and personal computers', ' Citigroup lowered their target price on shares of Apple from $240', '18 earnings per share (EPS) for the quarter, topping analysts consensus estimates of $4', '3% during the fourth quarter', ' Finally, Brand Asset Management Group Inc', '00 and set a buy rating on the stock in a research report on Monday, December 10th', ' They noted that the move was a valuation call', ' Three equities research analysts have rated the stock with a sell rating, twenty-four have issued a hold rating and twenty-two have issued a buy rating to the companys stock', '23', ' The iPhone maker reported $4', '00 target price on shares of Apple in a research report on Monday, November 19th', '00 target price on shares of Apple and gave the stock a buy rating in a research report on Monday, October 29th', '47', ' set a $272', ' Equities analysts anticipate that Apple will post 11', '00 to $185', '66', '\\\\nSeveral institutional investors and hedge funds have recently made changes to their positions in AAPL', '02% of the stock is currently owned by institutional investors and hedge funds', ' Contravisory Investment Management Inc', ' Wedbush upgraded shares of Apple to an outperform rating and dropped their price target for the stock from $310', ' Delphi Private Advisors LLC purchased a new position in shares of Apple during the second quarter valued at approximately $120,000', '44 on Wednesday', ' 0']\"],\n",
              "      dtype=object)"
            ]
          },
          "metadata": {
            "tags": []
          },
          "execution_count": 17
        }
      ]
    },
    {
      "cell_type": "code",
      "metadata": {
        "id": "Rpv92wc18K-Z",
        "colab_type": "code",
        "colab": {}
      },
      "source": [
        "#train_input = np.array(aapl_news[train_df.index])\n",
        "train_input = bert_encode(aapl_news[train_df.index], tokenizer, 512)\n",
        "train_label = labels[train_df.index]\n",
        "test_input = bert_encode(aapl_news[test_df.index], tokenizer, 512)\n",
        "test_label = labels[test_df.index]\n",
        "train_label[train_label == -1] = 0\n",
        "test_label[test_label == -1] = 0"
      ],
      "execution_count": 0,
      "outputs": []
    },
    {
      "cell_type": "code",
      "metadata": {
        "id": "qju62pFZYr6n",
        "colab_type": "code",
        "colab": {}
      },
      "source": [
        "checkpoint_pth = '../checkpoints/bertBCE-{epoch:02d}-{val_accuracy:.2f}.ckpt'\n",
        "cb = ModelCheckpoint(checkpoint_pth, monitor='val_accuracy', verbose=1, save_best_only=True, save_weights_only=True, mode='max')\n",
        "cb_list = [cb]"
      ],
      "execution_count": 0,
      "outputs": []
    },
    {
      "cell_type": "code",
      "metadata": {
        "id": "riW0LA3S_K7s",
        "colab_type": "code",
        "outputId": "d211a542-428b-48c0-b26f-fda7d498d906",
        "colab": {
          "base_uri": "https://localhost:8080/",
          "height": 301
        }
      },
      "source": [
        "model = build_model(transformer=transformer_layer, max_len=512)\n",
        "model.summary()"
      ],
      "execution_count": 29,
      "outputs": [
        {
          "output_type": "stream",
          "text": [
            "Model: \"model\"\n",
            "_________________________________________________________________\n",
            "Layer (type)                 Output Shape              Param #   \n",
            "=================================================================\n",
            "input_word_ids (InputLayer)  [(None, 512)]             0         \n",
            "_________________________________________________________________\n",
            "tf_distil_bert_model (TFDist ((None, 512, 768),)       66362880  \n",
            "_________________________________________________________________\n",
            "tf_op_layer_strided_slice (T [(None, 768)]             0         \n",
            "_________________________________________________________________\n",
            "dense (Dense)                (None, 1)                 769       \n",
            "=================================================================\n",
            "Total params: 66,363,649\n",
            "Trainable params: 66,363,649\n",
            "Non-trainable params: 0\n",
            "_________________________________________________________________\n"
          ],
          "name": "stdout"
        }
      ]
    },
    {
      "cell_type": "code",
      "metadata": {
        "id": "MQ7BseRWIhGQ",
        "colab_type": "code",
        "outputId": "277a7228-cffe-46d1-8ca4-15a1d10ae18d",
        "colab": {
          "base_uri": "https://localhost:8080/",
          "height": 301
        }
      },
      "source": [
        "train_history = model.fit(\n",
        "    train_input, train_label,\n",
        "    validation_split=0.1,\n",
        "    epochs=4,\n",
        "    batch_size=8,\n",
        "    verbose=1,\n",
        "    callbacks=cb_list\n",
        ")"
      ],
      "execution_count": 30,
      "outputs": [
        {
          "output_type": "stream",
          "text": [
            "Epoch 1/4\n",
            "6606/6606 [==============================] - ETA: 0s - loss: 0.6766 - accuracy: 0.5507\n",
            "Epoch 00001: val_accuracy improved from -inf to 0.51924, saving model to ../checkpoints/bertBCE-01-0.52.ckpt\n",
            "6606/6606 [==============================] - 3549s 537ms/step - loss: 0.6766 - accuracy: 0.5507 - val_loss: 0.7025 - val_accuracy: 0.5192\n",
            "Epoch 2/4\n",
            "6606/6606 [==============================] - ETA: 0s - loss: 0.6240 - accuracy: 0.6280\n",
            "Epoch 00002: val_accuracy improved from 0.51924 to 0.53508, saving model to ../checkpoints/bertBCE-02-0.54.ckpt\n",
            "6606/6606 [==============================] - 3553s 538ms/step - loss: 0.6240 - accuracy: 0.6280 - val_loss: 0.7801 - val_accuracy: 0.5351\n",
            "Epoch 3/4\n",
            "6606/6606 [==============================] - ETA: 0s - loss: 0.5511 - accuracy: 0.6986\n",
            "Epoch 00003: val_accuracy did not improve from 0.53508\n",
            "6606/6606 [==============================] - 3552s 538ms/step - loss: 0.5511 - accuracy: 0.6986 - val_loss: 0.8396 - val_accuracy: 0.5019\n",
            "Epoch 4/4\n",
            "6606/6606 [==============================] - ETA: 0s - loss: 0.4786 - accuracy: 0.7545\n",
            "Epoch 00004: val_accuracy improved from 0.53508 to 0.54445, saving model to ../checkpoints/bertBCE-04-0.54.ckpt\n",
            "6606/6606 [==============================] - 3552s 538ms/step - loss: 0.4786 - accuracy: 0.7545 - val_loss: 0.9017 - val_accuracy: 0.5444\n"
          ],
          "name": "stdout"
        }
      ]
    },
    {
      "cell_type": "code",
      "metadata": {
        "id": "Z1tf0hxDI-Pn",
        "colab_type": "code",
        "colab": {}
      },
      "source": [
        "model.save_weights('../checkpoints/bertBCE_final.ckpt')"
      ],
      "execution_count": 0,
      "outputs": []
    },
    {
      "cell_type": "code",
      "metadata": {
        "id": "3Bt4xfklRdmG",
        "colab_type": "code",
        "colab": {
          "base_uri": "https://localhost:8080/",
          "height": 52
        },
        "outputId": "aa96c528-4f78-4f44-fbc0-31a085ef6639"
      },
      "source": [
        "results = model.evaluate(test_input, test_label)\n",
        "print(results)"
      ],
      "execution_count": 32,
      "outputs": [
        {
          "output_type": "stream",
          "text": [
            "412/412 [==============================] - 268s 650ms/step - loss: 0.8502 - accuracy: 0.5304\n",
            "[0.8502473831176758, 0.5303686857223511]\n"
          ],
          "name": "stdout"
        }
      ]
    },
    {
      "cell_type": "code",
      "metadata": {
        "id": "7q5-HmE_sGGM",
        "colab_type": "code",
        "colab": {}
      },
      "source": [
        "y_pred = model.predict(test_input)"
      ],
      "execution_count": 0,
      "outputs": []
    },
    {
      "cell_type": "code",
      "metadata": {
        "id": "VcXcvweMUpF0",
        "colab_type": "code",
        "colab": {}
      },
      "source": [
        "y_pred = np.array([1 if x >=0.5 else 0 for x in y_pred])"
      ],
      "execution_count": 0,
      "outputs": []
    },
    {
      "cell_type": "code",
      "metadata": {
        "id": "Wt7hD394scYb",
        "colab_type": "code",
        "colab": {
          "base_uri": "https://localhost:8080/",
          "height": 34
        },
        "outputId": "bb1f31bd-9886-421f-ad7c-d4ef5581f775"
      },
      "source": [
        "from sklearn.metrics import accuracy_score, precision_score, confusion_matrix\n",
        "accuracy_score(test_label, y_pred)"
      ],
      "execution_count": 38,
      "outputs": [
        {
          "output_type": "execute_result",
          "data": {
            "text/plain": [
              "0.5303686811098441"
            ]
          },
          "metadata": {
            "tags": []
          },
          "execution_count": 38
        }
      ]
    },
    {
      "cell_type": "code",
      "metadata": {
        "id": "-nUmRyIQunGG",
        "colab_type": "code",
        "outputId": "42d3d9dc-209a-4500-fc9a-339d93a57ef3",
        "colab": {
          "base_uri": "https://localhost:8080/",
          "height": 52
        }
      },
      "source": [
        "confusion_matrix(test_label, y_pred)"
      ],
      "execution_count": 39,
      "outputs": [
        {
          "output_type": "execute_result",
          "data": {
            "text/plain": [
              "array([[3652, 3420],\n",
              "       [2758, 3325]])"
            ]
          },
          "metadata": {
            "tags": []
          },
          "execution_count": 39
        }
      ]
    },
    {
      "cell_type": "code",
      "metadata": {
        "id": "mcumJ8-cyZOc",
        "colab_type": "code",
        "colab": {}
      },
      "source": [
        "new_model = build_model(transformer_layer, max_len=512)"
      ],
      "execution_count": 0,
      "outputs": []
    },
    {
      "cell_type": "code",
      "metadata": {
        "id": "s21yrfxKyfH6",
        "colab_type": "code",
        "outputId": "894850f1-df94-4f56-bd96-042dce7e36e7",
        "colab": {
          "base_uri": "https://localhost:8080/",
          "height": 34
        }
      },
      "source": [
        "new_model.load_weights('model_bert.ckpt')"
      ],
      "execution_count": 0,
      "outputs": [
        {
          "output_type": "execute_result",
          "data": {
            "text/plain": [
              "<tensorflow.python.training.tracking.util.CheckpointLoadStatus at 0x7f333b29ed68>"
            ]
          },
          "metadata": {
            "tags": []
          },
          "execution_count": 58
        }
      ]
    },
    {
      "cell_type": "code",
      "metadata": {
        "id": "Zp009qCk4p5I",
        "colab_type": "code",
        "outputId": "931e4b6f-484d-435f-e0f5-738c9ada0fbd",
        "colab": {
          "base_uri": "https://localhost:8080/",
          "height": 282
        }
      },
      "source": [
        "new_model.weights == model.weights"
      ],
      "execution_count": 0,
      "outputs": [
        {
          "output_type": "error",
          "ename": "ValueError",
          "evalue": "ignored",
          "traceback": [
            "\u001b[0;31m---------------------------------------------------------------------------\u001b[0m",
            "\u001b[0;31mValueError\u001b[0m                                Traceback (most recent call last)",
            "\u001b[0;32m<ipython-input-60-bf0b40d436d7>\u001b[0m in \u001b[0;36m<module>\u001b[0;34m()\u001b[0m\n\u001b[0;32m----> 1\u001b[0;31m \u001b[0mnew_model\u001b[0m\u001b[0;34m.\u001b[0m\u001b[0mweights\u001b[0m \u001b[0;34m==\u001b[0m \u001b[0mmodel\u001b[0m\u001b[0;34m.\u001b[0m\u001b[0mweights\u001b[0m\u001b[0;34m\u001b[0m\u001b[0;34m\u001b[0m\u001b[0m\n\u001b[0m",
            "\u001b[0;32m/usr/local/lib/python3.6/dist-packages/tensorflow/python/framework/ops.py\u001b[0m in \u001b[0;36m__bool__\u001b[0;34m(self)\u001b[0m\n\u001b[1;32m    882\u001b[0m \u001b[0;34m\u001b[0m\u001b[0m\n\u001b[1;32m    883\u001b[0m   \u001b[0;32mdef\u001b[0m \u001b[0m__bool__\u001b[0m\u001b[0;34m(\u001b[0m\u001b[0mself\u001b[0m\u001b[0;34m)\u001b[0m\u001b[0;34m:\u001b[0m\u001b[0;34m\u001b[0m\u001b[0;34m\u001b[0m\u001b[0m\n\u001b[0;32m--> 884\u001b[0;31m     \u001b[0;32mreturn\u001b[0m \u001b[0mbool\u001b[0m\u001b[0;34m(\u001b[0m\u001b[0mself\u001b[0m\u001b[0;34m.\u001b[0m\u001b[0m_numpy\u001b[0m\u001b[0;34m(\u001b[0m\u001b[0;34m)\u001b[0m\u001b[0;34m)\u001b[0m\u001b[0;34m\u001b[0m\u001b[0;34m\u001b[0m\u001b[0m\n\u001b[0m\u001b[1;32m    885\u001b[0m \u001b[0;34m\u001b[0m\u001b[0m\n\u001b[1;32m    886\u001b[0m   \u001b[0m__nonzero__\u001b[0m \u001b[0;34m=\u001b[0m \u001b[0m__bool__\u001b[0m\u001b[0;34m\u001b[0m\u001b[0;34m\u001b[0m\u001b[0m\n",
            "\u001b[0;31mValueError\u001b[0m: The truth value of an array with more than one element is ambiguous. Use a.any() or a.all()"
          ]
        }
      ]
    },
    {
      "cell_type": "code",
      "metadata": {
        "id": "0y0kjnPR4tDZ",
        "colab_type": "code",
        "colab": {}
      },
      "source": [
        ""
      ],
      "execution_count": 0,
      "outputs": []
    }
  ]
}