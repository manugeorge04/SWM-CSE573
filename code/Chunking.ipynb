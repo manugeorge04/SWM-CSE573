{
 "cells": [
  {
   "cell_type": "code",
   "execution_count": 1,
   "metadata": {
    "scrolled": true
   },
   "outputs": [
    {
     "ename": "ModuleNotFoundError",
     "evalue": "No module named 'sklearn'",
     "output_type": "error",
     "traceback": [
      "\u001b[0;31m---------------------------------------------------------------------------\u001b[0m",
      "\u001b[0;31mModuleNotFoundError\u001b[0m                       Traceback (most recent call last)",
      "Cell \u001b[0;32mIn[1], line 5\u001b[0m\n\u001b[1;32m      3\u001b[0m \u001b[38;5;28;01mfrom\u001b[39;00m \u001b[38;5;21;01mnltk\u001b[39;00m\u001b[38;5;21;01m.\u001b[39;00m\u001b[38;5;21;01mtokenize\u001b[39;00m \u001b[38;5;28;01mimport\u001b[39;00m sent_tokenize\n\u001b[1;32m      4\u001b[0m \u001b[38;5;28;01mimport\u001b[39;00m \u001b[38;5;21;01mnumpy\u001b[39;00m \u001b[38;5;28;01mas\u001b[39;00m \u001b[38;5;21;01mnp\u001b[39;00m\n\u001b[0;32m----> 5\u001b[0m \u001b[38;5;28;01mfrom\u001b[39;00m \u001b[38;5;21;01msklearn\u001b[39;00m\u001b[38;5;21;01m.\u001b[39;00m\u001b[38;5;21;01mdatasets\u001b[39;00m \u001b[38;5;28;01mimport\u001b[39;00m fetch_20newsgroups\n",
      "\u001b[0;31mModuleNotFoundError\u001b[0m: No module named 'sklearn'"
     ]
    }
   ],
   "source": [
    "import pandas as pd\n",
    "import nltk\n",
    "from nltk.tokenize import sent_tokenize\n",
    "import numpy as np\n",
    "from sklearn.datasets import fetch_20newsgroups"
   ]
  },
  {
   "cell_type": "code",
   "execution_count": null,
   "metadata": {},
   "outputs": [],
   "source": [
    "def split_document_to_chunks(row, fName, chunkLength):\n",
    "    chunkText = row[fName]\n",
    "    if(chunkText!='[]'):\n",
    "        label = row['label']\n",
    "        lines = sent_tokenize(chunkText)\n",
    "        result = []\n",
    "        for i in range(0,len(lines), chunkLength):\n",
    "            if(i+chunkLength < len(lines)):\n",
    "                chunk = ''.join(lines[i:i+chunkLength])\n",
    "            else:\n",
    "                chunk = ''.join(lines[i:len(lines)])\n",
    "            result.append((chunk,label))\n",
    "        return result\n",
    "def prepare_data_set(dataSet):\n",
    "    chunkTxtLabel = dataSet.apply(split_document_to_chunks, args=('filteredtext_aapl', 1), axis=1)\n",
    "    X=[]\n",
    "    y=[]\n",
    "    for c in chunkTxtLabel:\n",
    "        if(c is not None):\n",
    "            for chunk in c:\n",
    "                X.append(chunk[0])\n",
    "                y.append(chunk[1])\n",
    "    return X,y"
   ]
  },
  {
   "cell_type": "code",
   "execution_count": null,
   "metadata": {},
   "outputs": [],
   "source": [
    "dataSet = pd.read_csv('../Data/final_dataset_joined_aapl240_onlyMentions.csv')\n",
    "trainDF = dataSet[dataSet.stock_time <= \"2018-12-01 00:00:00\"]\n",
    "testDF = dataSet[dataSet.stock_time > \"2018-12-01 00:00:00\"]"
   ]
  },
  {
   "cell_type": "code",
   "execution_count": null,
   "metadata": {
    "scrolled": true
   },
   "outputs": [
    {
     "data": {
      "text/plain": [
       "(67276, 67276)"
      ]
     },
     "execution_count": 9,
     "metadata": {},
     "output_type": "execute_result"
    }
   ],
   "source": [
    "XTrain,yTrain = prepare_data_set(trainDF)\n",
    "len(XTrain),len(yTrain)"
   ]
  },
  {
   "cell_type": "code",
   "execution_count": null,
   "metadata": {},
   "outputs": [
    {
     "data": {
      "text/plain": [
       "0        [nape summit week will also feature the annual...\n",
       "1        [from apples hugely anticipated iphone x to sa...\n",
       "2        [they are not just the largest browser, but th...\n",
       "3        [the humanitarian crisis in the drc has placed...\n",
       "4        [cramer prefers finisar (nasdaq: fnsr ) after ...\n",
       "                               ...                        \n",
       "62795    [and the outperformance in health care, displa...\n",
       "62796    [and the outperformance in health care, displa...\n",
       "62797    [microsoft's market value overtakes apple's to...\n",
       "62798    [microsoft's market value overtakes apple's to...\n",
       "62799    [microsoft's market value overtakes apple's to...\n",
       "Name: filteredtext_aapl, Length: 62800, dtype: object"
      ]
     },
     "execution_count": 14,
     "metadata": {},
     "output_type": "execute_result"
    }
   ],
   "source": [
    "trainDF.filteredtext_aapl.apply(lambda x: (sent_tokenize(x)))"
   ]
  },
  {
   "cell_type": "code",
   "execution_count": null,
   "metadata": {},
   "outputs": [
    {
     "name": "stderr",
     "output_type": "stream",
     "text": [
      "Downloading 20news dataset. This may take a few minutes.\n",
      "Downloading dataset from https://ndownloader.figshare.com/files/5975967 (14 MB)\n"
     ]
    }
   ],
   "source": [
    "options = ['alt.atheism', 'soc.religion.christian',\n",
    "             'comp.graphics', 'sci.med']\n",
    "\n",
    "trainB = fetch_20newsgroups(subset='train',\n",
    "   categories=options, shuffle=True, random_state=42)\n",
    "testB = fetch_20newsgroups(subset='test',\n",
    "   categories=options, shuffle=True, random_state=42)"
   ]
  },
  {
   "cell_type": "code",
   "execution_count": null,
   "metadata": {},
   "outputs": [
    {
     "data": {
      "text/plain": [
       "['alt.atheism', 'comp.graphics', 'sci.med', 'soc.religion.christian']"
      ]
     },
     "execution_count": 3,
     "metadata": {},
     "output_type": "execute_result"
    }
   ],
   "source": [
    "trainB.target_names"
   ]
  },
  {
   "cell_type": "code",
   "execution_count": null,
   "metadata": {},
   "outputs": [
    {
     "data": {
      "text/plain": [
       "array([1, 1, 3, ..., 2, 2, 2])"
      ]
     },
     "execution_count": 7,
     "metadata": {},
     "output_type": "execute_result"
    }
   ],
   "source": [
    "(trainB.target)"
   ]
  },
  {
   "cell_type": "code",
   "execution_count": null,
   "metadata": {},
   "outputs": [],
   "source": []
  }
 ],
 "metadata": {
  "kernelspec": {
   "display_name": "Python 3",
   "language": "python",
   "name": "python3"
  },
  "language_info": {
   "codemirror_mode": {
    "name": "ipython",
    "version": 3
   },
   "file_extension": ".py",
   "mimetype": "text/x-python",
   "name": "python",
   "nbconvert_exporter": "python",
   "pygments_lexer": "ipython3",
   "version": "3.12.0"
  }
 },
 "nbformat": 4,
 "nbformat_minor": 2
}
