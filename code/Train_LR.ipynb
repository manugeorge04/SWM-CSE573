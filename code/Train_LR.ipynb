{
 "cells": [
  {
   "cell_type": "code",
   "execution_count": 0,
   "metadata": {
    "colab": {
     "base_uri": "https://localhost:8080/",
     "height": 799
    },
    "colab_type": "code",
    "id": "z6wkT68kSFhm",
    "outputId": "ec42b197-95fa-47a4-ba68-ba1fa1495e25"
   },
   "outputs": [
    {
     "name": "stdout",
     "output_type": "stream",
     "text": [
      "[nltk_data] Downloading collection 'popular'\n",
      "[nltk_data]    | \n",
      "[nltk_data]    | Downloading package cmudict to /root/nltk_data...\n",
      "[nltk_data]    |   Unzipping corpora/cmudict.zip.\n",
      "[nltk_data]    | Downloading package gazetteers to /root/nltk_data...\n",
      "[nltk_data]    |   Unzipping corpora/gazetteers.zip.\n",
      "[nltk_data]    | Downloading package genesis to /root/nltk_data...\n",
      "[nltk_data]    |   Unzipping corpora/genesis.zip.\n",
      "[nltk_data]    | Downloading package gutenberg to /root/nltk_data...\n",
      "[nltk_data]    |   Unzipping corpora/gutenberg.zip.\n",
      "[nltk_data]    | Downloading package inaugural to /root/nltk_data...\n",
      "[nltk_data]    |   Unzipping corpora/inaugural.zip.\n",
      "[nltk_data]    | Downloading package movie_reviews to\n",
      "[nltk_data]    |     /root/nltk_data...\n",
      "[nltk_data]    |   Unzipping corpora/movie_reviews.zip.\n",
      "[nltk_data]    | Downloading package names to /root/nltk_data...\n",
      "[nltk_data]    |   Unzipping corpora/names.zip.\n",
      "[nltk_data]    | Downloading package shakespeare to /root/nltk_data...\n",
      "[nltk_data]    |   Unzipping corpora/shakespeare.zip.\n",
      "[nltk_data]    | Downloading package stopwords to /root/nltk_data...\n",
      "[nltk_data]    |   Unzipping corpora/stopwords.zip.\n",
      "[nltk_data]    | Downloading package treebank to /root/nltk_data...\n",
      "[nltk_data]    |   Unzipping corpora/treebank.zip.\n",
      "[nltk_data]    | Downloading package twitter_samples to\n",
      "[nltk_data]    |     /root/nltk_data...\n",
      "[nltk_data]    |   Unzipping corpora/twitter_samples.zip.\n",
      "[nltk_data]    | Downloading package omw to /root/nltk_data...\n",
      "[nltk_data]    |   Unzipping corpora/omw.zip.\n",
      "[nltk_data]    | Downloading package wordnet to /root/nltk_data...\n",
      "[nltk_data]    |   Unzipping corpora/wordnet.zip.\n",
      "[nltk_data]    | Downloading package wordnet_ic to /root/nltk_data...\n",
      "[nltk_data]    |   Unzipping corpora/wordnet_ic.zip.\n",
      "[nltk_data]    | Downloading package words to /root/nltk_data...\n",
      "[nltk_data]    |   Unzipping corpora/words.zip.\n",
      "[nltk_data]    | Downloading package maxent_ne_chunker to\n",
      "[nltk_data]    |     /root/nltk_data...\n",
      "[nltk_data]    |   Unzipping chunkers/maxent_ne_chunker.zip.\n",
      "[nltk_data]    | Downloading package punkt to /root/nltk_data...\n",
      "[nltk_data]    |   Unzipping tokenizers/punkt.zip.\n",
      "[nltk_data]    | Downloading package snowball_data to\n",
      "[nltk_data]    |     /root/nltk_data...\n",
      "[nltk_data]    | Downloading package averaged_perceptron_tagger to\n",
      "[nltk_data]    |     /root/nltk_data...\n",
      "[nltk_data]    |   Unzipping taggers/averaged_perceptron_tagger.zip.\n",
      "[nltk_data]    | \n",
      "[nltk_data]  Done downloading collection popular\n"
     ]
    }
   ],
   "source": [
    "import nltk\n",
    "import pandas as pd\n",
    "import numpy as np\n",
    "nltk.download(\"popular\")\n",
    "from nltk.corpus import stopwords\n",
    "from sklearn.feature_extraction.text import CountVectorizer\n",
    "from sklearn.feature_extraction.text import TfidfTransformer\n",
    "from sklearn.decomposition import PCA\n",
    "from sklearn import preprocessing\n",
    "from sklearn.linear_model import LogisticRegression\n",
    "from sklearn.model_selection import train_test_split\n",
    "from sklearn.metrics import accuracy_score, f1_score, classification_report\n",
    "stop_words = set(stopwords.words('english'))"
   ]
  },
  {
   "cell_type": "code",
   "execution_count": 0,
   "metadata": {
    "colab": {},
    "colab_type": "code",
    "id": "v5Lg6YOOTebQ"
   },
   "outputs": [],
   "source": [
    "df = pd.read_csv('./final1440_aapl.csv')"
   ]
  },
  {
   "cell_type": "code",
   "execution_count": 0,
   "metadata": {
    "colab": {
     "base_uri": "https://localhost:8080/",
     "height": 419
    },
    "colab_type": "code",
    "id": "7fC_MiiAYlXZ",
    "outputId": "90eb1a29-d989-48ce-a787-ca583136443a"
   },
   "outputs": [
    {
     "data": {
      "text/html": [
       "<div>\n",
       "<style scoped>\n",
       "    .dataframe tbody tr th:only-of-type {\n",
       "        vertical-align: middle;\n",
       "    }\n",
       "\n",
       "    .dataframe tbody tr th {\n",
       "        vertical-align: top;\n",
       "    }\n",
       "\n",
       "    .dataframe thead th {\n",
       "        text-align: right;\n",
       "    }\n",
       "</style>\n",
       "<table border=\"1\" class=\"dataframe\">\n",
       "  <thead>\n",
       "    <tr style=\"text-align: right;\">\n",
       "      <th></th>\n",
       "      <th>Unnamed: 0</th>\n",
       "      <th>text</th>\n",
       "      <th>sentiment</th>\n",
       "      <th>label</th>\n",
       "      <th>stock_time</th>\n",
       "    </tr>\n",
       "  </thead>\n",
       "  <tbody>\n",
       "    <tr>\n",
       "      <th>0</th>\n",
       "      <td>0</td>\n",
       "      <td>2018 nape global busi confer held februari 7 2...</td>\n",
       "      <td>0.024667</td>\n",
       "      <td>1.0</td>\n",
       "      <td>2017-12-08 05:00:00</td>\n",
       "    </tr>\n",
       "    <tr>\n",
       "      <th>1</th>\n",
       "      <td>1</td>\n",
       "      <td>725 s8 25 iphon 8 perhap ngalaxi s8 best smart...</td>\n",
       "      <td>0.091103</td>\n",
       "      <td>-1.0</td>\n",
       "      <td>2017-12-11 05:00:00</td>\n",
       "    </tr>\n",
       "    <tr>\n",
       "      <th>2</th>\n",
       "      <td>2</td>\n",
       "      <td>web publish would wise rememb arent kind bad a...</td>\n",
       "      <td>0.016494</td>\n",
       "      <td>1.0</td>\n",
       "      <td>2017-12-12 05:00:00</td>\n",
       "    </tr>\n",
       "    <tr>\n",
       "      <th>3</th>\n",
       "      <td>3</td>\n",
       "      <td>fact cobalt mine mainli byproduct metal copper...</td>\n",
       "      <td>0.013467</td>\n",
       "      <td>-1.0</td>\n",
       "      <td>2017-12-13 05:00:00</td>\n",
       "    </tr>\n",
       "    <tr>\n",
       "      <th>4</th>\n",
       "      <td>4</td>\n",
       "      <td>snap nyse snap cramer fan cramer trust doesnt ...</td>\n",
       "      <td>0.031292</td>\n",
       "      <td>1.0</td>\n",
       "      <td>2017-12-15 05:00:00</td>\n",
       "    </tr>\n",
       "    <tr>\n",
       "      <th>...</th>\n",
       "      <td>...</td>\n",
       "      <td>...</td>\n",
       "      <td>...</td>\n",
       "      <td>...</td>\n",
       "      <td>...</td>\n",
       "    </tr>\n",
       "    <tr>\n",
       "      <th>281</th>\n",
       "      <td>281</td>\n",
       "      <td>2019 tast year got scorcher blaze hot melbourn...</td>\n",
       "      <td>0.012952</td>\n",
       "      <td>1.0</td>\n",
       "      <td>2019-01-28 05:00:00</td>\n",
       "    </tr>\n",
       "    <tr>\n",
       "      <th>282</th>\n",
       "      <td>282</td>\n",
       "      <td>aapl topic sever report compani offer iphon li...</td>\n",
       "      <td>0.011818</td>\n",
       "      <td>1.0</td>\n",
       "      <td>2019-01-29 05:00:00</td>\n",
       "    </tr>\n",
       "    <tr>\n",
       "      <th>283</th>\n",
       "      <td>283</td>\n",
       "      <td>httpswwwyoutubecomwatchv6enwkf1sqog tag aapl a...</td>\n",
       "      <td>0.009776</td>\n",
       "      <td>1.0</td>\n",
       "      <td>2019-01-30 05:00:00</td>\n",
       "    </tr>\n",
       "    <tr>\n",
       "      <th>284</th>\n",
       "      <td>284</td>\n",
       "      <td>compani offer iphon line smartphon ipad line m...</td>\n",
       "      <td>0.009638</td>\n",
       "      <td>1.0</td>\n",
       "      <td>2019-01-31 05:00:00</td>\n",
       "    </tr>\n",
       "    <tr>\n",
       "      <th>285</th>\n",
       "      <td>285</td>\n",
       "      <td>2020 version would reportedli includ laserpow ...</td>\n",
       "      <td>0.013898</td>\n",
       "      <td>1.0</td>\n",
       "      <td>2019-02-01 05:00:00</td>\n",
       "    </tr>\n",
       "  </tbody>\n",
       "</table>\n",
       "<p>286 rows × 5 columns</p>\n",
       "</div>"
      ],
      "text/plain": [
       "     Unnamed: 0  ...           stock_time\n",
       "0             0  ...  2017-12-08 05:00:00\n",
       "1             1  ...  2017-12-11 05:00:00\n",
       "2             2  ...  2017-12-12 05:00:00\n",
       "3             3  ...  2017-12-13 05:00:00\n",
       "4             4  ...  2017-12-15 05:00:00\n",
       "..          ...  ...                  ...\n",
       "281         281  ...  2019-01-28 05:00:00\n",
       "282         282  ...  2019-01-29 05:00:00\n",
       "283         283  ...  2019-01-30 05:00:00\n",
       "284         284  ...  2019-01-31 05:00:00\n",
       "285         285  ...  2019-02-01 05:00:00\n",
       "\n",
       "[286 rows x 5 columns]"
      ]
     },
     "execution_count": 3,
     "metadata": {
      "tags": []
     },
     "output_type": "execute_result"
    }
   ],
   "source": [
    "df"
   ]
  },
  {
   "cell_type": "code",
   "execution_count": 0,
   "metadata": {
    "colab": {},
    "colab_type": "code",
    "id": "gh_VQ3OvTEy7"
   },
   "outputs": [],
   "source": [
    "# train with text and sentiment\n",
    "text = df['text']\n",
    "sent = df['sentiment']\n",
    "labels = df['label']\n",
    "\n",
    "# generate ngrams = 2,2 or 2,3 with Count Vectorizer\n",
    "count_vectorizer = CountVectorizer(max_df=0.8, min_df=0.02, stop_words=stop_words, ngram_range=(2,2))\n",
    "X = count_vectorizer.fit_transform(text)\n",
    "\n",
    "# use TfIdf to determine freq\n",
    "tfidf = TfidfTransformer(smooth_idf=True, use_idf=True)\n",
    "X = tfidf.fit_transform(X).toarray()\n",
    "\n",
    "# use PCA to generate final text dataset\n",
    "pca = PCA(n_components=3)\n",
    "pca_comp = pca.fit_transform(X)\n",
    "\n",
    "# join text and sentiment\n",
    "finalXtrain = np.hstack((pca_comp, np.atleast_2d(sent).T))\n",
    "\n",
    "# create train and test split\n",
    "X_train, X_test, y_train, y_test = train_test_split(finalXtrain, labels, test_size=0.3, random_state=23)\n",
    "\n",
    "# scale the data\n",
    "minmaxScaler = preprocessing.MinMaxScaler()\n",
    "scaled_x_train = minmaxScaler.fit_transform(X_train)\n",
    "scaled_x_test = minmaxScaler.fit_transform(X_test)"
   ]
  },
  {
   "cell_type": "code",
   "execution_count": 0,
   "metadata": {
    "colab": {
     "base_uri": "https://localhost:8080/",
     "height": 221
    },
    "colab_type": "code",
    "id": "hK3XbjZuUo7W",
    "outputId": "a7de1da2-383b-4708-fda9-e5765a77992c"
   },
   "outputs": [
    {
     "name": "stdout",
     "output_type": "stream",
     "text": [
      "Training accuracy is 0.535\n",
      "Testing accuracy is 0.6046511627906976\n",
      "F1 score is 0.7068965517241379\n",
      "Classifcation report:               precision    recall  f1-score   support\n",
      "\n",
      "        -1.0       0.39      0.39      0.39        28\n",
      "         1.0       0.71      0.71      0.71        58\n",
      "\n",
      "    accuracy                           0.60        86\n",
      "   macro avg       0.55      0.55      0.55        86\n",
      "weighted avg       0.60      0.60      0.60        86\n",
      "\n"
     ]
    }
   ],
   "source": [
    "# evaluation for ngrams and sentiment\n",
    "\n",
    "# create and train LR model\n",
    "lr_model = LogisticRegression(random_state=10)\n",
    "lr_model.fit(scaled_x_train,y_train)\n",
    "\n",
    "# generate prediction\n",
    "y_train_pred = lr_model.predict(scaled_x_train)\n",
    "y_test_pred = lr_model.predict(scaled_x_test)\n",
    "\n",
    "# display train and test accuracy\n",
    "train_accuracy = accuracy_score(y_train, y_train_pred)\n",
    "print('Training accuracy is {0}'.format(train_accuracy))\n",
    "test_accuracy = accuracy_score(y_test, y_test_pred)\n",
    "print('Testing accuracy is {0}'.format(test_accuracy))\n",
    "\n",
    "# display f-1 score\n",
    "f1score = f1_score(y_test, y_test_pred)\n",
    "print('F1 score is {0}'.format(f1score))\n",
    "\n",
    "# display classification report\n",
    "report = classification_report(y_test, y_test_pred)\n",
    "print('Classifcation report: {0}'.format(report))"
   ]
  },
  {
   "cell_type": "code",
   "execution_count": 0,
   "metadata": {
    "colab": {},
    "colab_type": "code",
    "id": "Qc1H-04hXzGf"
   },
   "outputs": [],
   "source": [
    "# train with ngrams\n",
    "text = df['text']\n",
    "labels = df['label']\n",
    "\n",
    "# generate ngrams = 2,2 or 2,3 with Count Vectorizer\n",
    "count_vectorizer = CountVectorizer(max_df=0.8, min_df=0.02, stop_words=stop_words, ngram_range=(2,2))\n",
    "X = count_vectorizer.fit_transform(text)\n",
    "\n",
    "# use TfIdf to determine freq\n",
    "tfidf = TfidfTransformer(smooth_idf=True, use_idf=True)\n",
    "X = tfidf.fit_transform(X).toarray()\n",
    "\n",
    "# use PCA to generate final text dataset\n",
    "pca = PCA(n_components=3)\n",
    "finalXtrain = pca.fit_transform(X)\n",
    "\n",
    "# create train and test split\n",
    "X_train, X_test, y_train, y_test = train_test_split(finalXtrain, labels, test_size=0.3, random_state=23)\n",
    "\n",
    "# scale the data\n",
    "minmaxScaler = preprocessing.MinMaxScaler()\n",
    "scaled_x_train = minmaxScaler.fit_transform(X_train)\n",
    "scaled_x_test = minmaxScaler.fit_transform(X_test)"
   ]
  },
  {
   "cell_type": "code",
   "execution_count": 0,
   "metadata": {
    "colab": {
     "base_uri": "https://localhost:8080/",
     "height": 221
    },
    "colab_type": "code",
    "id": "Hl7HU1K7YAQf",
    "outputId": "680cf435-d3ab-4b2d-bee4-c7d939901cc7"
   },
   "outputs": [
    {
     "name": "stdout",
     "output_type": "stream",
     "text": [
      "Training accuracy is 0.5\n",
      "Testing accuracy is 0.46511627906976744\n",
      "F1 score is 0.5\n",
      "Classifcation report:               precision    recall  f1-score   support\n",
      "\n",
      "        -1.0       0.33      0.61      0.42        28\n",
      "         1.0       0.68      0.40      0.50        58\n",
      "\n",
      "    accuracy                           0.47        86\n",
      "   macro avg       0.50      0.50      0.46        86\n",
      "weighted avg       0.56      0.47      0.48        86\n",
      "\n"
     ]
    }
   ],
   "source": [
    "# evaluation for ngrams\n",
    "\n",
    "# create and train LR model\n",
    "lr_model = LogisticRegression(random_state=10)\n",
    "lr_model.fit(scaled_x_train,y_train)\n",
    "\n",
    "# generate prediction\n",
    "y_train_pred = lr_model.predict(scaled_x_train)\n",
    "y_test_pred = lr_model.predict(scaled_x_test)\n",
    "\n",
    "# display train and test accuracy\n",
    "train_accuracy = accuracy_score(y_train, y_train_pred)\n",
    "print('Training accuracy is {0}'.format(train_accuracy))\n",
    "test_accuracy = accuracy_score(y_test, y_test_pred)\n",
    "print('Testing accuracy is {0}'.format(test_accuracy))\n",
    "\n",
    "# display f-1 score\n",
    "f1score = f1_score(y_test, y_test_pred)\n",
    "print('F1 score is {0}'.format(f1score))\n",
    "\n",
    "# display classification report\n",
    "report = classification_report(y_test, y_test_pred)\n",
    "print('Classifcation report: {0}'.format(report))"
   ]
  },
  {
   "cell_type": "code",
   "execution_count": 0,
   "metadata": {
    "colab": {},
    "colab_type": "code",
    "id": "L7fBGSbJa7Ho"
   },
   "outputs": [],
   "source": []
  }
 ],
 "metadata": {
  "colab": {
   "collapsed_sections": [],
   "name": "Train_LR.ipynb",
   "provenance": []
  },
  "kernelspec": {
   "display_name": "Python 3",
   "language": "python",
   "name": "python3"
  },
  "language_info": {
   "codemirror_mode": {
    "name": "ipython",
    "version": 3
   },
   "file_extension": ".py",
   "mimetype": "text/x-python",
   "name": "python",
   "nbconvert_exporter": "python",
   "pygments_lexer": "ipython3",
   "version": "3.6.9"
  }
 },
 "nbformat": 4,
 "nbformat_minor": 1
}
