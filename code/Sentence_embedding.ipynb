{
 "cells": [
  {
   "cell_type": "code",
   "execution_count": 1,
   "metadata": {
    "colab": {
     "base_uri": "https://localhost:8080/",
     "height": 870
    },
    "colab_type": "code",
    "id": "SWGO1AXDgz2G",
    "outputId": "c93f2932-0c87-44ae-bc1e-25b3a2423174"
   },
   "outputs": [
    {
     "name": "stdout",
     "output_type": "stream",
     "text": [
      "Collecting sentence-transformers\n",
      "  Downloading https://files.pythonhosted.org/packages/b9/46/b7d6c37d92d1bd65319220beabe4df845434930e3f30e42d3cfaecb74dc4/sentence-transformers-0.2.6.1.tar.gz (55kB)\n",
      "\u001b[K    100% |████████████████████████████████| 61kB 988kB/s ta 0:00:011\n",
      "\u001b[?25hCollecting transformers>=2.8.0 (from sentence-transformers)\n",
      "  Using cached https://files.pythonhosted.org/packages/a3/78/92cedda05552398352ed9784908b834ee32a0bd071a9b32de287327370b7/transformers-2.8.0-py3-none-any.whl\n",
      "Collecting tqdm (from sentence-transformers)\n",
      "  Using cached https://files.pythonhosted.org/packages/4a/1c/6359be64e8301b84160f6f6f7936bbfaaa5e9a4eab6cbc681db07600b949/tqdm-4.45.0-py2.py3-none-any.whl\n",
      "Collecting torch>=1.0.1 (from sentence-transformers)\n",
      "\u001b[33m  Cache entry deserialization failed, entry ignored\u001b[0m\n",
      "  Downloading https://files.pythonhosted.org/packages/13/70/54e9fb010fe1547bc4774716f11ececb81ae5b306c05f090f4461ee13205/torch-1.5.0-cp36-cp36m-manylinux1_x86_64.whl (752.0MB)\n",
      "\u001b[K    100% |████████████████████████████████| 752.0MB 2.5kB/s ta 0:00:0122\n",
      "\u001b[?25hCollecting numpy (from sentence-transformers)\n",
      "  Using cached https://files.pythonhosted.org/packages/3d/fc/4763e5f17ac6e7e7d55f377cde859ca1c5d5ac624441ab45315bc578aa9e/numpy-1.18.3-cp36-cp36m-manylinux1_x86_64.whl\n",
      "Collecting scikit-learn (from sentence-transformers)\n",
      "  Using cached https://files.pythonhosted.org/packages/5e/d8/312e03adf4c78663e17d802fe2440072376fee46cada1404f1727ed77a32/scikit_learn-0.22.2.post1-cp36-cp36m-manylinux1_x86_64.whl\n",
      "Collecting scipy (from sentence-transformers)\n",
      "  Using cached https://files.pythonhosted.org/packages/dc/29/162476fd44203116e7980cfbd9352eef9db37c49445d1fec35509022f6aa/scipy-1.4.1-cp36-cp36m-manylinux1_x86_64.whl\n",
      "Collecting nltk (from sentence-transformers)\n",
      "Collecting sentencepiece (from transformers>=2.8.0->sentence-transformers)\n",
      "  Using cached https://files.pythonhosted.org/packages/98/2c/8df20f3ac6c22ac224fff307ebc102818206c53fc454ecd37d8ac2060df5/sentencepiece-0.1.86-cp36-cp36m-manylinux1_x86_64.whl\n",
      "Collecting sacremoses (from transformers>=2.8.0->sentence-transformers)\n",
      "Collecting boto3 (from transformers>=2.8.0->sentence-transformers)\n",
      "  Using cached https://files.pythonhosted.org/packages/8c/b9/d9da1f57c0535afacbdf20f3f0ce0c6cdae1b8adab0fd48459c6d72222e5/boto3-1.12.46-py2.py3-none-any.whl\n",
      "Collecting tokenizers==0.5.2 (from transformers>=2.8.0->sentence-transformers)\n",
      "  Using cached https://files.pythonhosted.org/packages/d1/3f/73c881ea4723e43c1e9acf317cf407fab3a278daab3a69c98dcac511c04f/tokenizers-0.5.2-cp36-cp36m-manylinux1_x86_64.whl\n",
      "Collecting requests (from transformers>=2.8.0->sentence-transformers)\n",
      "  Using cached https://files.pythonhosted.org/packages/1a/70/1935c770cb3be6e3a8b78ced23d7e0f3b187f5cbfab4749523ed65d7c9b1/requests-2.23.0-py2.py3-none-any.whl\n",
      "Collecting dataclasses; python_version < \"3.7\" (from transformers>=2.8.0->sentence-transformers)\n",
      "  Using cached https://files.pythonhosted.org/packages/e1/d2/6f02df2616fd4016075f60157c7a0452b38d8f7938ae94343911e0fb0b09/dataclasses-0.7-py3-none-any.whl\n",
      "Collecting filelock (from transformers>=2.8.0->sentence-transformers)\n",
      "  Using cached https://files.pythonhosted.org/packages/93/83/71a2ee6158bb9f39a90c0dea1637f81d5eef866e188e1971a1b1ab01a35a/filelock-3.0.12-py3-none-any.whl\n",
      "Collecting regex!=2019.12.17 (from transformers>=2.8.0->sentence-transformers)\n",
      "  Using cached https://files.pythonhosted.org/packages/1d/c1/c90beb2dbbfbf19f3634e16a441d5f11fa787bdf0748a35b8b88452c0e78/regex-2020.4.4-cp36-cp36m-manylinux1_x86_64.whl\n",
      "Collecting future (from torch>=1.0.1->sentence-transformers)\n",
      "  Downloading https://files.pythonhosted.org/packages/45/0b/38b06fd9b92dc2b68d58b75f900e97884c45bedd2ff83203d933cf5851c9/future-0.18.2.tar.gz (829kB)\n",
      "\u001b[K    100% |████████████████████████████████| 829kB 1.4MB/s ta 0:00:011\n",
      "\u001b[?25hCollecting joblib>=0.11 (from scikit-learn->sentence-transformers)\n",
      "  Using cached https://files.pythonhosted.org/packages/28/5c/cf6a2b65a321c4a209efcdf64c2689efae2cb62661f8f6f4bb28547cf1bf/joblib-0.14.1-py2.py3-none-any.whl\n",
      "Collecting click (from nltk->sentence-transformers)\n",
      "  Using cached https://files.pythonhosted.org/packages/dd/c0/4d8f43a9b16e289f36478422031b8a63b54b6ac3b1ba605d602f10dd54d6/click-7.1.1-py2.py3-none-any.whl\n",
      "Collecting six (from sacremoses->transformers>=2.8.0->sentence-transformers)\n",
      "  Using cached https://files.pythonhosted.org/packages/65/eb/1f97cb97bfc2390a276969c6fae16075da282f5058082d4cb10c6c5c1dba/six-1.14.0-py2.py3-none-any.whl\n",
      "Collecting s3transfer<0.4.0,>=0.3.0 (from boto3->transformers>=2.8.0->sentence-transformers)\n",
      "  Using cached https://files.pythonhosted.org/packages/69/79/e6afb3d8b0b4e96cefbdc690f741d7dd24547ff1f94240c997a26fa908d3/s3transfer-0.3.3-py2.py3-none-any.whl\n",
      "Collecting botocore<1.16.0,>=1.15.46 (from boto3->transformers>=2.8.0->sentence-transformers)\n",
      "  Using cached https://files.pythonhosted.org/packages/6c/21/d015b86c8fa291f78e8fe7d7cf0a60645989efa5db5e8302e2b7ccf9539a/botocore-1.15.46-py2.py3-none-any.whl\n",
      "Collecting jmespath<1.0.0,>=0.7.1 (from boto3->transformers>=2.8.0->sentence-transformers)\n",
      "  Using cached https://files.pythonhosted.org/packages/a3/43/1e939e1fcd87b827fe192d0c9fc25b48c5b3368902bfb913de7754b0dc03/jmespath-0.9.5-py2.py3-none-any.whl\n",
      "Collecting idna<3,>=2.5 (from requests->transformers>=2.8.0->sentence-transformers)\n",
      "  Using cached https://files.pythonhosted.org/packages/89/e3/afebe61c546d18fb1709a61bee788254b40e736cff7271c7de5de2dc4128/idna-2.9-py2.py3-none-any.whl\n",
      "Collecting certifi>=2017.4.17 (from requests->transformers>=2.8.0->sentence-transformers)\n",
      "  Using cached https://files.pythonhosted.org/packages/57/2b/26e37a4b034800c960a00c4e1b3d9ca5d7014e983e6e729e33ea2f36426c/certifi-2020.4.5.1-py2.py3-none-any.whl\n",
      "Collecting chardet<4,>=3.0.2 (from requests->transformers>=2.8.0->sentence-transformers)\n",
      "  Using cached https://files.pythonhosted.org/packages/bc/a9/01ffebfb562e4274b6487b4bb1ddec7ca55ec7510b22e4c51f14098443b8/chardet-3.0.4-py2.py3-none-any.whl\n",
      "Collecting urllib3!=1.25.0,!=1.25.1,<1.26,>=1.21.1 (from requests->transformers>=2.8.0->sentence-transformers)\n",
      "  Using cached https://files.pythonhosted.org/packages/e1/e5/df302e8017440f111c11cc41a6b432838672f5a70aa29227bf58149dc72f/urllib3-1.25.9-py2.py3-none-any.whl\n",
      "Collecting docutils<0.16,>=0.10 (from botocore<1.16.0,>=1.15.46->boto3->transformers>=2.8.0->sentence-transformers)\n",
      "  Using cached https://files.pythonhosted.org/packages/22/cd/a6aa959dca619918ccb55023b4cb151949c64d4d5d55b3f4ffd7eee0c6e8/docutils-0.15.2-py3-none-any.whl\n",
      "Collecting python-dateutil<3.0.0,>=2.1 (from botocore<1.16.0,>=1.15.46->boto3->transformers>=2.8.0->sentence-transformers)\n",
      "  Using cached https://files.pythonhosted.org/packages/d4/70/d60450c3dd48ef87586924207ae8907090de0b306af2bce5d134d78615cb/python_dateutil-2.8.1-py2.py3-none-any.whl\n",
      "Building wheels for collected packages: sentence-transformers, future\n",
      "  Running setup.py bdist_wheel for sentence-transformers ... \u001b[?25ldone\n",
      "\u001b[?25h  Stored in directory: /home/adnaks/.cache/pip/wheels/d7/fa/17/2b081a8cd8b0a86753fb0e9826b3cc19f0207062c0b2da7008\n",
      "  Running setup.py bdist_wheel for future ... \u001b[?25ldone\n",
      "\u001b[?25h  Stored in directory: /home/adnaks/.cache/pip/wheels/8b/99/a0/81daf51dcd359a9377b110a8a886b3895921802d2fc1b2397e\n",
      "Successfully built sentence-transformers future\n",
      "Installing collected packages: sentencepiece, click, tqdm, joblib, six, regex, sacremoses, docutils, urllib3, python-dateutil, jmespath, botocore, s3transfer, boto3, tokenizers, idna, certifi, chardet, requests, numpy, dataclasses, filelock, transformers, future, torch, scipy, scikit-learn, nltk, sentence-transformers\n",
      "Successfully installed boto3-1.12.46 botocore-1.15.46 certifi-2020.4.5.1 chardet-3.0.4 click-7.1.1 dataclasses-0.7 docutils-0.15.2 filelock-3.0.12 future-0.18.2 idna-2.9 jmespath-0.9.5 joblib-0.14.1 nltk-3.5 numpy-1.18.3 python-dateutil-2.8.1 regex-2020.4.4 requests-2.23.0 s3transfer-0.3.3 sacremoses-0.0.41 scikit-learn-0.22.2.post1 scipy-1.4.1 sentence-transformers-0.2.6.1 sentencepiece-0.1.86 six-1.14.0 tokenizers-0.5.2 torch-1.5.0 tqdm-4.45.0 transformers-2.8.0 urllib3-1.25.9\n"
     ]
    }
   ],
   "source": [
    "!pip3 install -U sentence-transformers"
   ]
  },
  {
   "cell_type": "code",
   "execution_count": 3,
   "metadata": {
    "colab": {
     "base_uri": "https://localhost:8080/",
     "height": 52
    },
    "colab_type": "code",
    "id": "Oc4Gw4fT9sjI",
    "outputId": "0de60680-6572-449e-81fe-2c5ffaa56f7d"
   },
   "outputs": [
    {
     "name": "stderr",
     "output_type": "stream",
     "text": [
      "[nltk_data] Downloading package punkt to /home/adnaks/nltk_data...\n",
      "[nltk_data]   Package punkt is already up-to-date!\n"
     ]
    }
   ],
   "source": [
    "import os\n",
    "import numpy as np\n",
    "import pandas as pd\n",
    "#from google.colab import drive\n",
    "import nltk\n",
    "from nltk.tokenize import sent_tokenize\n",
    "nltk.download('punkt')\n",
    "from sentence_transformers import SentenceTransformer, LoggingHandler\n",
    "import logging"
   ]
  },
  {
   "cell_type": "code",
   "execution_count": 4,
   "metadata": {
    "colab": {},
    "colab_type": "code",
    "id": "oRQ8lHSf9uG9"
   },
   "outputs": [],
   "source": [
    "MAX_LEN=512"
   ]
  },
  {
   "cell_type": "code",
   "execution_count": 5,
   "metadata": {
    "colab": {},
    "colab_type": "code",
    "id": "tNYR0Hu3V8tw"
   },
   "outputs": [],
   "source": [
    "def split_document_to_chunks(row, field_name, chunk_len):\n",
    "    text = row[field_name]\n",
    "    if(text!='[]'):\n",
    "        label = row['label']\n",
    "        sentences = sent_tokenize(text)\n",
    "        output = []\n",
    "        for i in range(0,len(sentences), chunk_len):\n",
    "            if(i+chunk_len < len(sentences)):\n",
    "                chunk = ''.join(sentences[i:i+chunk_len])\n",
    "            else:\n",
    "                chunk = ''.join(sentences[i:len(sentences)])\n",
    "            output.append((chunk,label))\n",
    "        return output\n",
    "def prepare_data_set(data_set):\n",
    "    chunked_text_labels = data_set.apply(split_document_to_chunks, args=('filteredtext_aapl', 3), axis=1)\n",
    "    X=[]\n",
    "    y=[]\n",
    "    for chunks in chunked_text_labels:\n",
    "        if(chunks is not None):\n",
    "            for chunk in chunks:\n",
    "                X.append(chunk[0])\n",
    "                y.append(chunk[1])\n",
    "    return X,y"
   ]
  },
  {
   "cell_type": "code",
   "execution_count": 6,
   "metadata": {
    "colab": {},
    "colab_type": "code",
    "id": "bAxqs_PR97Ta"
   },
   "outputs": [],
   "source": [
    "df = pd.read_csv('../Data/final_dataset_joined_aapl240_onlyMentions.csv')"
   ]
  },
  {
   "cell_type": "code",
   "execution_count": 7,
   "metadata": {
    "colab": {},
    "colab_type": "code",
    "id": "Dzb03A5M-kOS"
   },
   "outputs": [],
   "source": [
    "del df['Unnamed: 0']\n",
    "train_df = df[df.stock_time <= \"2018-12-01 00:00:00\"]\n",
    "test_df = df[df.stock_time > \"2018-12-01 00:00:00\"]\n",
    "#df = df[df.filteredtext_aapl != '[]']\n",
    "#df.index = range(df.shape[0])\n",
    "#df['encoded_aapl'] = df.filteredtext_aapl.apply(text_encoder, args=(tokenizer, MAX_LEN))\n",
    "#train_df = df[df.stock_time <= \"2018-12-01 00:00:00\"]\n",
    "#test_df = df[df.stock_time > \"2018-12-01 00:00:00\"]"
   ]
  },
  {
   "cell_type": "code",
   "execution_count": 8,
   "metadata": {
    "colab": {},
    "colab_type": "code",
    "id": "912cYFdv-q9V"
   },
   "outputs": [],
   "source": [
    "'''\n",
    "train_input = aapl_news[train_df.index]\n",
    "train_label = labels[train_df.index]\n",
    "test_input = aapl_news[test_df.index]\n",
    "test_label = labels[test_df.index]\n",
    "'''\n",
    "train_input, train_label = prepare_data_set(train_df)\n",
    "test_input, test_label = prepare_data_set(test_df)\n",
    "#train_label[train_label == -1] = 0\n",
    "#test_label[test_label == -1] = 0"
   ]
  },
  {
   "cell_type": "code",
   "execution_count": 9,
   "metadata": {
    "colab": {
     "base_uri": "https://localhost:8080/",
     "height": 34
    },
    "colab_type": "code",
    "id": "25-QRKDccNRg",
    "outputId": "22bc269c-3839-47dc-f532-7391a3035924"
   },
   "outputs": [
    {
     "data": {
      "text/plain": [
       "(59278, 59278)"
      ]
     },
     "execution_count": 9,
     "metadata": {},
     "output_type": "execute_result"
    }
   ],
   "source": [
    "train_label = np.array(train_label)\n",
    "test_label = np.array(test_label)\n",
    "train_label[train_label == -1] = 0\n",
    "test_label[test_label == -1] = 0\n",
    "len(train_input), len(train_label)"
   ]
  },
  {
   "cell_type": "code",
   "execution_count": 10,
   "metadata": {
    "colab": {
     "base_uri": "https://localhost:8080/",
     "height": 34
    },
    "colab_type": "code",
    "id": "lUPPo-D_cvah",
    "outputId": "8a418b8c-baa7-40af-ba6b-fcae79379eb9"
   },
   "outputs": [
    {
     "data": {
      "text/plain": [
       "(13349, 13349)"
      ]
     },
     "execution_count": 10,
     "metadata": {},
     "output_type": "execute_result"
    }
   ],
   "source": [
    "len(test_input), len(test_label)"
   ]
  },
  {
   "cell_type": "code",
   "execution_count": 15,
   "metadata": {
    "colab": {
     "base_uri": "https://localhost:8080/",
     "height": 34
    },
    "colab_type": "code",
    "id": "WKAUB-mwSSdg",
    "outputId": "4fca1c3a-589f-4fb4-f6a8-49f648c0a08f"
   },
   "outputs": [
    {
     "name": "stderr",
     "output_type": "stream",
     "text": [
      "\n",
      "  0%|          | 0.00/405M [00:00<?, ?B/s]\u001b[A\n",
      "  0%|          | 16.4k/405M [00:00<1:07:00, 101kB/s]\u001b[A\n",
      "  0%|          | 32.8k/405M [00:00<1:07:47, 99.6kB/s]\u001b[A\n",
      "  0%|          | 65.5k/405M [00:00<58:18, 116kB/s]   \u001b[A\n",
      "  0%|          | 81.9k/405M [00:00<1:06:06, 102kB/s]\u001b[A\n",
      "  0%|          | 115k/405M [00:00<58:54, 115kB/s]   \u001b[A\n",
      "  0%|          | 147k/405M [00:01<53:53, 125kB/s]\u001b[A\n",
      "  0%|          | 180k/405M [00:01<47:54, 141kB/s]\u001b[A\n",
      "  0%|          | 213k/405M [00:01<48:40, 139kB/s]\u001b[A\n",
      "  0%|          | 262k/405M [00:01<42:33, 159kB/s]\u001b[A\n",
      "  0%|          | 311k/405M [00:01<38:09, 177kB/s]\u001b[A\n",
      "  0%|          | 360k/405M [00:02<35:09, 192kB/s]\u001b[A\n",
      "  0%|          | 410k/405M [00:02<31:25, 215kB/s]\u001b[A\n",
      "  0%|          | 459k/405M [00:02<32:02, 211kB/s]\u001b[A\n",
      "  0%|          | 524k/405M [00:02<27:34, 245kB/s]\u001b[A\n",
      "  0%|          | 590k/405M [00:02<26:47, 252kB/s]\u001b[A\n",
      "  0%|          | 672k/405M [00:03<23:48, 283kB/s]\u001b[A\n",
      "  0%|          | 754k/405M [00:03<20:54, 322kB/s]\u001b[A\n",
      "  0%|          | 836k/405M [00:03<20:30, 329kB/s]\u001b[A\n",
      "  0%|          | 918k/405M [00:03<19:23, 347kB/s]\u001b[A\n",
      "  0%|          | 1.02M/405M [00:03<17:09, 393kB/s]\u001b[A\n",
      "  0%|          | 1.10M/405M [00:04<16:05, 418kB/s]\u001b[A\n",
      "  0%|          | 1.21M/405M [00:04<14:12, 474kB/s]\u001b[A\n",
      "  0%|          | 1.31M/405M [00:04<14:14, 472kB/s]\u001b[A\n",
      "  0%|          | 1.43M/405M [00:04<13:34, 496kB/s]\u001b[A\n",
      "  0%|          | 1.56M/405M [00:04<12:07, 555kB/s]\u001b[A\n",
      "  0%|          | 1.67M/405M [00:05<12:41, 530kB/s]\u001b[A\n",
      "  0%|          | 1.80M/405M [00:05<12:02, 559kB/s]\u001b[A\n",
      "  0%|          | 1.95M/405M [00:05<10:41, 629kB/s]\u001b[A\n",
      "  1%|          | 2.10M/405M [00:05<10:48, 621kB/s]\u001b[A\n",
      "  1%|          | 2.26M/405M [00:05<10:04, 666kB/s]\u001b[A\n",
      "  1%|          | 2.42M/405M [00:06<09:34, 701kB/s]\u001b[A\n",
      "  1%|          | 2.61M/405M [00:06<08:39, 775kB/s]\u001b[A\n",
      "  1%|          | 2.77M/405M [00:06<08:00, 838kB/s]\u001b[A\n",
      "  1%|          | 2.95M/405M [00:06<07:24, 905kB/s]\u001b[A\n",
      "  1%|          | 3.16M/405M [00:06<06:52, 976kB/s]\u001b[A\n",
      "  1%|          | 3.36M/405M [00:06<06:19, 1.06MB/s]\u001b[A\n",
      "  1%|          | 3.59M/405M [00:07<05:54, 1.13MB/s]\u001b[A\n",
      "  1%|          | 3.80M/405M [00:07<05:36, 1.19MB/s]\u001b[A\n",
      "  1%|          | 4.05M/405M [00:07<05:18, 1.26MB/s]\u001b[A\n",
      "  1%|          | 4.29M/405M [00:07<05:04, 1.32MB/s]\u001b[A\n",
      "  1%|          | 4.54M/405M [00:07<04:51, 1.38MB/s]\u001b[A\n",
      "  1%|          | 4.80M/405M [00:07<04:38, 1.44MB/s]\u001b[A\n",
      "  1%|▏         | 5.08M/405M [00:08<04:24, 1.51MB/s]\u001b[A\n",
      "  1%|▏         | 5.37M/405M [00:08<04:16, 1.56MB/s]\u001b[A\n",
      "  1%|▏         | 5.67M/405M [00:08<04:01, 1.66MB/s]\u001b[A\n",
      "  1%|▏         | 5.98M/405M [00:08<03:34, 1.86MB/s]\u001b[A\n",
      "  2%|▏         | 6.18M/405M [00:08<03:30, 1.89MB/s]\u001b[A\n",
      "  2%|▏         | 6.38M/405M [00:08<03:50, 1.73MB/s]\u001b[A\n",
      "  2%|▏         | 6.65M/405M [00:08<03:37, 1.83MB/s]\u001b[A\n",
      "  2%|▏         | 7.00M/405M [00:09<03:15, 2.04MB/s]\u001b[A\n",
      "  2%|▏         | 7.21M/405M [00:09<03:15, 2.03MB/s]\u001b[A\n",
      "  2%|▏         | 7.43M/405M [00:09<03:22, 1.96MB/s]\u001b[A\n",
      "  2%|▏         | 7.75M/405M [00:09<02:59, 2.21MB/s]\u001b[A\n",
      "  2%|▏         | 7.99M/405M [00:09<02:59, 2.21MB/s]\u001b[A\n",
      "  2%|▏         | 8.22M/405M [00:09<03:08, 2.11MB/s]\u001b[A\n",
      "  2%|▏         | 8.59M/405M [00:09<02:45, 2.39MB/s]\u001b[A\n",
      "  2%|▏         | 8.84M/405M [00:09<02:44, 2.40MB/s]\u001b[A\n",
      "  2%|▏         | 9.10M/405M [00:09<02:52, 2.30MB/s]\u001b[A\n",
      "  2%|▏         | 9.49M/405M [00:10<02:37, 2.51MB/s]\u001b[A\n",
      "  2%|▏         | 9.83M/405M [00:10<02:24, 2.74MB/s]\u001b[A\n",
      "  2%|▏         | 10.1M/405M [00:10<02:31, 2.60MB/s]\u001b[A\n",
      "  3%|▎         | 10.5M/405M [00:10<02:25, 2.72MB/s]\u001b[A\n",
      "  3%|▎         | 10.9M/405M [00:10<02:09, 3.05MB/s]\u001b[A\n",
      "  3%|▎         | 11.2M/405M [00:10<02:17, 2.87MB/s]\u001b[A\n",
      "  3%|▎         | 11.5M/405M [00:10<02:19, 2.82MB/s]\u001b[A\n",
      "  3%|▎         | 12.0M/405M [00:10<02:01, 3.23MB/s]\u001b[A\n",
      "  3%|▎         | 12.4M/405M [00:10<02:05, 3.13MB/s]\u001b[A\n",
      "  3%|▎         | 12.7M/405M [00:11<02:08, 3.06MB/s]\u001b[A\n",
      "  3%|▎         | 13.2M/405M [00:11<01:52, 3.48MB/s]\u001b[A\n",
      "  3%|▎         | 13.6M/405M [00:11<01:58, 3.31MB/s]\u001b[A\n",
      "  3%|▎         | 14.0M/405M [00:11<01:56, 3.36MB/s]\u001b[A\n",
      "  4%|▎         | 14.5M/405M [00:11<01:45, 3.71MB/s]\u001b[A\n",
      "  4%|▎         | 14.9M/405M [00:11<01:46, 3.66MB/s]\u001b[A\n",
      "  4%|▍         | 15.3M/405M [00:11<01:45, 3.70MB/s]\u001b[A\n",
      "  4%|▍         | 15.8M/405M [00:11<01:36, 4.03MB/s]\u001b[A\n",
      "  4%|▍         | 16.2M/405M [00:11<01:38, 3.95MB/s]\u001b[A\n",
      "  4%|▍         | 16.7M/405M [00:12<01:35, 4.08MB/s]\u001b[A\n",
      "  4%|▍         | 17.2M/405M [00:12<01:30, 4.30MB/s]\u001b[A\n",
      "  4%|▍         | 17.6M/405M [00:12<01:30, 4.26MB/s]\u001b[A\n",
      "  4%|▍         | 18.2M/405M [00:12<01:24, 4.58MB/s]\u001b[A\n",
      "  5%|▍         | 18.6M/405M [00:12<01:25, 4.51MB/s]\u001b[A\n",
      "  5%|▍         | 19.1M/405M [00:12<01:25, 4.53MB/s]\u001b[A\n",
      "  5%|▍         | 19.7M/405M [00:12<01:19, 4.82MB/s]\u001b[A\n",
      "  5%|▍         | 20.2M/405M [00:12<01:21, 4.75MB/s]\u001b[A\n",
      "  5%|▌         | 20.7M/405M [00:12<01:18, 4.91MB/s]\u001b[A\n",
      "  5%|▌         | 21.3M/405M [00:12<01:16, 5.04MB/s]\u001b[A\n",
      "  5%|▌         | 21.8M/405M [00:13<01:14, 5.14MB/s]\u001b[A\n",
      "  6%|▌         | 22.4M/405M [00:13<01:11, 5.35MB/s]\u001b[A\n",
      "  6%|▌         | 22.9M/405M [00:13<01:11, 5.31MB/s]\u001b[A\n",
      "  6%|▌         | 23.5M/405M [00:13<01:09, 5.48MB/s]\u001b[A\n",
      "  6%|▌         | 24.1M/405M [00:13<01:08, 5.54MB/s]\u001b[A\n",
      "  6%|▌         | 24.7M/405M [00:13<01:07, 5.66MB/s]\u001b[A\n",
      "  6%|▌         | 25.3M/405M [00:13<01:06, 5.68MB/s]\u001b[A\n",
      "  6%|▋         | 25.9M/405M [00:13<01:05, 5.81MB/s]\u001b[A\n",
      "  7%|▋         | 26.5M/405M [00:13<01:04, 5.88MB/s]\u001b[A\n",
      "  7%|▋         | 27.1M/405M [00:13<01:03, 5.98MB/s]\u001b[A\n",
      "  7%|▋         | 27.7M/405M [00:14<01:02, 6.00MB/s]\u001b[A\n",
      "  7%|▋         | 28.3M/405M [00:14<01:02, 6.04MB/s]\u001b[A\n",
      "  7%|▋         | 29.0M/405M [00:14<01:02, 6.07MB/s]\u001b[A\n",
      "  7%|▋         | 29.6M/405M [00:14<01:01, 6.07MB/s]\u001b[A\n",
      "  7%|▋         | 30.2M/405M [00:14<01:01, 6.10MB/s]\u001b[A\n",
      "  8%|▊         | 30.8M/405M [00:14<01:01, 6.10MB/s]\u001b[A\n",
      "  8%|▊         | 31.4M/405M [00:14<01:01, 6.13MB/s]\u001b[A\n",
      "  8%|▊         | 32.1M/405M [00:14<01:00, 6.12MB/s]\u001b[A\n",
      "  8%|▊         | 32.7M/405M [00:14<01:00, 6.12MB/s]\u001b[A\n",
      "  8%|▊         | 33.3M/405M [00:14<01:01, 6.08MB/s]\u001b[A\n",
      "  8%|▊         | 33.9M/405M [00:15<01:00, 6.12MB/s]\u001b[A\n",
      "  9%|▊         | 34.5M/405M [00:15<01:00, 6.08MB/s]\u001b[A\n",
      "  9%|▊         | 35.1M/405M [00:15<01:00, 6.08MB/s]\u001b[A\n",
      "  9%|▉         | 35.8M/405M [00:15<01:00, 6.15MB/s]\u001b[A\n",
      "  9%|▉         | 36.4M/405M [00:15<01:00, 6.09MB/s]\u001b[A\n",
      "  9%|▉         | 37.0M/405M [00:15<01:00, 6.11MB/s]\u001b[A\n",
      "  9%|▉         | 37.6M/405M [00:15<01:38, 3.75MB/s]\u001b[A\n",
      " 10%|▉         | 38.9M/405M [00:16<01:31, 4.02MB/s]\u001b[A\n",
      " 10%|▉         | 39.5M/405M [00:16<01:46, 3.44MB/s]\u001b[A\n",
      " 10%|▉         | 39.9M/405M [00:16<01:57, 3.12MB/s]\u001b[A\n",
      " 10%|▉         | 40.3M/405M [00:16<01:58, 3.09MB/s]\u001b[A\n",
      " 10%|█         | 41.0M/405M [00:16<01:44, 3.49MB/s]\u001b[A\n",
      " 10%|█         | 41.6M/405M [00:16<01:30, 4.01MB/s]\u001b[A\n",
      " 10%|█         | 42.1M/405M [00:17<01:34, 3.84MB/s]\u001b[A\n",
      " 10%|█         | 42.5M/405M [00:17<01:37, 3.73MB/s]\u001b[A\n",
      " 11%|█         | 43.1M/405M [00:17<01:34, 3.82MB/s]\u001b[A\n",
      " 11%|█         | 43.6M/405M [00:17<01:26, 4.19MB/s]\u001b[A\n",
      " 11%|█         | 44.0M/405M [00:17<01:30, 4.01MB/s]\u001b[A\n",
      " 11%|█         | 44.5M/405M [00:17<01:29, 4.02MB/s]\u001b[A\n",
      " 11%|█         | 45.0M/405M [00:17<01:22, 4.34MB/s]\u001b[A\n",
      " 11%|█         | 45.5M/405M [00:17<01:25, 4.18MB/s]\u001b[A\n",
      " 11%|█▏        | 45.9M/405M [00:17<01:27, 4.10MB/s]\u001b[A\n",
      " 11%|█▏        | 46.5M/405M [00:18<01:20, 4.47MB/s]\u001b[A\n",
      " 12%|█▏        | 46.9M/405M [00:18<01:22, 4.33MB/s]\u001b[A\n",
      " 12%|█▏        | 47.4M/405M [00:18<01:24, 4.23MB/s]\u001b[A\n",
      " 12%|█▏        | 47.9M/405M [00:18<01:18, 4.54MB/s]\u001b[A\n",
      " 12%|█▏        | 48.4M/405M [00:18<01:19, 4.46MB/s]\u001b[A\n",
      " 12%|█▏        | 48.9M/405M [00:18<01:21, 4.35MB/s]\u001b[A\n",
      " 12%|█▏        | 49.4M/405M [00:18<01:17, 4.58MB/s]\u001b[A\n",
      " 12%|█▏        | 49.9M/405M [00:18<01:19, 4.49MB/s]\u001b[A\n",
      " 12%|█▏        | 50.4M/405M [00:18<01:18, 4.50MB/s]\u001b[A\n",
      " 13%|█▎        | 50.9M/405M [00:19<01:17, 4.59MB/s]\u001b[A\n",
      " 13%|█▎        | 51.4M/405M [00:19<01:17, 4.59MB/s]\u001b[A\n",
      " 13%|█▎        | 51.9M/405M [00:19<01:14, 4.73MB/s]\u001b[A\n",
      " 13%|█▎        | 52.3M/405M [00:19<01:16, 4.58MB/s]\u001b[A\n",
      " 13%|█▎        | 52.9M/405M [00:19<01:15, 4.70MB/s]\u001b[A\n",
      " 13%|█▎        | 53.3M/405M [00:19<01:14, 4.75MB/s]\u001b[A\n",
      " 13%|█▎        | 53.8M/405M [00:19<01:15, 4.65MB/s]\u001b[A\n",
      " 13%|█▎        | 54.3M/405M [00:19<01:13, 4.79MB/s]\u001b[A\n",
      " 14%|█▎        | 54.8M/405M [00:19<01:13, 4.77MB/s]\u001b[A\n",
      " 14%|█▎        | 55.3M/405M [00:19<01:12, 4.81MB/s]\u001b[A\n",
      " 14%|█▍        | 55.8M/405M [00:20<01:12, 4.84MB/s]\u001b[A\n"
     ]
    },
    {
     "name": "stderr",
     "output_type": "stream",
     "text": [
      " 14%|█▍        | 56.3M/405M [00:20<01:12, 4.78MB/s]\u001b[A\n",
      " 14%|█▍        | 56.8M/405M [00:20<01:12, 4.81MB/s]\u001b[A\n",
      " 14%|█▍        | 57.3M/405M [00:20<01:12, 4.79MB/s]\u001b[A\n",
      " 14%|█▍        | 57.8M/405M [00:20<01:11, 4.83MB/s]\u001b[A\n",
      " 14%|█▍        | 58.3M/405M [00:20<01:11, 4.85MB/s]\u001b[A\n",
      " 15%|█▍        | 58.8M/405M [00:20<01:11, 4.82MB/s]\u001b[A\n",
      " 15%|█▍        | 59.3M/405M [00:20<01:12, 4.79MB/s]\u001b[A\n",
      " 15%|█▍        | 59.8M/405M [00:20<01:10, 4.88MB/s]\u001b[A\n",
      " 15%|█▍        | 60.3M/405M [00:21<01:10, 4.92MB/s]\u001b[A\n",
      " 15%|█▌        | 60.8M/405M [00:21<01:11, 4.79MB/s]\u001b[A\n",
      " 15%|█▌        | 61.3M/405M [00:21<01:09, 4.93MB/s]\u001b[A\n",
      " 15%|█▌        | 61.8M/405M [00:21<01:10, 4.86MB/s]\u001b[A\n",
      " 15%|█▌        | 62.3M/405M [00:21<01:13, 4.64MB/s]\u001b[A\n",
      " 16%|█▌        | 62.9M/405M [00:21<01:08, 4.98MB/s]\u001b[A\n",
      " 16%|█▌        | 63.4M/405M [00:21<01:11, 4.77MB/s]\u001b[A\n",
      " 16%|█▌        | 63.9M/405M [00:21<01:11, 4.76MB/s]\u001b[A\n",
      " 16%|█▌        | 64.4M/405M [00:21<01:11, 4.78MB/s]\u001b[A\n",
      " 16%|█▌        | 64.9M/405M [00:21<01:09, 4.88MB/s]\u001b[A\n",
      " 16%|█▌        | 65.4M/405M [00:22<01:08, 4.93MB/s]\u001b[A\n",
      " 16%|█▋        | 65.9M/405M [00:22<01:09, 4.92MB/s]\u001b[A\n",
      " 16%|█▋        | 66.4M/405M [00:22<01:09, 4.85MB/s]\u001b[A\n",
      " 17%|█▋        | 66.9M/405M [00:22<01:09, 4.87MB/s]\u001b[A\n",
      " 17%|█▋        | 67.4M/405M [00:22<01:08, 4.90MB/s]\u001b[A\n",
      " 17%|█▋        | 67.9M/405M [00:22<01:07, 5.03MB/s]\u001b[A\n",
      " 17%|█▋        | 68.4M/405M [00:22<01:09, 4.81MB/s]\u001b[A\n",
      " 17%|█▋        | 69.0M/405M [00:22<01:09, 4.87MB/s]\u001b[A\n",
      " 17%|█▋        | 69.5M/405M [00:22<01:09, 4.84MB/s]\u001b[A\n",
      " 17%|█▋        | 70.0M/405M [00:23<01:07, 4.97MB/s]\u001b[A\n",
      " 17%|█▋        | 70.5M/405M [00:23<01:08, 4.90MB/s]\u001b[A\n",
      " 18%|█▊        | 71.0M/405M [00:23<01:09, 4.81MB/s]\u001b[A\n",
      " 18%|█▊        | 71.5M/405M [00:23<01:07, 4.97MB/s]\u001b[A\n",
      " 18%|█▊        | 72.0M/405M [00:23<01:07, 4.92MB/s]\u001b[A\n",
      " 18%|█▊        | 72.5M/405M [00:23<01:09, 4.79MB/s]\u001b[A\n",
      " 18%|█▊        | 73.1M/405M [00:23<01:06, 4.96MB/s]\u001b[A\n",
      " 18%|█▊        | 73.6M/405M [00:23<01:07, 4.89MB/s]\u001b[A\n",
      " 18%|█▊        | 74.1M/405M [00:23<01:08, 4.81MB/s]\u001b[A\n",
      " 18%|█▊        | 74.6M/405M [00:23<01:06, 4.98MB/s]\u001b[A\n",
      " 19%|█▊        | 75.1M/405M [00:24<01:07, 4.87MB/s]\u001b[A\n",
      " 19%|█▊        | 75.7M/405M [00:24<01:06, 4.96MB/s]\u001b[A\n",
      " 19%|█▉        | 76.2M/405M [00:24<01:05, 4.99MB/s]\u001b[A\n",
      " 19%|█▉        | 76.7M/405M [00:24<01:08, 4.79MB/s]\u001b[A\n",
      " 19%|█▉        | 77.2M/405M [00:24<01:05, 4.97MB/s]\u001b[A\n",
      " 19%|█▉        | 77.7M/405M [00:24<01:06, 4.91MB/s]\u001b[A\n",
      " 19%|█▉        | 78.2M/405M [00:24<01:06, 4.89MB/s]\u001b[A\n",
      " 19%|█▉        | 78.7M/405M [00:24<01:05, 4.99MB/s]\u001b[A\n",
      " 20%|█▉        | 79.2M/405M [00:24<01:07, 4.85MB/s]\u001b[A\n",
      " 20%|█▉        | 79.7M/405M [00:24<01:06, 4.88MB/s]\u001b[A\n",
      " 20%|█▉        | 80.2M/405M [00:25<01:05, 4.94MB/s]\u001b[A\n",
      " 20%|█▉        | 80.7M/405M [00:25<01:06, 4.86MB/s]\u001b[A\n",
      " 20%|██        | 81.3M/405M [00:25<01:04, 5.02MB/s]\u001b[A\n",
      " 20%|██        | 81.8M/405M [00:25<01:06, 4.90MB/s]\u001b[A\n",
      " 20%|██        | 82.3M/405M [00:25<01:06, 4.86MB/s]\u001b[A\n",
      " 20%|██        | 82.8M/405M [00:25<01:03, 5.04MB/s]\u001b[A\n",
      " 21%|██        | 83.3M/405M [00:25<01:05, 4.89MB/s]\u001b[A\n",
      " 21%|██        | 83.9M/405M [00:25<01:06, 4.85MB/s]\u001b[A\n",
      " 21%|██        | 84.4M/405M [00:25<01:04, 4.96MB/s]\u001b[A\n",
      " 21%|██        | 84.9M/405M [00:26<01:06, 4.80MB/s]\u001b[A\n",
      " 21%|██        | 85.5M/405M [00:26<01:03, 5.03MB/s]\u001b[A\n",
      " 21%|██        | 86.0M/405M [00:26<01:06, 4.83MB/s]\u001b[A\n",
      " 21%|██▏       | 86.5M/405M [00:26<01:04, 4.94MB/s]\u001b[A\n",
      " 21%|██▏       | 87.0M/405M [00:26<01:03, 5.01MB/s]\u001b[A\n",
      " 22%|██▏       | 87.5M/405M [00:26<01:04, 4.89MB/s]\u001b[A\n",
      " 22%|██▏       | 88.1M/405M [00:26<01:02, 5.07MB/s]\u001b[A\n",
      " 22%|██▏       | 88.6M/405M [00:26<01:03, 4.98MB/s]\u001b[A\n",
      " 22%|██▏       | 89.1M/405M [00:26<01:04, 4.90MB/s]\u001b[A\n",
      " 22%|██▏       | 89.7M/405M [00:26<01:02, 5.09MB/s]\u001b[A\n",
      " 22%|██▏       | 90.2M/405M [00:27<01:03, 4.98MB/s]\u001b[A\n",
      " 22%|██▏       | 90.7M/405M [00:27<01:01, 5.09MB/s]\u001b[A\n",
      " 23%|██▎       | 91.2M/405M [00:27<01:02, 5.05MB/s]\u001b[A\n",
      " 23%|██▎       | 91.8M/405M [00:27<01:01, 5.09MB/s]\u001b[A\n",
      " 23%|██▎       | 92.3M/405M [00:27<01:01, 5.06MB/s]\u001b[A\n",
      " 23%|██▎       | 92.8M/405M [00:27<01:00, 5.15MB/s]\u001b[A\n",
      " 23%|██▎       | 93.3M/405M [00:27<01:00, 5.20MB/s]\u001b[A\n",
      " 23%|██▎       | 93.9M/405M [00:27<01:01, 5.06MB/s]\u001b[A\n",
      " 23%|██▎       | 94.4M/405M [00:27<01:00, 5.16MB/s]\u001b[A\n",
      " 23%|██▎       | 94.9M/405M [00:28<00:59, 5.21MB/s]\u001b[A\n",
      " 24%|██▎       | 95.5M/405M [00:28<00:59, 5.21MB/s]\u001b[A\n",
      " 24%|██▎       | 96.0M/405M [00:28<00:58, 5.26MB/s]\u001b[A\n",
      " 24%|██▍       | 96.6M/405M [00:28<00:58, 5.23MB/s]\u001b[A\n",
      " 24%|██▍       | 97.1M/405M [00:28<00:57, 5.34MB/s]\u001b[A\n",
      " 24%|██▍       | 97.7M/405M [00:28<00:57, 5.31MB/s]\u001b[A\n",
      " 24%|██▍       | 98.2M/405M [00:28<00:57, 5.34MB/s]\u001b[A\n",
      " 24%|██▍       | 98.8M/405M [00:28<00:57, 5.37MB/s]\u001b[A\n",
      " 25%|██▍       | 99.3M/405M [00:28<00:57, 5.34MB/s]\u001b[A\n",
      " 25%|██▍       | 99.8M/405M [00:28<00:57, 5.31MB/s]\u001b[A\n",
      " 25%|██▍       | 100M/405M [00:29<00:56, 5.41MB/s] \u001b[A\n",
      " 25%|██▍       | 101M/405M [00:29<00:55, 5.44MB/s]\u001b[A\n",
      " 25%|██▌       | 102M/405M [00:29<00:56, 5.35MB/s]\u001b[A\n",
      " 25%|██▌       | 102M/405M [00:29<00:54, 5.56MB/s]\u001b[A\n",
      " 25%|██▌       | 103M/405M [00:29<00:55, 5.48MB/s]\u001b[A\n",
      " 25%|██▌       | 103M/405M [00:29<00:56, 5.33MB/s]\u001b[A\n",
      " 26%|██▌       | 104M/405M [00:29<00:55, 5.45MB/s]\u001b[A\n",
      " 26%|██▌       | 104M/405M [00:29<00:54, 5.54MB/s]\u001b[A\n",
      " 26%|██▌       | 105M/405M [00:29<00:53, 5.61MB/s]\u001b[A\n",
      " 26%|██▌       | 106M/405M [00:29<00:53, 5.59MB/s]\u001b[A\n",
      " 26%|██▌       | 106M/405M [00:30<00:52, 5.71MB/s]\u001b[A\n",
      " 26%|██▋       | 107M/405M [00:30<00:51, 5.75MB/s]\u001b[A\n",
      " 26%|██▋       | 107M/405M [00:30<00:51, 5.83MB/s]\u001b[A\n",
      " 27%|██▋       | 108M/405M [00:30<00:50, 5.90MB/s]\u001b[A\n",
      " 27%|██▋       | 109M/405M [00:30<00:50, 5.93MB/s]\u001b[A\n",
      " 27%|██▋       | 109M/405M [00:30<00:49, 6.01MB/s]\u001b[A\n",
      " 27%|██▋       | 110M/405M [00:30<00:48, 6.06MB/s]\u001b[A\n",
      " 27%|██▋       | 110M/405M [00:30<00:48, 6.08MB/s]\u001b[A\n",
      " 27%|██▋       | 111M/405M [00:30<00:48, 6.09MB/s]\u001b[A\n",
      " 28%|██▊       | 112M/405M [00:30<00:48, 6.09MB/s]\u001b[A\n",
      " 28%|██▊       | 112M/405M [00:31<00:47, 6.12MB/s]\u001b[A\n",
      " 28%|██▊       | 113M/405M [00:31<00:47, 6.11MB/s]\u001b[A\n",
      " 28%|██▊       | 114M/405M [00:31<00:47, 6.12MB/s]\u001b[A\n",
      " 28%|██▊       | 114M/405M [00:31<00:47, 6.12MB/s]\u001b[A\n",
      " 28%|██▊       | 115M/405M [00:31<00:47, 6.12MB/s]\u001b[A\n",
      " 28%|██▊       | 115M/405M [00:31<00:47, 6.10MB/s]\u001b[A\n",
      " 29%|██▊       | 116M/405M [00:31<00:47, 6.10MB/s]\u001b[A\n",
      " 29%|██▉       | 117M/405M [00:31<00:47, 6.11MB/s]\u001b[A\n",
      " 29%|██▉       | 117M/405M [00:31<00:47, 6.11MB/s]\u001b[A\n",
      " 29%|██▉       | 118M/405M [00:31<00:47, 6.11MB/s]\u001b[A\n",
      " 29%|██▉       | 118M/405M [00:32<00:46, 6.13MB/s]\u001b[A\n",
      " 29%|██▉       | 119M/405M [00:32<00:46, 6.13MB/s]\u001b[A\n",
      " 30%|██▉       | 120M/405M [00:32<00:46, 6.10MB/s]\u001b[A\n",
      " 30%|██▉       | 120M/405M [00:32<00:47, 5.98MB/s]\u001b[A\n",
      " 30%|██▉       | 121M/405M [00:32<00:47, 6.04MB/s]\u001b[A\n",
      " 30%|██▉       | 122M/405M [00:32<00:47, 6.02MB/s]\u001b[A\n",
      " 30%|███       | 122M/405M [00:32<00:46, 6.06MB/s]\u001b[A\n",
      " 30%|███       | 123M/405M [00:32<00:46, 6.09MB/s]\u001b[A\n",
      " 30%|███       | 123M/405M [00:32<00:46, 6.10MB/s]\u001b[A\n",
      " 31%|███       | 124M/405M [00:32<00:46, 6.10MB/s]\u001b[A\n",
      " 31%|███       | 125M/405M [00:33<01:14, 3.78MB/s]\u001b[A\n",
      " 31%|███       | 126M/405M [00:33<01:02, 4.48MB/s]\u001b[A\n",
      " 31%|███       | 126M/405M [00:33<00:55, 4.99MB/s]\u001b[A\n",
      " 31%|███▏      | 127M/405M [00:33<01:26, 3.21MB/s]\u001b[A\n",
      " 31%|███▏      | 128M/405M [00:33<01:16, 3.64MB/s]\u001b[A\n",
      " 32%|███▏      | 128M/405M [00:34<01:14, 3.73MB/s]\u001b[A\n",
      " 32%|███▏      | 129M/405M [00:34<01:06, 4.16MB/s]\u001b[A\n",
      " 32%|███▏      | 129M/405M [00:34<01:08, 4.04MB/s]\u001b[A\n",
      " 32%|███▏      | 130M/405M [00:34<01:10, 3.92MB/s]\u001b[A\n",
      " 32%|███▏      | 130M/405M [00:34<01:09, 3.94MB/s]\u001b[A\n",
      " 32%|███▏      | 131M/405M [00:34<01:04, 4.29MB/s]\u001b[A\n",
      " 32%|███▏      | 131M/405M [00:34<01:05, 4.21MB/s]\u001b[A\n",
      " 32%|███▏      | 132M/405M [00:34<01:06, 4.11MB/s]\u001b[A\n",
      " 33%|███▎      | 132M/405M [00:35<01:02, 4.39MB/s]\u001b[A\n",
      " 33%|███▎      | 133M/405M [00:35<01:03, 4.32MB/s]\u001b[A\n",
      " 33%|███▎      | 133M/405M [00:35<01:04, 4.23MB/s]\u001b[A\n",
      " 33%|███▎      | 134M/405M [00:35<01:00, 4.46MB/s]\u001b[A\n",
      " 33%|███▎      | 134M/405M [00:35<01:02, 4.32MB/s]\u001b[A\n",
      " 33%|███▎      | 135M/405M [00:35<01:01, 4.38MB/s]\u001b[A\n",
      " 33%|███▎      | 135M/405M [00:35<01:00, 4.48MB/s]\u001b[A\n",
      " 33%|███▎      | 136M/405M [00:35<01:01, 4.40MB/s]\u001b[A\n",
      " 34%|███▎      | 136M/405M [00:35<00:57, 4.64MB/s]\u001b[A\n",
      " 34%|███▎      | 137M/405M [00:36<00:58, 4.57MB/s]\u001b[A\n",
      " 34%|███▍      | 137M/405M [00:36<01:00, 4.41MB/s]\u001b[A\n",
      " 34%|███▍      | 138M/405M [00:36<00:57, 4.66MB/s]\u001b[A\n"
     ]
    },
    {
     "name": "stderr",
     "output_type": "stream",
     "text": [
      " 34%|███▍      | 138M/405M [00:36<00:57, 4.65MB/s]\u001b[A\n",
      " 34%|███▍      | 139M/405M [00:36<00:59, 4.46MB/s]\u001b[A\n",
      " 34%|███▍      | 139M/405M [00:36<00:55, 4.77MB/s]\u001b[A\n",
      " 34%|███▍      | 140M/405M [00:36<00:57, 4.65MB/s]\u001b[A\n",
      " 35%|███▍      | 140M/405M [00:36<00:58, 4.51MB/s]\u001b[A\n",
      " 35%|███▍      | 141M/405M [00:36<00:55, 4.81MB/s]\u001b[A\n",
      " 35%|███▍      | 141M/405M [00:37<00:57, 4.61MB/s]\u001b[A\n",
      " 35%|███▍      | 142M/405M [00:37<00:57, 4.62MB/s]\u001b[A\n",
      " 35%|███▌      | 142M/405M [00:37<00:56, 4.69MB/s]\u001b[A\n",
      " 35%|███▌      | 143M/405M [00:37<00:56, 4.67MB/s]\u001b[A\n",
      " 35%|███▌      | 143M/405M [00:37<00:53, 4.86MB/s]\u001b[A\n",
      " 35%|███▌      | 144M/405M [00:37<00:55, 4.71MB/s]\u001b[A\n",
      " 36%|███▌      | 144M/405M [00:37<00:55, 4.73MB/s]\u001b[A\n",
      " 36%|███▌      | 145M/405M [00:37<00:53, 4.84MB/s]\u001b[A\n",
      " 36%|███▌      | 145M/405M [00:37<00:54, 4.76MB/s]\u001b[A\n",
      " 36%|███▌      | 146M/405M [00:37<00:54, 4.80MB/s]\u001b[A\n",
      " 36%|███▌      | 146M/405M [00:38<00:53, 4.87MB/s]\u001b[A\n",
      " 36%|███▌      | 147M/405M [00:38<00:53, 4.86MB/s]\u001b[A\n",
      " 36%|███▋      | 147M/405M [00:38<00:52, 4.92MB/s]\u001b[A\n",
      " 36%|███▋      | 148M/405M [00:38<00:52, 4.91MB/s]\u001b[A\n",
      " 37%|███▋      | 148M/405M [00:38<00:53, 4.83MB/s]\u001b[A\n",
      " 37%|███▋      | 149M/405M [00:38<00:51, 4.95MB/s]\u001b[A\n",
      " 37%|███▋      | 149M/405M [00:38<00:52, 4.90MB/s]\u001b[A\n",
      " 37%|███▋      | 150M/405M [00:38<00:52, 4.87MB/s]\u001b[A\n",
      " 37%|███▋      | 150M/405M [00:38<00:51, 4.98MB/s]\u001b[A\n",
      " 37%|███▋      | 151M/405M [00:38<00:52, 4.89MB/s]\u001b[A\n",
      " 37%|███▋      | 151M/405M [00:39<00:50, 4.99MB/s]\u001b[A\n",
      " 37%|███▋      | 152M/405M [00:39<00:51, 4.91MB/s]\u001b[A\n",
      " 38%|███▊      | 152M/405M [00:39<00:51, 4.89MB/s]\u001b[A\n",
      " 38%|███▊      | 153M/405M [00:39<00:50, 5.00MB/s]\u001b[A\n",
      " 38%|███▊      | 153M/405M [00:39<00:51, 4.92MB/s]\u001b[A\n",
      " 38%|███▊      | 154M/405M [00:39<00:51, 4.90MB/s]\u001b[A\n",
      " 38%|███▊      | 154M/405M [00:39<00:50, 4.96MB/s]\u001b[A\n",
      " 38%|███▊      | 155M/405M [00:39<00:50, 4.92MB/s]\u001b[A\n",
      " 38%|███▊      | 155M/405M [00:39<00:50, 4.99MB/s]\u001b[A\n",
      " 38%|███▊      | 156M/405M [00:39<00:51, 4.88MB/s]\u001b[A\n",
      " 39%|███▊      | 156M/405M [00:40<00:50, 4.94MB/s]\u001b[A\n",
      " 39%|███▊      | 157M/405M [00:40<00:51, 4.86MB/s]\u001b[A\n",
      " 39%|███▉      | 157M/405M [00:40<00:50, 4.90MB/s]\u001b[A\n",
      " 39%|███▉      | 158M/405M [00:40<00:50, 4.89MB/s]\u001b[A\n",
      " 39%|███▉      | 158M/405M [00:40<00:51, 4.80MB/s]\u001b[A\n",
      " 39%|███▉      | 159M/405M [00:40<00:50, 4.92MB/s]\u001b[A\n",
      " 39%|███▉      | 159M/405M [00:40<00:50, 4.86MB/s]\u001b[A\n",
      " 39%|███▉      | 160M/405M [00:40<00:51, 4.81MB/s]\u001b[A\n",
      " 40%|███▉      | 160M/405M [00:40<00:49, 4.95MB/s]\u001b[A\n",
      " 40%|███▉      | 161M/405M [00:41<00:50, 4.83MB/s]\u001b[A\n",
      " 40%|███▉      | 161M/405M [00:41<00:49, 4.97MB/s]\u001b[A\n",
      " 40%|███▉      | 162M/405M [00:41<00:49, 4.89MB/s]\u001b[A\n",
      " 40%|████      | 162M/405M [00:41<00:49, 4.89MB/s]\u001b[A\n",
      " 40%|████      | 163M/405M [00:41<00:49, 4.93MB/s]\u001b[A\n",
      " 40%|████      | 163M/405M [00:41<00:49, 4.91MB/s]\u001b[A\n",
      " 40%|████      | 164M/405M [00:41<00:49, 4.92MB/s]\u001b[A\n",
      " 41%|████      | 164M/405M [00:41<00:49, 4.88MB/s]\u001b[A\n",
      " 41%|████      | 165M/405M [00:41<00:48, 4.91MB/s]\u001b[A\n",
      " 41%|████      | 165M/405M [00:41<00:48, 4.91MB/s]\u001b[A\n",
      " 41%|████      | 166M/405M [00:42<00:49, 4.89MB/s]\u001b[A\n",
      " 41%|████      | 166M/405M [00:42<00:48, 4.90MB/s]\u001b[A\n",
      " 41%|████      | 167M/405M [00:42<00:48, 4.90MB/s]\u001b[A\n",
      " 41%|████▏     | 167M/405M [00:42<00:47, 4.98MB/s]\u001b[A\n",
      " 41%|████▏     | 168M/405M [00:42<00:47, 4.96MB/s]\u001b[A\n",
      " 42%|████▏     | 168M/405M [00:42<00:48, 4.89MB/s]\u001b[A\n",
      " 42%|████▏     | 169M/405M [00:42<00:47, 4.93MB/s]\u001b[A\n",
      " 42%|████▏     | 169M/405M [00:42<00:48, 4.84MB/s]\u001b[A\n",
      " 42%|████▏     | 170M/405M [00:42<00:47, 4.98MB/s]\u001b[A\n",
      " 42%|████▏     | 170M/405M [00:42<00:47, 4.95MB/s]\u001b[A\n",
      " 42%|████▏     | 171M/405M [00:43<00:48, 4.86MB/s]\u001b[A\n",
      " 42%|████▏     | 171M/405M [00:43<00:46, 5.07MB/s]\u001b[A\n",
      " 42%|████▏     | 172M/405M [00:43<00:47, 4.89MB/s]\u001b[A\n",
      " 43%|████▎     | 172M/405M [00:43<00:47, 4.86MB/s]\u001b[A\n",
      " 43%|████▎     | 173M/405M [00:43<00:46, 5.04MB/s]\u001b[A\n",
      " 43%|████▎     | 174M/405M [00:43<00:47, 4.91MB/s]\u001b[A\n",
      " 43%|████▎     | 174M/405M [00:43<00:46, 4.94MB/s]\u001b[A\n",
      " 43%|████▎     | 175M/405M [00:43<00:45, 5.03MB/s]\u001b[A\n",
      " 43%|████▎     | 175M/405M [00:43<00:45, 5.02MB/s]\u001b[A\n",
      " 43%|████▎     | 176M/405M [00:44<00:44, 5.13MB/s]\u001b[A\n",
      " 43%|████▎     | 176M/405M [00:44<00:46, 4.97MB/s]\u001b[A\n",
      " 44%|████▎     | 177M/405M [00:44<00:46, 4.96MB/s]\u001b[A\n",
      " 44%|████▎     | 177M/405M [00:44<00:44, 5.10MB/s]\u001b[A\n",
      " 44%|████▍     | 178M/405M [00:44<00:44, 5.06MB/s]\u001b[A\n",
      " 44%|████▍     | 178M/405M [00:44<00:44, 5.13MB/s]\u001b[A\n",
      " 44%|████▍     | 179M/405M [00:44<00:44, 5.08MB/s]\u001b[A\n",
      " 44%|████▍     | 179M/405M [00:44<00:44, 5.06MB/s]\u001b[A\n",
      " 44%|████▍     | 180M/405M [00:44<00:43, 5.23MB/s]\u001b[A\n",
      " 45%|████▍     | 180M/405M [00:44<00:43, 5.13MB/s]\u001b[A\n",
      " 45%|████▍     | 181M/405M [00:45<00:43, 5.14MB/s]\u001b[A\n",
      " 45%|████▍     | 181M/405M [00:45<00:42, 5.22MB/s]\u001b[A\n",
      " 45%|████▍     | 182M/405M [00:45<00:43, 5.08MB/s]\u001b[A\n",
      " 45%|████▌     | 183M/405M [00:45<00:41, 5.31MB/s]\u001b[A\n",
      " 45%|████▌     | 183M/405M [00:45<00:44, 4.96MB/s]\u001b[A\n",
      " 45%|████▌     | 184M/405M [00:45<00:42, 5.25MB/s]\u001b[A\n",
      " 45%|████▌     | 184M/405M [00:45<00:42, 5.16MB/s]\u001b[A\n",
      " 46%|████▌     | 185M/405M [00:45<00:42, 5.19MB/s]\u001b[A\n",
      " 46%|████▌     | 185M/405M [00:45<00:41, 5.27MB/s]\u001b[A\n",
      " 46%|████▌     | 186M/405M [00:46<00:41, 5.35MB/s]\u001b[A\n",
      " 46%|████▌     | 186M/405M [00:46<00:41, 5.33MB/s]\u001b[A\n",
      " 46%|████▌     | 187M/405M [00:46<00:40, 5.41MB/s]\u001b[A\n",
      " 46%|████▋     | 188M/405M [00:46<00:40, 5.36MB/s]\u001b[A\n",
      " 46%|████▋     | 188M/405M [00:46<00:39, 5.51MB/s]\u001b[A\n",
      " 47%|████▋     | 189M/405M [00:46<00:39, 5.49MB/s]\u001b[A\n",
      " 47%|████▋     | 189M/405M [00:46<00:39, 5.44MB/s]\u001b[A\n",
      " 47%|████▋     | 190M/405M [00:46<00:38, 5.63MB/s]\u001b[A\n",
      " 47%|████▋     | 190M/405M [00:46<00:38, 5.57MB/s]\u001b[A\n",
      " 47%|████▋     | 191M/405M [00:46<00:38, 5.62MB/s]\u001b[A\n",
      " 47%|████▋     | 192M/405M [00:47<00:37, 5.70MB/s]\u001b[A\n",
      " 47%|████▋     | 192M/405M [00:47<00:37, 5.75MB/s]\u001b[A\n",
      " 48%|████▊     | 193M/405M [00:47<00:36, 5.77MB/s]\u001b[A\n",
      " 48%|████▊     | 193M/405M [00:47<00:36, 5.83MB/s]\u001b[A\n",
      " 48%|████▊     | 194M/405M [00:47<00:35, 5.88MB/s]\u001b[A\n",
      " 48%|████▊     | 195M/405M [00:47<00:35, 5.89MB/s]\u001b[A\n",
      " 48%|████▊     | 195M/405M [00:47<00:35, 5.94MB/s]\u001b[A\n",
      " 48%|████▊     | 196M/405M [00:47<00:35, 5.94MB/s]\u001b[A\n",
      " 48%|████▊     | 197M/405M [00:47<00:34, 6.02MB/s]\u001b[A\n",
      " 49%|████▊     | 197M/405M [00:47<00:34, 6.04MB/s]\u001b[A\n",
      " 49%|████▉     | 198M/405M [00:48<00:34, 6.07MB/s]\u001b[A\n",
      " 49%|████▉     | 198M/405M [00:48<00:33, 6.09MB/s]\u001b[A\n",
      " 49%|████▉     | 199M/405M [00:48<00:33, 6.12MB/s]\u001b[A\n",
      " 49%|████▉     | 200M/405M [00:48<00:33, 6.07MB/s]\u001b[A\n",
      " 49%|████▉     | 200M/405M [00:48<00:33, 6.10MB/s]\u001b[A\n",
      " 50%|████▉     | 201M/405M [00:48<00:33, 6.08MB/s]\u001b[A\n",
      " 50%|████▉     | 201M/405M [00:48<00:33, 6.08MB/s]\u001b[A\n",
      " 50%|████▉     | 202M/405M [00:48<00:33, 6.09MB/s]\u001b[A\n",
      " 50%|█████     | 203M/405M [00:48<00:33, 6.07MB/s]\u001b[A\n",
      " 50%|█████     | 203M/405M [00:48<00:33, 6.05MB/s]\u001b[A\n",
      " 50%|█████     | 204M/405M [00:49<00:33, 6.04MB/s]\u001b[A\n",
      " 50%|█████     | 205M/405M [00:49<00:32, 6.12MB/s]\u001b[A\n",
      " 51%|█████     | 205M/405M [00:49<00:32, 6.11MB/s]\u001b[A\n",
      " 51%|█████     | 206M/405M [00:49<00:32, 6.09MB/s]\u001b[A\n",
      " 51%|█████     | 206M/405M [00:49<00:32, 6.09MB/s]\u001b[A\n",
      " 51%|█████     | 207M/405M [00:49<00:32, 6.06MB/s]\u001b[A\n",
      " 51%|█████     | 208M/405M [00:49<00:32, 6.10MB/s]\u001b[A\n",
      " 51%|█████▏    | 208M/405M [00:49<00:31, 6.18MB/s]\u001b[A\n",
      " 52%|█████▏    | 209M/405M [00:49<00:31, 6.15MB/s]\u001b[A\n",
      " 52%|█████▏    | 209M/405M [00:49<00:31, 6.16MB/s]\u001b[A\n",
      " 52%|█████▏    | 210M/405M [00:50<00:31, 6.11MB/s]\u001b[A\n",
      " 52%|█████▏    | 211M/405M [00:50<00:31, 6.10MB/s]\u001b[A\n",
      " 52%|█████▏    | 211M/405M [00:50<00:31, 6.10MB/s]\u001b[A\n",
      " 52%|█████▏    | 212M/405M [00:50<00:50, 3.81MB/s]\u001b[A\n",
      " 53%|█████▎    | 213M/405M [00:50<00:40, 4.79MB/s]\u001b[A\n",
      " 53%|█████▎    | 214M/405M [00:50<00:53, 3.56MB/s]\u001b[A\n",
      " 53%|█████▎    | 215M/405M [00:51<00:43, 4.39MB/s]\u001b[A\n",
      " 53%|█████▎    | 216M/405M [00:51<00:43, 4.32MB/s]\u001b[A\n",
      " 53%|█████▎    | 216M/405M [00:51<00:41, 4.60MB/s]\u001b[A\n",
      " 53%|█████▎    | 217M/405M [00:51<00:43, 4.36MB/s]\u001b[A\n",
      " 54%|█████▎    | 217M/405M [00:51<00:44, 4.26MB/s]\u001b[A\n",
      " 54%|█████▎    | 218M/405M [00:51<00:45, 4.12MB/s]\u001b[A\n",
      " 54%|█████▍    | 218M/405M [00:51<00:44, 4.20MB/s]\u001b[A\n",
      " 54%|█████▍    | 219M/405M [00:51<00:42, 4.38MB/s]\u001b[A\n",
      " 54%|█████▍    | 219M/405M [00:52<00:43, 4.30MB/s]\u001b[A\n",
      " 54%|█████▍    | 220M/405M [00:52<00:43, 4.28MB/s]\u001b[A\n",
      " 54%|█████▍    | 220M/405M [00:52<00:41, 4.45MB/s]\u001b[A\n",
      " 54%|█████▍    | 221M/405M [00:52<00:42, 4.39MB/s]\u001b[A\n"
     ]
    },
    {
     "name": "stderr",
     "output_type": "stream",
     "text": [
      " 55%|█████▍    | 221M/405M [00:52<00:41, 4.41MB/s]\u001b[A\n",
      " 55%|█████▍    | 222M/405M [00:52<00:39, 4.59MB/s]\u001b[A\n",
      " 55%|█████▍    | 222M/405M [00:52<00:41, 4.45MB/s]\u001b[A\n",
      " 55%|█████▍    | 223M/405M [00:52<00:39, 4.59MB/s]\u001b[A\n",
      " 55%|█████▌    | 223M/405M [00:52<00:39, 4.60MB/s]\u001b[A\n",
      " 55%|█████▌    | 224M/405M [00:53<00:41, 4.40MB/s]\u001b[A\n",
      " 55%|█████▌    | 224M/405M [00:53<00:38, 4.65MB/s]\u001b[A\n",
      " 55%|█████▌    | 225M/405M [00:53<00:39, 4.55MB/s]\u001b[A\n",
      " 56%|█████▌    | 225M/405M [00:53<00:39, 4.61MB/s]\u001b[A\n",
      " 56%|█████▌    | 226M/405M [00:53<00:38, 4.69MB/s]\u001b[A\n",
      " 56%|█████▌    | 226M/405M [00:53<00:38, 4.64MB/s]\u001b[A\n",
      " 56%|█████▌    | 227M/405M [00:53<00:37, 4.73MB/s]\u001b[A\n",
      " 56%|█████▌    | 227M/405M [00:53<00:37, 4.73MB/s]\u001b[A\n",
      " 56%|█████▌    | 227M/405M [00:53<00:38, 4.66MB/s]\u001b[A\n",
      " 56%|█████▌    | 228M/405M [00:54<00:38, 4.61MB/s]\u001b[A\n",
      " 56%|█████▋    | 228M/405M [00:54<00:37, 4.77MB/s]\u001b[A\n",
      " 56%|█████▋    | 229M/405M [00:54<00:37, 4.75MB/s]\u001b[A\n",
      " 57%|█████▋    | 229M/405M [00:54<00:37, 4.70MB/s]\u001b[A\n",
      " 57%|█████▋    | 230M/405M [00:54<00:36, 4.82MB/s]\u001b[A\n",
      " 57%|█████▋    | 230M/405M [00:54<00:36, 4.76MB/s]\u001b[A\n",
      " 57%|█████▋    | 231M/405M [00:54<00:35, 4.86MB/s]\u001b[A\n",
      " 57%|█████▋    | 231M/405M [00:54<00:36, 4.76MB/s]\u001b[A\n",
      " 57%|█████▋    | 232M/405M [00:54<00:36, 4.79MB/s]\u001b[A\n",
      " 57%|█████▋    | 232M/405M [00:54<00:35, 4.92MB/s]\u001b[A\n",
      " 57%|█████▋    | 233M/405M [00:55<00:36, 4.78MB/s]\u001b[A\n",
      " 58%|█████▊    | 233M/405M [00:55<00:35, 4.85MB/s]\u001b[A\n",
      " 58%|█████▊    | 234M/405M [00:55<00:35, 4.89MB/s]\u001b[A\n",
      " 58%|█████▊    | 234M/405M [00:55<00:35, 4.86MB/s]\u001b[A\n",
      " 58%|█████▊    | 235M/405M [00:55<00:34, 4.91MB/s]\u001b[A\n",
      " 58%|█████▊    | 235M/405M [00:55<00:34, 4.87MB/s]\u001b[A\n",
      " 58%|█████▊    | 236M/405M [00:55<00:34, 4.85MB/s]\u001b[A\n",
      " 58%|█████▊    | 236M/405M [00:55<00:34, 4.92MB/s]\u001b[A\n",
      " 58%|█████▊    | 237M/405M [00:55<00:34, 4.86MB/s]\u001b[A\n",
      " 59%|█████▊    | 238M/405M [00:55<00:33, 5.04MB/s]\u001b[A\n",
      " 59%|█████▊    | 238M/405M [00:56<00:33, 4.94MB/s]\u001b[A\n",
      " 59%|█████▉    | 239M/405M [00:56<00:34, 4.83MB/s]\u001b[A\n",
      " 59%|█████▉    | 239M/405M [00:56<00:33, 4.97MB/s]\u001b[A\n",
      " 59%|█████▉    | 240M/405M [00:56<00:33, 4.93MB/s]\u001b[A\n",
      " 59%|█████▉    | 240M/405M [00:56<00:33, 4.95MB/s]\u001b[A\n",
      " 59%|█████▉    | 241M/405M [00:56<00:33, 4.89MB/s]\u001b[A\n",
      " 59%|█████▉    | 241M/405M [00:56<00:33, 4.89MB/s]\u001b[A\n",
      " 60%|█████▉    | 242M/405M [00:56<00:32, 4.96MB/s]\u001b[A\n",
      " 60%|█████▉    | 242M/405M [00:56<00:33, 4.86MB/s]\u001b[A\n",
      " 60%|█████▉    | 243M/405M [00:56<00:32, 4.94MB/s]\u001b[A\n",
      " 60%|█████▉    | 243M/405M [00:57<00:32, 4.92MB/s]\u001b[A\n",
      " 60%|██████    | 244M/405M [00:57<00:32, 4.93MB/s]\u001b[A\n",
      " 60%|██████    | 244M/405M [00:57<00:32, 4.90MB/s]\u001b[A\n",
      " 60%|██████    | 245M/405M [00:57<00:32, 4.92MB/s]\u001b[A\n",
      " 61%|██████    | 245M/405M [00:57<00:31, 5.00MB/s]\u001b[A\n",
      " 61%|██████    | 246M/405M [00:57<00:31, 4.99MB/s]\u001b[A\n",
      " 61%|██████    | 246M/405M [00:57<00:32, 4.87MB/s]\u001b[A\n",
      " 61%|██████    | 247M/405M [00:57<00:31, 5.00MB/s]\u001b[A\n",
      " 61%|██████    | 247M/405M [00:57<00:31, 4.97MB/s]\u001b[A\n",
      " 61%|██████    | 248M/405M [00:58<00:32, 4.92MB/s]\u001b[A\n",
      " 61%|██████▏   | 248M/405M [00:58<00:31, 5.00MB/s]\u001b[A\n",
      " 61%|██████▏   | 249M/405M [00:58<00:32, 4.86MB/s]\u001b[A\n",
      " 62%|██████▏   | 249M/405M [00:58<00:31, 5.01MB/s]\u001b[A\n",
      " 62%|██████▏   | 250M/405M [00:58<00:31, 4.92MB/s]\u001b[A\n",
      " 62%|██████▏   | 250M/405M [00:58<00:32, 4.83MB/s]\u001b[A\n",
      " 62%|██████▏   | 251M/405M [00:58<00:31, 4.96MB/s]\u001b[A\n",
      " 62%|██████▏   | 251M/405M [00:58<00:31, 4.93MB/s]\u001b[A\n",
      " 62%|██████▏   | 252M/405M [00:58<00:31, 4.92MB/s]\u001b[A\n",
      " 62%|██████▏   | 252M/405M [00:58<00:30, 4.95MB/s]\u001b[A\n",
      " 62%|██████▏   | 253M/405M [00:59<00:31, 4.84MB/s]\u001b[A\n",
      " 63%|██████▎   | 253M/405M [00:59<00:30, 4.94MB/s]\u001b[A\n",
      " 63%|██████▎   | 254M/405M [00:59<00:30, 4.95MB/s]\u001b[A\n",
      " 63%|██████▎   | 254M/405M [00:59<00:31, 4.81MB/s]\u001b[A\n",
      " 63%|██████▎   | 255M/405M [00:59<00:29, 5.07MB/s]\u001b[A\n",
      " 63%|██████▎   | 255M/405M [00:59<00:30, 4.89MB/s]\u001b[A\n",
      " 63%|██████▎   | 256M/405M [00:59<00:30, 4.84MB/s]\u001b[A\n",
      " 63%|██████▎   | 257M/405M [00:59<00:29, 5.04MB/s]\u001b[A\n",
      " 63%|██████▎   | 257M/405M [00:59<00:30, 4.93MB/s]\u001b[A\n",
      " 64%|██████▎   | 258M/405M [01:00<00:30, 4.91MB/s]\u001b[A\n",
      " 64%|██████▎   | 258M/405M [01:00<00:29, 5.05MB/s]\u001b[A\n",
      " 64%|██████▍   | 259M/405M [01:00<00:29, 4.92MB/s]\u001b[A\n",
      " 64%|██████▍   | 259M/405M [01:00<00:28, 5.13MB/s]\u001b[A\n",
      " 64%|██████▍   | 260M/405M [01:00<00:29, 4.98MB/s]\u001b[A\n",
      " 64%|██████▍   | 260M/405M [01:00<00:29, 4.98MB/s]\u001b[A\n",
      " 64%|██████▍   | 261M/405M [01:00<00:28, 5.07MB/s]\u001b[A\n",
      " 64%|██████▍   | 261M/405M [01:00<00:28, 4.98MB/s]\u001b[A\n",
      " 65%|██████▍   | 262M/405M [01:00<00:28, 5.05MB/s]\u001b[A\n",
      " 65%|██████▍   | 262M/405M [01:00<00:28, 5.03MB/s]\u001b[A\n",
      " 65%|██████▍   | 263M/405M [01:01<00:28, 5.04MB/s]\u001b[A\n",
      " 65%|██████▍   | 263M/405M [01:01<00:27, 5.12MB/s]\u001b[A\n",
      " 65%|██████▌   | 264M/405M [01:01<00:27, 5.05MB/s]\u001b[A\n",
      " 65%|██████▌   | 264M/405M [01:01<00:27, 5.07MB/s]\u001b[A\n",
      " 65%|██████▌   | 265M/405M [01:01<00:27, 5.11MB/s]\u001b[A\n",
      " 66%|██████▌   | 265M/405M [01:01<00:27, 5.01MB/s]\u001b[A\n",
      " 66%|██████▌   | 266M/405M [01:01<00:27, 4.97MB/s]\u001b[A\n",
      " 66%|██████▌   | 267M/405M [01:01<00:27, 5.09MB/s]\u001b[A\n",
      " 66%|██████▌   | 267M/405M [01:01<00:26, 5.15MB/s]\u001b[A\n",
      " 66%|██████▌   | 268M/405M [01:01<00:26, 5.15MB/s]\u001b[A\n",
      " 66%|██████▌   | 268M/405M [01:02<00:26, 5.13MB/s]\u001b[A\n",
      " 66%|██████▋   | 269M/405M [01:02<00:26, 5.16MB/s]\u001b[A\n",
      " 66%|██████▋   | 269M/405M [01:02<00:25, 5.26MB/s]\u001b[A\n",
      " 67%|██████▋   | 270M/405M [01:02<00:25, 5.27MB/s]\u001b[A\n",
      " 67%|██████▋   | 270M/405M [01:02<00:25, 5.25MB/s]\u001b[A\n",
      " 67%|██████▋   | 271M/405M [01:02<00:25, 5.33MB/s]\u001b[A\n",
      " 67%|██████▋   | 271M/405M [01:02<00:25, 5.25MB/s]\u001b[A\n",
      " 67%|██████▋   | 272M/405M [01:02<00:25, 5.26MB/s]\u001b[A\n",
      " 67%|██████▋   | 272M/405M [01:02<00:24, 5.40MB/s]\u001b[A\n",
      " 67%|██████▋   | 273M/405M [01:03<00:24, 5.40MB/s]\u001b[A\n",
      " 68%|██████▊   | 274M/405M [01:03<00:24, 5.42MB/s]\u001b[A\n",
      " 68%|██████▊   | 274M/405M [01:03<00:24, 5.37MB/s]\u001b[A\n",
      " 68%|██████▊   | 275M/405M [01:03<00:23, 5.45MB/s]\u001b[A\n",
      " 68%|██████▊   | 275M/405M [01:03<00:23, 5.44MB/s]\u001b[A\n",
      " 68%|██████▊   | 276M/405M [01:03<00:23, 5.43MB/s]\u001b[A\n",
      " 68%|██████▊   | 276M/405M [01:03<00:23, 5.42MB/s]\u001b[A\n",
      " 68%|██████▊   | 277M/405M [01:03<00:22, 5.59MB/s]\u001b[A\n",
      " 68%|██████▊   | 277M/405M [01:03<00:22, 5.57MB/s]\u001b[A\n",
      " 69%|██████▊   | 278M/405M [01:03<00:22, 5.68MB/s]\u001b[A\n",
      " 69%|██████▉   | 279M/405M [01:04<00:22, 5.66MB/s]\u001b[A\n",
      " 69%|██████▉   | 279M/405M [01:04<00:22, 5.68MB/s]\u001b[A\n",
      " 69%|██████▉   | 280M/405M [01:04<00:21, 5.74MB/s]\u001b[A\n",
      " 69%|██████▉   | 280M/405M [01:04<00:21, 5.78MB/s]\u001b[A\n",
      " 69%|██████▉   | 281M/405M [01:04<00:21, 5.78MB/s]\u001b[A\n",
      " 69%|██████▉   | 282M/405M [01:04<00:21, 5.80MB/s]\u001b[A\n",
      " 70%|██████▉   | 282M/405M [01:04<00:21, 5.76MB/s]\u001b[A\n",
      " 70%|██████▉   | 283M/405M [01:04<00:21, 5.81MB/s]\u001b[A\n",
      " 70%|██████▉   | 283M/405M [01:04<00:20, 5.93MB/s]\u001b[A\n",
      " 70%|███████   | 284M/405M [01:04<00:20, 5.95MB/s]\u001b[A\n",
      " 70%|███████   | 285M/405M [01:05<00:19, 6.04MB/s]\u001b[A\n",
      " 70%|███████   | 285M/405M [01:05<00:19, 6.06MB/s]\u001b[A\n",
      " 71%|███████   | 286M/405M [01:05<00:19, 6.08MB/s]\u001b[A\n",
      " 71%|███████   | 286M/405M [01:05<00:19, 6.09MB/s]\u001b[A\n",
      " 71%|███████   | 287M/405M [01:05<00:19, 6.07MB/s]\u001b[A\n",
      " 71%|███████   | 288M/405M [01:05<00:19, 6.05MB/s]\u001b[A\n",
      " 71%|███████   | 288M/405M [01:05<00:19, 5.97MB/s]\u001b[A\n",
      " 71%|███████▏  | 289M/405M [01:05<00:18, 6.12MB/s]\u001b[A\n",
      " 71%|███████▏  | 290M/405M [01:05<00:18, 6.13MB/s]\u001b[A\n",
      " 72%|███████▏  | 290M/405M [01:05<00:18, 6.13MB/s]\u001b[A\n",
      " 72%|███████▏  | 291M/405M [01:06<00:18, 6.09MB/s]\u001b[A\n",
      " 72%|███████▏  | 291M/405M [01:06<00:18, 6.05MB/s]\u001b[A\n",
      " 72%|███████▏  | 292M/405M [01:06<00:18, 6.09MB/s]\u001b[A\n",
      " 72%|███████▏  | 293M/405M [01:06<00:18, 6.13MB/s]\u001b[A\n",
      " 72%|███████▏  | 293M/405M [01:06<00:18, 6.09MB/s]\u001b[A\n",
      " 73%|███████▎  | 294M/405M [01:06<00:18, 6.14MB/s]\u001b[A\n",
      " 73%|███████▎  | 295M/405M [01:06<00:18, 6.11MB/s]\u001b[A\n",
      " 73%|███████▎  | 295M/405M [01:06<00:18, 6.11MB/s]\u001b[A\n",
      " 73%|███████▎  | 296M/405M [01:06<00:17, 6.08MB/s]\u001b[A\n",
      " 73%|███████▎  | 296M/405M [01:06<00:17, 6.10MB/s]\u001b[A\n",
      " 73%|███████▎  | 297M/405M [01:07<00:17, 6.12MB/s]\u001b[A\n",
      " 73%|███████▎  | 298M/405M [01:07<00:17, 6.14MB/s]\u001b[A\n",
      " 74%|███████▎  | 298M/405M [01:07<00:17, 6.13MB/s]\u001b[A\n",
      " 74%|███████▎  | 299M/405M [01:07<00:17, 6.11MB/s]\u001b[A\n",
      " 74%|███████▍  | 299M/405M [01:07<00:27, 3.80MB/s]\u001b[A\n",
      " 74%|███████▍  | 300M/405M [01:07<00:23, 4.52MB/s]\u001b[A\n",
      " 74%|███████▍  | 301M/405M [01:07<00:19, 5.20MB/s]\u001b[A\n",
      " 75%|███████▍  | 302M/405M [01:08<00:29, 3.56MB/s]\u001b[A\n",
      " 75%|███████▍  | 303M/405M [01:08<00:23, 4.30MB/s]\u001b[A\n",
      " 75%|███████▍  | 304M/405M [01:08<00:22, 4.56MB/s]\u001b[A\n"
     ]
    },
    {
     "name": "stderr",
     "output_type": "stream",
     "text": [
      " 75%|███████▌  | 304M/405M [01:08<00:23, 4.34MB/s]\u001b[A\n",
      " 75%|███████▌  | 305M/405M [01:08<00:23, 4.19MB/s]\u001b[A\n",
      " 75%|███████▌  | 305M/405M [01:08<00:24, 4.17MB/s]\u001b[A\n",
      " 75%|███████▌  | 306M/405M [01:08<00:22, 4.34MB/s]\u001b[A\n",
      " 76%|███████▌  | 306M/405M [01:09<00:30, 3.29MB/s]\u001b[A\n",
      " 76%|███████▌  | 307M/405M [01:09<00:29, 3.32MB/s]\u001b[A\n",
      " 76%|███████▌  | 307M/405M [01:09<00:25, 3.83MB/s]\u001b[A\n",
      " 76%|███████▌  | 308M/405M [01:09<00:26, 3.62MB/s]\u001b[A\n",
      " 76%|███████▌  | 308M/405M [01:09<00:25, 3.77MB/s]\u001b[A\n",
      " 76%|███████▌  | 309M/405M [01:09<00:23, 4.08MB/s]\u001b[A\n",
      " 76%|███████▌  | 309M/405M [01:09<00:23, 4.08MB/s]\u001b[A\n",
      " 76%|███████▋  | 309M/405M [01:09<00:23, 4.06MB/s]\u001b[A\n",
      " 76%|███████▋  | 310M/405M [01:10<00:22, 4.16MB/s]\u001b[A\n",
      " 77%|███████▋  | 310M/405M [01:10<00:22, 4.23MB/s]\u001b[A\n",
      " 77%|███████▋  | 311M/405M [01:10<00:22, 4.23MB/s]\u001b[A\n",
      " 77%|███████▋  | 311M/405M [01:10<00:21, 4.31MB/s]\u001b[A\n",
      " 77%|███████▋  | 312M/405M [01:10<00:21, 4.32MB/s]\u001b[A\n",
      " 77%|███████▋  | 312M/405M [01:10<00:21, 4.38MB/s]\u001b[A\n",
      " 77%|███████▋  | 313M/405M [01:10<00:20, 4.43MB/s]\u001b[A\n",
      " 77%|███████▋  | 313M/405M [01:10<00:21, 4.26MB/s]\u001b[A\n",
      " 77%|███████▋  | 313M/405M [01:10<00:21, 4.32MB/s]\u001b[A\n",
      " 77%|███████▋  | 314M/405M [01:10<00:20, 4.41MB/s]\u001b[A\n",
      " 78%|███████▊  | 314M/405M [01:11<00:20, 4.41MB/s]\u001b[A\n",
      " 78%|███████▊  | 315M/405M [01:11<00:21, 4.29MB/s]\u001b[A\n",
      " 78%|███████▊  | 315M/405M [01:11<00:20, 4.44MB/s]\u001b[A\n",
      " 78%|███████▊  | 316M/405M [01:11<00:20, 4.43MB/s]\u001b[A\n",
      " 78%|███████▊  | 316M/405M [01:11<00:20, 4.37MB/s]\u001b[A\n",
      " 78%|███████▊  | 317M/405M [01:11<00:20, 4.36MB/s]\u001b[A\n",
      " 78%|███████▊  | 317M/405M [01:11<00:20, 4.33MB/s]\u001b[A\n",
      " 78%|███████▊  | 318M/405M [01:11<00:19, 4.50MB/s]\u001b[A\n",
      " 78%|███████▊  | 318M/405M [01:11<00:19, 4.39MB/s]\u001b[A\n",
      " 79%|███████▊  | 318M/405M [01:12<00:20, 4.32MB/s]\u001b[A\n",
      " 79%|███████▊  | 319M/405M [01:12<00:19, 4.45MB/s]\u001b[A\n",
      " 79%|███████▉  | 319M/405M [01:12<00:19, 4.44MB/s]\u001b[A\n",
      " 79%|███████▉  | 320M/405M [01:12<00:19, 4.29MB/s]\u001b[A\n",
      " 79%|███████▉  | 320M/405M [01:12<00:19, 4.37MB/s]\u001b[A\n",
      " 79%|███████▉  | 321M/405M [01:12<00:18, 4.46MB/s]\u001b[A\n",
      " 79%|███████▉  | 321M/405M [01:12<00:18, 4.50MB/s]\u001b[A\n",
      " 79%|███████▉  | 322M/405M [01:12<00:18, 4.50MB/s]\u001b[A\n",
      " 80%|███████▉  | 322M/405M [01:12<00:18, 4.43MB/s]\u001b[A\n",
      " 80%|███████▉  | 323M/405M [01:12<00:18, 4.40MB/s]\u001b[A\n",
      " 80%|███████▉  | 323M/405M [01:13<00:18, 4.42MB/s]\u001b[A\n",
      " 80%|███████▉  | 324M/405M [01:13<00:18, 4.47MB/s]\u001b[A\n",
      " 80%|███████▉  | 324M/405M [01:13<00:17, 4.56MB/s]\u001b[A\n",
      " 80%|████████  | 324M/405M [01:13<00:18, 4.47MB/s]\u001b[A\n",
      " 80%|████████  | 325M/405M [01:13<00:17, 4.53MB/s]\u001b[A\n",
      " 80%|████████  | 325M/405M [01:13<00:17, 4.44MB/s]\u001b[A\n",
      " 80%|████████  | 326M/405M [01:13<00:17, 4.59MB/s]\u001b[A\n",
      " 81%|████████  | 326M/405M [01:13<00:17, 4.62MB/s]\u001b[A\n",
      " 81%|████████  | 327M/405M [01:13<00:17, 4.51MB/s]\u001b[A\n",
      " 81%|████████  | 327M/405M [01:13<00:17, 4.58MB/s]\u001b[A\n",
      " 81%|████████  | 328M/405M [01:14<00:16, 4.64MB/s]\u001b[A\n",
      " 81%|████████  | 328M/405M [01:14<00:16, 4.65MB/s]\u001b[A\n",
      " 81%|████████  | 329M/405M [01:14<00:16, 4.78MB/s]\u001b[A\n",
      " 81%|████████▏ | 329M/405M [01:14<00:16, 4.65MB/s]\u001b[A\n",
      " 81%|████████▏ | 330M/405M [01:14<00:15, 4.76MB/s]\u001b[A\n",
      " 81%|████████▏ | 330M/405M [01:14<00:15, 4.71MB/s]\u001b[A\n",
      " 82%|████████▏ | 331M/405M [01:14<00:15, 4.74MB/s]\u001b[A\n",
      " 82%|████████▏ | 331M/405M [01:14<00:15, 4.75MB/s]\u001b[A\n",
      " 82%|████████▏ | 332M/405M [01:14<00:15, 4.80MB/s]\u001b[A\n",
      " 82%|████████▏ | 332M/405M [01:15<00:14, 4.91MB/s]\u001b[A\n",
      " 82%|████████▏ | 333M/405M [01:15<00:15, 4.80MB/s]\u001b[A\n",
      " 82%|████████▏ | 333M/405M [01:15<00:14, 4.91MB/s]\u001b[A\n",
      " 82%|████████▏ | 334M/405M [01:15<00:14, 4.94MB/s]\u001b[A\n",
      " 82%|████████▏ | 334M/405M [01:15<00:14, 4.97MB/s]\u001b[A\n",
      " 83%|████████▎ | 335M/405M [01:15<00:14, 4.92MB/s]\u001b[A\n",
      " 83%|████████▎ | 335M/405M [01:15<00:13, 4.99MB/s]\u001b[A\n",
      " 83%|████████▎ | 336M/405M [01:15<00:13, 5.14MB/s]\u001b[A\n",
      " 83%|████████▎ | 336M/405M [01:15<00:13, 5.03MB/s]\u001b[A\n",
      " 83%|████████▎ | 337M/405M [01:15<00:13, 5.15MB/s]\u001b[A\n",
      " 83%|████████▎ | 337M/405M [01:16<00:13, 5.13MB/s]\u001b[A\n",
      " 83%|████████▎ | 338M/405M [01:16<00:12, 5.30MB/s]\u001b[A\n",
      " 84%|████████▎ | 339M/405M [01:16<00:12, 5.27MB/s]\u001b[A\n",
      " 84%|████████▎ | 339M/405M [01:16<00:12, 5.21MB/s]\u001b[A\n",
      " 84%|████████▍ | 340M/405M [01:16<00:12, 5.41MB/s]\u001b[A\n",
      " 84%|████████▍ | 340M/405M [01:16<00:12, 5.35MB/s]\u001b[A\n",
      " 84%|████████▍ | 341M/405M [01:16<00:11, 5.53MB/s]\u001b[A\n",
      " 84%|████████▍ | 341M/405M [01:16<00:11, 5.52MB/s]\u001b[A\n",
      " 84%|████████▍ | 342M/405M [01:16<00:11, 5.51MB/s]\u001b[A\n",
      " 85%|████████▍ | 343M/405M [01:16<00:11, 5.61MB/s]\u001b[A\n",
      " 85%|████████▍ | 343M/405M [01:17<00:11, 5.30MB/s]\u001b[A\n",
      " 85%|████████▍ | 344M/405M [01:17<00:11, 5.49MB/s]\u001b[A\n",
      " 85%|████████▍ | 344M/405M [01:17<00:10, 5.55MB/s]\u001b[A\n",
      " 85%|████████▌ | 345M/405M [01:17<00:10, 5.77MB/s]\u001b[A\n",
      " 85%|████████▌ | 346M/405M [01:17<00:10, 5.72MB/s]\u001b[A\n",
      " 85%|████████▌ | 346M/405M [01:17<00:10, 5.81MB/s]\u001b[A\n",
      " 86%|████████▌ | 347M/405M [01:17<00:09, 5.91MB/s]\u001b[A\n",
      " 86%|████████▌ | 347M/405M [01:17<00:09, 5.95MB/s]\u001b[A\n",
      " 86%|████████▌ | 348M/405M [01:17<00:09, 5.94MB/s]\u001b[A\n",
      " 86%|████████▌ | 349M/405M [01:17<00:09, 6.06MB/s]\u001b[A\n",
      " 86%|████████▌ | 349M/405M [01:18<00:09, 6.04MB/s]\u001b[A\n",
      " 86%|████████▋ | 350M/405M [01:18<00:09, 6.04MB/s]\u001b[A\n",
      " 86%|████████▋ | 350M/405M [01:18<00:09, 6.07MB/s]\u001b[A\n",
      " 87%|████████▋ | 351M/405M [01:18<00:08, 6.09MB/s]\u001b[A\n",
      " 87%|████████▋ | 352M/405M [01:18<00:08, 6.07MB/s]\u001b[A\n",
      " 87%|████████▋ | 352M/405M [01:18<00:08, 6.13MB/s]\u001b[A\n",
      " 87%|████████▋ | 353M/405M [01:18<00:08, 6.13MB/s]\u001b[A\n",
      " 87%|████████▋ | 354M/405M [01:18<00:08, 6.12MB/s]\u001b[A\n",
      " 87%|████████▋ | 354M/405M [01:18<00:08, 6.02MB/s]\u001b[A\n",
      " 88%|████████▊ | 355M/405M [01:18<00:08, 6.14MB/s]\u001b[A\n",
      " 88%|████████▊ | 355M/405M [01:19<00:08, 6.15MB/s]\u001b[A\n",
      " 88%|████████▊ | 356M/405M [01:19<00:08, 6.15MB/s]\u001b[A\n",
      " 88%|████████▊ | 357M/405M [01:19<00:07, 6.14MB/s]\u001b[A\n",
      " 88%|████████▊ | 357M/405M [01:19<00:07, 6.13MB/s]\u001b[A\n",
      " 88%|████████▊ | 358M/405M [01:19<00:07, 6.14MB/s]\u001b[A\n",
      " 88%|████████▊ | 358M/405M [01:19<00:07, 6.15MB/s]\u001b[A\n",
      " 89%|████████▊ | 359M/405M [01:19<00:07, 6.10MB/s]\u001b[A\n",
      " 89%|████████▉ | 360M/405M [01:19<00:07, 6.08MB/s]\u001b[A\n",
      " 89%|████████▉ | 360M/405M [01:20<00:12, 3.67MB/s]\u001b[A\n",
      " 89%|████████▉ | 362M/405M [01:20<00:09, 4.39MB/s]\u001b[A\n",
      " 89%|████████▉ | 362M/405M [01:20<00:15, 2.77MB/s]\u001b[A\n",
      " 90%|████████▉ | 363M/405M [01:20<00:15, 2.82MB/s]\u001b[A\n",
      " 90%|████████▉ | 364M/405M [01:20<00:12, 3.42MB/s]\u001b[A\n",
      " 90%|████████▉ | 364M/405M [01:21<00:10, 3.89MB/s]\u001b[A\n",
      " 90%|████████▉ | 365M/405M [01:21<00:10, 3.84MB/s]\u001b[A\n",
      " 90%|█████████ | 365M/405M [01:21<00:10, 3.78MB/s]\u001b[A\n",
      " 90%|█████████ | 366M/405M [01:21<00:10, 3.86MB/s]\u001b[A\n",
      " 90%|█████████ | 366M/405M [01:21<00:09, 4.17MB/s]\u001b[A\n",
      " 90%|█████████ | 367M/405M [01:21<00:09, 4.05MB/s]\u001b[A\n",
      " 91%|█████████ | 367M/405M [01:21<00:09, 4.11MB/s]\u001b[A\n",
      " 91%|█████████ | 367M/405M [01:21<00:08, 4.24MB/s]\u001b[A\n",
      " 91%|█████████ | 368M/405M [01:21<00:09, 4.03MB/s]\u001b[A\n",
      " 91%|█████████ | 368M/405M [01:22<00:08, 4.35MB/s]\u001b[A\n",
      " 91%|█████████ | 369M/405M [01:22<00:08, 4.29MB/s]\u001b[A\n",
      " 91%|█████████ | 369M/405M [01:22<00:08, 4.10MB/s]\u001b[A\n",
      " 91%|█████████▏| 370M/405M [01:22<00:07, 4.51MB/s]\u001b[A\n",
      " 91%|█████████▏| 370M/405M [01:22<00:07, 4.37MB/s]\u001b[A\n",
      " 92%|█████████▏| 371M/405M [01:22<00:08, 4.26MB/s]\u001b[A\n",
      " 92%|█████████▏| 371M/405M [01:22<00:07, 4.63MB/s]\u001b[A\n",
      " 92%|█████████▏| 372M/405M [01:22<00:07, 4.45MB/s]\u001b[A\n",
      " 92%|█████████▏| 372M/405M [01:22<00:07, 4.33MB/s]\u001b[A\n",
      " 92%|█████████▏| 373M/405M [01:23<00:07, 4.59MB/s]\u001b[A\n",
      " 92%|█████████▏| 373M/405M [01:23<00:06, 4.59MB/s]\u001b[A\n",
      " 92%|█████████▏| 374M/405M [01:23<00:06, 4.50MB/s]\u001b[A\n",
      " 92%|█████████▏| 374M/405M [01:23<00:06, 4.67MB/s]\u001b[A\n",
      " 93%|█████████▎| 375M/405M [01:23<00:06, 4.65MB/s]\u001b[A\n",
      " 93%|█████████▎| 375M/405M [01:23<00:06, 4.64MB/s]\u001b[A\n",
      " 93%|█████████▎| 376M/405M [01:23<00:06, 4.58MB/s]\u001b[A\n",
      " 93%|█████████▎| 376M/405M [01:23<00:06, 4.45MB/s]\u001b[A\n",
      " 93%|█████████▎| 377M/405M [01:23<00:05, 4.83MB/s]\u001b[A\n",
      " 93%|█████████▎| 377M/405M [01:24<00:05, 4.65MB/s]\u001b[A\n",
      " 93%|█████████▎| 378M/405M [01:24<00:06, 4.54MB/s]\u001b[A\n",
      " 93%|█████████▎| 378M/405M [01:24<00:05, 4.86MB/s]\u001b[A\n",
      " 94%|█████████▎| 379M/405M [01:24<00:05, 4.70MB/s]\u001b[A\n",
      " 94%|█████████▎| 379M/405M [01:24<00:05, 4.60MB/s]\u001b[A\n",
      " 94%|█████████▍| 380M/405M [01:24<00:05, 4.92MB/s]\u001b[A\n",
      " 94%|█████████▍| 381M/405M [01:24<00:05, 4.72MB/s]\u001b[A\n",
      " 94%|█████████▍| 381M/405M [01:24<00:05, 4.56MB/s]\u001b[A\n",
      " 94%|█████████▍| 382M/405M [01:24<00:04, 4.89MB/s]\u001b[A\n",
      " 94%|█████████▍| 382M/405M [01:25<00:04, 4.68MB/s]\u001b[A\n",
      " 94%|█████████▍| 383M/405M [01:25<00:04, 4.56MB/s]\u001b[A\n"
     ]
    },
    {
     "name": "stderr",
     "output_type": "stream",
     "text": [
      " 95%|█████████▍| 383M/405M [01:25<00:04, 4.85MB/s]\u001b[A\n",
      " 95%|█████████▍| 384M/405M [01:25<00:04, 4.61MB/s]\u001b[A\n",
      " 95%|█████████▍| 384M/405M [01:25<00:04, 4.76MB/s]\u001b[A\n",
      " 95%|█████████▍| 385M/405M [01:25<00:04, 4.88MB/s]\u001b[A\n",
      " 95%|█████████▌| 385M/405M [01:25<00:04, 4.71MB/s]\u001b[A\n",
      " 95%|█████████▌| 386M/405M [01:25<00:04, 4.84MB/s]\u001b[A\n",
      " 95%|█████████▌| 386M/405M [01:25<00:03, 4.88MB/s]\u001b[A\n",
      " 95%|█████████▌| 387M/405M [01:26<00:03, 4.76MB/s]\u001b[A\n",
      " 96%|█████████▌| 387M/405M [01:26<00:03, 5.03MB/s]\u001b[A\n",
      " 96%|█████████▌| 388M/405M [01:26<00:03, 4.86MB/s]\u001b[A\n",
      " 96%|█████████▌| 388M/405M [01:26<00:03, 4.81MB/s]\u001b[A\n",
      " 96%|█████████▌| 389M/405M [01:26<00:03, 5.00MB/s]\u001b[A\n",
      " 96%|█████████▌| 389M/405M [01:26<00:03, 4.88MB/s]\u001b[A\n",
      " 96%|█████████▌| 390M/405M [01:26<00:03, 4.79MB/s]\u001b[A\n",
      " 96%|█████████▋| 390M/405M [01:26<00:03, 4.78MB/s]\u001b[A\n",
      " 96%|█████████▋| 391M/405M [01:26<00:02, 4.93MB/s]\u001b[A\n",
      " 97%|█████████▋| 391M/405M [01:26<00:02, 4.85MB/s]\u001b[A\n",
      " 97%|█████████▋| 392M/405M [01:27<00:02, 4.78MB/s]\u001b[A\n",
      " 97%|█████████▋| 393M/405M [01:27<00:02, 4.91MB/s]\u001b[A\n",
      " 97%|█████████▋| 393M/405M [01:27<00:02, 4.88MB/s]\u001b[A\n",
      " 97%|█████████▋| 394M/405M [01:27<00:02, 4.97MB/s]\u001b[A\n",
      " 97%|█████████▋| 394M/405M [01:27<00:02, 4.95MB/s]\u001b[A\n",
      " 97%|█████████▋| 395M/405M [01:27<00:02, 4.81MB/s]\u001b[A\n",
      " 97%|█████████▋| 395M/405M [01:27<00:02, 4.89MB/s]\u001b[A\n",
      " 98%|█████████▊| 396M/405M [01:27<00:02, 4.83MB/s]\u001b[A\n",
      " 98%|█████████▊| 396M/405M [01:27<00:01, 4.90MB/s]\u001b[A\n",
      " 98%|█████████▊| 397M/405M [01:27<00:01, 4.94MB/s]\u001b[A\n",
      " 98%|█████████▊| 397M/405M [01:28<00:01, 4.80MB/s]\u001b[A\n",
      " 98%|█████████▊| 398M/405M [01:28<00:01, 4.86MB/s]\u001b[A\n",
      " 98%|█████████▊| 398M/405M [01:28<00:01, 4.85MB/s]\u001b[A\n",
      " 98%|█████████▊| 399M/405M [01:28<00:01, 4.90MB/s]\u001b[A\n",
      " 98%|█████████▊| 399M/405M [01:28<00:01, 4.82MB/s]\u001b[A\n",
      " 99%|█████████▊| 400M/405M [01:28<00:01, 4.87MB/s]\u001b[A\n",
      " 99%|█████████▊| 400M/405M [01:28<00:01, 4.92MB/s]\u001b[A\n",
      " 99%|█████████▉| 401M/405M [01:28<00:00, 4.85MB/s]\u001b[A\n",
      " 99%|█████████▉| 401M/405M [01:28<00:00, 4.96MB/s]\u001b[A\n",
      " 99%|█████████▉| 402M/405M [01:29<00:00, 4.98MB/s]\u001b[A\n",
      " 99%|█████████▉| 402M/405M [01:29<00:00, 4.81MB/s]\u001b[A\n",
      " 99%|█████████▉| 403M/405M [01:29<00:00, 5.01MB/s]\u001b[A\n",
      " 99%|█████████▉| 403M/405M [01:29<00:00, 4.91MB/s]\u001b[A\n",
      "100%|█████████▉| 404M/405M [01:29<00:00, 4.85MB/s]\u001b[A\n",
      "100%|█████████▉| 404M/405M [01:29<00:00, 4.94MB/s]\u001b[A\n",
      "100%|█████████▉| 405M/405M [01:29<00:00, 4.88MB/s]\u001b[A\n",
      "100%|██████████| 405M/405M [01:29<00:00, 4.51MB/s]\u001b[A\n"
     ]
    }
   ],
   "source": [
    "model = SentenceTransformer('bert-base-nli-mean-tokens')"
   ]
  },
  {
   "cell_type": "code",
   "execution_count": 16,
   "metadata": {
    "colab": {
     "base_uri": "https://localhost:8080/",
     "height": 34
    },
    "colab_type": "code",
    "id": "WKAUB-mwSSdg",
    "outputId": "4fca1c3a-589f-4fb4-f6a8-49f648c0a08f"
   },
   "outputs": [
    {
     "name": "stdout",
     "output_type": "stream",
     "text": [
      "CPU times: user 367 ms, sys: 7.37 ms, total: 374 ms\n",
      "Wall time: 72 ms\n"
     ]
    }
   ],
   "source": [
    "%%time\n",
    "sentences = ['This framework generates embeddings for each input sentence',\n",
    "             'Sentences are passed as a list of string.',\n",
    "             'The quick brown fox jumps over the lazy dog.']\n",
    "sentence_embeddings = model.encode(sentences)"
   ]
  },
  {
   "cell_type": "code",
   "execution_count": 18,
   "metadata": {
    "colab": {
     "base_uri": "https://localhost:8080/",
     "height": 34
    },
    "colab_type": "code",
    "id": "vXw0txjISa2E",
    "outputId": "80708bf9-99c3-4511-8430-a38894d42179"
   },
   "outputs": [
    {
     "data": {
      "text/plain": [
       "(768,)"
      ]
     },
     "execution_count": 18,
     "metadata": {
      "tags": []
     },
     "output_type": "execute_result"
    }
   ],
   "source": [
    "sentence_embeddings[2].shape"
   ]
  },
  {
   "cell_type": "code",
   "execution_count": 20,
   "metadata": {
    "colab": {
     "base_uri": "https://localhost:8080/",
     "height": 34
    },
    "colab_type": "code",
    "id": "tVrXqCqoS8LI",
    "outputId": "b7e68f19-c6be-4a9c-cc01-21a69f0b90e2"
   },
   "outputs": [
    {
     "data": {
      "text/plain": [
       "59278"
      ]
     },
     "execution_count": 20,
     "metadata": {
      "tags": []
     },
     "output_type": "execute_result"
    }
   ],
   "source": [
    "len(train_input)"
   ]
  },
  {
   "cell_type": "code",
   "execution_count": 22,
   "metadata": {
    "colab": {},
    "colab_type": "code",
    "id": "IzAAK8W0Si7G"
   },
   "outputs": [
    {
     "name": "stdout",
     "output_type": "stream",
     "text": [
      "CPU times: user 6h 50min 37s, sys: 6min 53s, total: 6h 57min 31s\n",
      "Wall time: 1h 17min 58s\n"
     ]
    }
   ],
   "source": [
    "%%time\n",
    "bert_embeddings = model.encode(train_input)"
   ]
  },
  {
   "cell_type": "code",
   "execution_count": 23,
   "metadata": {
    "colab": {},
    "colab_type": "code",
    "id": "Wo88tiFfS00v"
   },
   "outputs": [
    {
     "data": {
      "text/plain": [
       "59278"
      ]
     },
     "execution_count": 23,
     "metadata": {},
     "output_type": "execute_result"
    }
   ],
   "source": [
    "len(bert_embeddings)"
   ]
  },
  {
   "cell_type": "code",
   "execution_count": 25,
   "metadata": {},
   "outputs": [],
   "source": [
    "X_train = np.array(bert_embeddings)"
   ]
  },
  {
   "cell_type": "code",
   "execution_count": 26,
   "metadata": {},
   "outputs": [
    {
     "data": {
      "text/plain": [
       "(59278, 768)"
      ]
     },
     "execution_count": 26,
     "metadata": {},
     "output_type": "execute_result"
    }
   ],
   "source": [
    "X_train.shape"
   ]
  },
  {
   "cell_type": "code",
   "execution_count": 27,
   "metadata": {},
   "outputs": [],
   "source": [
    "np.save('../Data/bert_embeddings_train.npy', X_train)"
   ]
  },
  {
   "cell_type": "code",
   "execution_count": 29,
   "metadata": {},
   "outputs": [
    {
     "name": "stdout",
     "output_type": "stream",
     "text": [
      "CPU times: user 1h 48min 4s, sys: 2min 40s, total: 1h 50min 44s\n",
      "Wall time: 18min 54s\n"
     ]
    }
   ],
   "source": [
    "%%time\n",
    "X_test = np.array(model.encode(test_input))"
   ]
  },
  {
   "cell_type": "code",
   "execution_count": 30,
   "metadata": {},
   "outputs": [],
   "source": [
    "np.save('../Data/bert_embeddings_test.npy', X_test)"
   ]
  },
  {
   "cell_type": "code",
   "execution_count": 36,
   "metadata": {},
   "outputs": [
    {
     "name": "stdout",
     "output_type": "stream",
     "text": [
      "CPU times: user 9min 9s, sys: 1min, total: 10min 9s\n",
      "Wall time: 53 s\n"
     ]
    },
    {
     "data": {
      "text/plain": [
       "LogisticRegression(C=1.0, class_weight=None, dual=False, fit_intercept=True,\n",
       "                   intercept_scaling=1, l1_ratio=None, max_iter=1000,\n",
       "                   multi_class='auto', n_jobs=None, penalty='l2',\n",
       "                   random_state=None, solver='lbfgs', tol=0.0001, verbose=0,\n",
       "                   warm_start=False)"
      ]
     },
     "execution_count": 36,
     "metadata": {},
     "output_type": "execute_result"
    }
   ],
   "source": [
    "%%time\n",
    "from sklearn.linear_model import LogisticRegression\n",
    "clf = LogisticRegression(max_iter=1000)\n",
    "clf.fit(X_train, train_label)"
   ]
  },
  {
   "cell_type": "code",
   "execution_count": 37,
   "metadata": {},
   "outputs": [
    {
     "data": {
      "text/plain": [
       "0.5326241666042401"
      ]
     },
     "execution_count": 37,
     "metadata": {},
     "output_type": "execute_result"
    }
   ],
   "source": [
    "#y_pred = clf.predict(X_test)\n",
    "clf.score(X_test, test_label)"
   ]
  },
  {
   "cell_type": "code",
   "execution_count": 38,
   "metadata": {},
   "outputs": [
    {
     "data": {
      "text/plain": [
       "0.5333732863884936"
      ]
     },
     "execution_count": 38,
     "metadata": {},
     "output_type": "execute_result"
    }
   ],
   "source": [
    "from sklearn.ensemble import RandomForestClassifier\n",
    "rf = RandomForestClassifier()\n",
    "rf.fit(X_train, train_label)\n",
    "rf.score(X_test, test_label)"
   ]
  },
  {
   "cell_type": "code",
   "execution_count": 41,
   "metadata": {},
   "outputs": [
    {
     "name": "stdout",
     "output_type": "stream",
     "text": [
      "CPU times: user 1h 8min 27s, sys: 618 ms, total: 1h 8min 28s\n",
      "Wall time: 1h 8min 28s\n"
     ]
    },
    {
     "data": {
      "text/plain": [
       "0.5320997827552626"
      ]
     },
     "execution_count": 41,
     "metadata": {},
     "output_type": "execute_result"
    }
   ],
   "source": [
    "%%time\n",
    "from sklearn.svm import SVC\n",
    "svc = SVC()\n",
    "svc.fit(X_train, train_label)\n",
    "svc.score(X_test, test_label)"
   ]
  },
  {
   "cell_type": "code",
   "execution_count": 43,
   "metadata": {},
   "outputs": [],
   "source": [
    "ypred = svc.predict(X_test)"
   ]
  },
  {
   "cell_type": "code",
   "execution_count": null,
   "metadata": {},
   "outputs": [],
   "source": [
    "from sklearn.metrics import precision_Score, recall_score, confusion matrix\n",
    "print(precision_score(test_label, ypred))\n",
    "print(recall_score(test_label, ypred))"
   ]
  }
 ],
 "metadata": {
  "colab": {
   "name": "Sentence_embedding.ipynb",
   "provenance": []
  },
  "kernelspec": {
   "display_name": "Python 3",
   "language": "python",
   "name": "python3"
  },
  "language_info": {
   "codemirror_mode": {
    "name": "ipython",
    "version": 3
   },
   "file_extension": ".py",
   "mimetype": "text/x-python",
   "name": "python",
   "nbconvert_exporter": "python",
   "pygments_lexer": "ipython3",
   "version": "3.6.9"
  }
 },
 "nbformat": 4,
 "nbformat_minor": 1
}
