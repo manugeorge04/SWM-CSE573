{
 "cells": [
  {
   "cell_type": "code",
   "execution_count": 13,
   "metadata": {
    "scrolled": true
   },
   "outputs": [],
   "source": [
    "import pandas as pd\n",
    "import nltk\n",
    "from nltk.tokenize import sent_tokenize"
   ]
  },
  {
   "cell_type": "code",
   "execution_count": 110,
   "metadata": {},
   "outputs": [],
   "source": [
    "def split_document_to_chunks(row, field_name, chunk_len):\n",
    "    text = row[field_name]\n",
    "    if(text!='[]'):\n",
    "        label = row['label']\n",
    "        sentences = sent_tokenize(text)\n",
    "        output = []\n",
    "        for i in range(0,len(sentences), chunk_len):\n",
    "            if(i+chunk_len < len(sentences)):\n",
    "                chunk = ''.join(sentences[i:i+chunk_len])\n",
    "            else:\n",
    "                chunk = ''.join(sentences[i:len(sentences)])\n",
    "            output.append((chunk,label))\n",
    "        return output\n",
    "def prepare_data_set(data_set):\n",
    "    chunked_text_labels = data_set.apply(split_document_to_chunks, args=('filteredtext_aapl', 3), axis=1)\n",
    "    X=[]\n",
    "    y=[]\n",
    "    for chunks in chunked_text_labels:\n",
    "        if(chunks is not None):\n",
    "            for chunk in chunks:\n",
    "                X.append(chunk[0])\n",
    "                y.append(chunk[1])\n",
    "    return X,y"
   ]
  },
  {
   "cell_type": "code",
   "execution_count": 105,
   "metadata": {},
   "outputs": [],
   "source": [
    "data_set = pd.read_csv('../Data/final_dataset_joined_aapl240_onlyMentions.csv')\n",
    "train_df = data_set[data_set.stock_time <= \"2018-12-01 00:00:00\"]\n",
    "test_df = data_set[data_set.stock_time > \"2018-12-01 00:00:00\"]"
   ]
  },
  {
   "cell_type": "code",
   "execution_count": 111,
   "metadata": {
    "scrolled": true
   },
   "outputs": [
    {
     "data": {
      "text/plain": [
       "(59278, 59278)"
      ]
     },
     "execution_count": 111,
     "metadata": {},
     "output_type": "execute_result"
    }
   ],
   "source": [
    "X_train,y_train = prepare_data_set(train_df)\n",
    "len(X_train),len(y_train)"
   ]
  }
 ],
 "metadata": {
  "kernelspec": {
   "display_name": "Python 3",
   "language": "python",
   "name": "python3"
  },
  "language_info": {
   "codemirror_mode": {
    "name": "ipython",
    "version": 3
   },
   "file_extension": ".py",
   "mimetype": "text/x-python",
   "name": "python",
   "nbconvert_exporter": "python",
   "pygments_lexer": "ipython3",
   "version": "3.6.9"
  }
 },
 "nbformat": 4,
 "nbformat_minor": 2
}
