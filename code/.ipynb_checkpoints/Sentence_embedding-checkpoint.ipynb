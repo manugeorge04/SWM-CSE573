{
 "cells": [
  {
   "cell_type": "code",
   "execution_count": null,
   "metadata": {
    "colab": {
     "base_uri": "https://localhost:8080/",
     "height": 870
    },
    "colab_type": "code",
    "id": "SWGO1AXDgz2G",
    "outputId": "c93f2932-0c87-44ae-bc1e-25b3a2423174"
   },
   "outputs": [
    {
     "name": "stdout",
     "output_type": "stream",
     "text": [
      "Collecting sentence-transformers\n",
      "  Downloading https://files.pythonhosted.org/packages/b9/46/b7d6c37d92d1bd65319220beabe4df845434930e3f30e42d3cfaecb74dc4/sentence-transformers-0.2.6.1.tar.gz (55kB)\n",
      "\u001b[K    100% |████████████████████████████████| 61kB 988kB/s ta 0:00:011\n",
      "\u001b[?25hCollecting transformers>=2.8.0 (from sentence-transformers)\n",
      "  Using cached https://files.pythonhosted.org/packages/a3/78/92cedda05552398352ed9784908b834ee32a0bd071a9b32de287327370b7/transformers-2.8.0-py3-none-any.whl\n",
      "Collecting tqdm (from sentence-transformers)\n",
      "  Using cached https://files.pythonhosted.org/packages/4a/1c/6359be64e8301b84160f6f6f7936bbfaaa5e9a4eab6cbc681db07600b949/tqdm-4.45.0-py2.py3-none-any.whl\n",
      "Collecting torch>=1.0.1 (from sentence-transformers)\n",
      "\u001b[33m  Cache entry deserialization failed, entry ignored\u001b[0m\n",
      "  Downloading https://files.pythonhosted.org/packages/13/70/54e9fb010fe1547bc4774716f11ececb81ae5b306c05f090f4461ee13205/torch-1.5.0-cp36-cp36m-manylinux1_x86_64.whl (752.0MB)\n",
      "\u001b[K    84% |███████████████████████████     | 633.9MB 7.6MB/s eta 0:00:1614"
     ]
    }
   ],
   "source": [
    "!pip3 install -U sentence-transformers"
   ]
  },
  {
   "cell_type": "code",
   "execution_count": 4,
   "metadata": {
    "colab": {
     "base_uri": "https://localhost:8080/",
     "height": 52
    },
    "colab_type": "code",
    "id": "Oc4Gw4fT9sjI",
    "outputId": "0de60680-6572-449e-81fe-2c5ffaa56f7d"
   },
   "outputs": [
    {
     "name": "stdout",
     "output_type": "stream",
     "text": [
      "[nltk_data] Downloading package punkt to /root/nltk_data...\n",
      "[nltk_data]   Package punkt is already up-to-date!\n"
     ]
    }
   ],
   "source": [
    "import os\n",
    "import numpy as np\n",
    "import pandas as pd\n",
    "from google.colab import drive\n",
    "import nltk\n",
    "from nltk.tokenize import sent_tokenize\n",
    "nltk.download('punkt')\n",
    "from sentence_transformers import SentenceTransformer, LoggingHandler\n",
    "import logging"
   ]
  },
  {
   "cell_type": "code",
   "execution_count": 0,
   "metadata": {
    "colab": {},
    "colab_type": "code",
    "id": "oRQ8lHSf9uG9"
   },
   "outputs": [],
   "source": [
    "MAX_LEN=512"
   ]
  },
  {
   "cell_type": "code",
   "execution_count": 6,
   "metadata": {
    "colab": {
     "base_uri": "https://localhost:8080/",
     "height": 143
    },
    "colab_type": "code",
    "id": "ekjgxoLe9wga",
    "outputId": "5f87750c-2055-4506-af76-f29d21c6c49e"
   },
   "outputs": [
    {
     "name": "stdout",
     "output_type": "stream",
     "text": [
      "Go to this URL in a browser: https://accounts.google.com/o/oauth2/auth?client_id=947318989803-6bn6qk8qdgf4n4g3pfee6491hc0brc4i.apps.googleusercontent.com&redirect_uri=urn%3aietf%3awg%3aoauth%3a2.0%3aoob&response_type=code&scope=email%20https%3a%2f%2fwww.googleapis.com%2fauth%2fdocs.test%20https%3a%2f%2fwww.googleapis.com%2fauth%2fdrive%20https%3a%2f%2fwww.googleapis.com%2fauth%2fdrive.photos.readonly%20https%3a%2f%2fwww.googleapis.com%2fauth%2fpeopleapi.readonly\n",
      "\n",
      "Enter your authorization code:\n",
      "··········\n",
      "Mounted at /content/drive/\n",
      "['.config', 'drive', 'sample_data']\n"
     ]
    }
   ],
   "source": [
    "drive.mount('/content/drive/')\n",
    "print(os.listdir('./'))\n",
    "os.chdir('drive/My Drive/SWM-stock-prediction/code')"
   ]
  },
  {
   "cell_type": "code",
   "execution_count": 0,
   "metadata": {
    "colab": {},
    "colab_type": "code",
    "id": "tNYR0Hu3V8tw"
   },
   "outputs": [],
   "source": [
    "def split_document_to_chunks(row, field_name, chunk_len):\n",
    "    text = row[field_name]\n",
    "    if(text!='[]'):\n",
    "        label = row['label']\n",
    "        sentences = sent_tokenize(text)\n",
    "        output = []\n",
    "        for i in range(0,len(sentences), chunk_len):\n",
    "            if(i+chunk_len < len(sentences)):\n",
    "                chunk = ''.join(sentences[i:i+chunk_len])\n",
    "            else:\n",
    "                chunk = ''.join(sentences[i:len(sentences)])\n",
    "            output.append((chunk,label))\n",
    "        return output\n",
    "def prepare_data_set(data_set):\n",
    "    chunked_text_labels = data_set.apply(split_document_to_chunks, args=('filteredtext_aapl', 3), axis=1)\n",
    "    X=[]\n",
    "    y=[]\n",
    "    for chunks in chunked_text_labels:\n",
    "        if(chunks is not None):\n",
    "            for chunk in chunks:\n",
    "                X.append(chunk[0])\n",
    "                y.append(chunk[1])\n",
    "    return X,y"
   ]
  },
  {
   "cell_type": "code",
   "execution_count": 0,
   "metadata": {
    "colab": {},
    "colab_type": "code",
    "id": "bAxqs_PR97Ta"
   },
   "outputs": [],
   "source": [
    "df = pd.read_csv('../Data/final_dataset_joined_aapl240_onlyMentions.csv')"
   ]
  },
  {
   "cell_type": "code",
   "execution_count": 0,
   "metadata": {
    "colab": {},
    "colab_type": "code",
    "id": "Dzb03A5M-kOS"
   },
   "outputs": [],
   "source": [
    "del df['Unnamed: 0']\n",
    "train_df = df[df.stock_time <= \"2018-12-01 00:00:00\"]\n",
    "test_df = df[df.stock_time > \"2018-12-01 00:00:00\"]\n",
    "#df = df[df.filteredtext_aapl != '[]']\n",
    "#df.index = range(df.shape[0])\n",
    "#df['encoded_aapl'] = df.filteredtext_aapl.apply(text_encoder, args=(tokenizer, MAX_LEN))\n",
    "#train_df = df[df.stock_time <= \"2018-12-01 00:00:00\"]\n",
    "#test_df = df[df.stock_time > \"2018-12-01 00:00:00\"]"
   ]
  },
  {
   "cell_type": "code",
   "execution_count": 0,
   "metadata": {
    "colab": {},
    "colab_type": "code",
    "id": "912cYFdv-q9V"
   },
   "outputs": [],
   "source": [
    "'''\n",
    "train_input = aapl_news[train_df.index]\n",
    "train_label = labels[train_df.index]\n",
    "test_input = aapl_news[test_df.index]\n",
    "test_label = labels[test_df.index]\n",
    "'''\n",
    "train_input, train_label = prepare_data_set(train_df)\n",
    "test_input, test_label = prepare_data_set(test_df)\n",
    "#train_label[train_label == -1] = 0\n",
    "#test_label[test_label == -1] = 0"
   ]
  },
  {
   "cell_type": "code",
   "execution_count": 12,
   "metadata": {
    "colab": {
     "base_uri": "https://localhost:8080/",
     "height": 34
    },
    "colab_type": "code",
    "id": "25-QRKDccNRg",
    "outputId": "22bc269c-3839-47dc-f532-7391a3035924"
   },
   "outputs": [
    {
     "data": {
      "text/plain": [
       "(59278, 59278)"
      ]
     },
     "execution_count": 12,
     "metadata": {
      "tags": []
     },
     "output_type": "execute_result"
    }
   ],
   "source": [
    "train_label = np.array(train_label)\n",
    "test_label = np.array(test_label)\n",
    "train_label[train_label == -1] = 0\n",
    "test_label[test_label == -1] = 0\n",
    "len(train_input), len(train_label)"
   ]
  },
  {
   "cell_type": "code",
   "execution_count": 13,
   "metadata": {
    "colab": {
     "base_uri": "https://localhost:8080/",
     "height": 34
    },
    "colab_type": "code",
    "id": "lUPPo-D_cvah",
    "outputId": "8a418b8c-baa7-40af-ba6b-fcae79379eb9"
   },
   "outputs": [
    {
     "data": {
      "text/plain": [
       "(13349, 13349)"
      ]
     },
     "execution_count": 13,
     "metadata": {
      "tags": []
     },
     "output_type": "execute_result"
    }
   ],
   "source": [
    "len(test_input), len(test_label)"
   ]
  },
  {
   "cell_type": "code",
   "execution_count": 14,
   "metadata": {
    "colab": {
     "base_uri": "https://localhost:8080/",
     "height": 34
    },
    "colab_type": "code",
    "id": "WKAUB-mwSSdg",
    "outputId": "4fca1c3a-589f-4fb4-f6a8-49f648c0a08f"
   },
   "outputs": [
    {
     "name": "stderr",
     "output_type": "stream",
     "text": [
      "100%|██████████| 405M/405M [00:17<00:00, 22.7MB/s]\n"
     ]
    }
   ],
   "source": [
    "model = SentenceTransformer('bert-base-nli-mean-tokens')\n",
    "sentences = ['This framework generates embeddings for each input sentence',\n",
    "             'Sentences are passed as a list of string.',\n",
    "             'The quick brown fox jumps over the lazy dog.']\n",
    "sentence_embeddings = model.encode(sentences)"
   ]
  },
  {
   "cell_type": "code",
   "execution_count": 18,
   "metadata": {
    "colab": {
     "base_uri": "https://localhost:8080/",
     "height": 34
    },
    "colab_type": "code",
    "id": "vXw0txjISa2E",
    "outputId": "80708bf9-99c3-4511-8430-a38894d42179"
   },
   "outputs": [
    {
     "data": {
      "text/plain": [
       "(768,)"
      ]
     },
     "execution_count": 18,
     "metadata": {
      "tags": []
     },
     "output_type": "execute_result"
    }
   ],
   "source": [
    "sentence_embeddings[2].shape"
   ]
  },
  {
   "cell_type": "code",
   "execution_count": 20,
   "metadata": {
    "colab": {
     "base_uri": "https://localhost:8080/",
     "height": 34
    },
    "colab_type": "code",
    "id": "tVrXqCqoS8LI",
    "outputId": "b7e68f19-c6be-4a9c-cc01-21a69f0b90e2"
   },
   "outputs": [
    {
     "data": {
      "text/plain": [
       "59278"
      ]
     },
     "execution_count": 20,
     "metadata": {
      "tags": []
     },
     "output_type": "execute_result"
    }
   ],
   "source": [
    "len(train_input)"
   ]
  },
  {
   "cell_type": "code",
   "execution_count": 0,
   "metadata": {
    "colab": {},
    "colab_type": "code",
    "id": "IzAAK8W0Si7G"
   },
   "outputs": [],
   "source": [
    "bert_embeddings = model.encode(train_input)"
   ]
  },
  {
   "cell_type": "code",
   "execution_count": 0,
   "metadata": {
    "colab": {},
    "colab_type": "code",
    "id": "Wo88tiFfS00v"
   },
   "outputs": [],
   "source": []
  }
 ],
 "metadata": {
  "colab": {
   "name": "Sentence_embedding.ipynb",
   "provenance": []
  },
  "kernelspec": {
   "display_name": "Python 3",
   "language": "python",
   "name": "python3"
  },
  "language_info": {
   "codemirror_mode": {
    "name": "ipython",
    "version": 3
   },
   "file_extension": ".py",
   "mimetype": "text/x-python",
   "name": "python",
   "nbconvert_exporter": "python",
   "pygments_lexer": "ipython3",
   "version": "3.6.9"
  }
 },
 "nbformat": 4,
 "nbformat_minor": 1
}
