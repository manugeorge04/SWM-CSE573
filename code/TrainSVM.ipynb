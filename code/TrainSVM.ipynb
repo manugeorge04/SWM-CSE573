{
  "nbformat": 4,
  "nbformat_minor": 0,
  "metadata": {
    "colab": {
      "name": "TrainSVM.ipynb",
      "provenance": [],
      "collapsed_sections": []
    },
    "kernelspec": {
      "name": "python3",
      "display_name": "Python 3"
    }
  },
  "cells": [
    {
      "cell_type": "code",
      "metadata": {
        "id": "hTIflOKXWxf4",
        "colab_type": "code",
        "outputId": "9fa5cd98-c570-4892-eb2f-5df2143dcef3",
        "colab": {
          "base_uri": "https://localhost:8080/",
          "height": 833
        }
      },
      "source": [
        "import nltk\n",
        "import pandas as pd\n",
        "import numpy as np\n",
        "nltk.download(\"popular\")\n",
        "from nltk.corpus import stopwords\n",
        "from sklearn.feature_extraction.text import CountVectorizer\n",
        "from sklearn.feature_extraction.text import TfidfTransformer\n",
        "from sklearn.decomposition import PCA\n",
        "from sklearn import preprocessing, svm\n",
        "from sklearn.model_selection import train_test_split\n",
        "from sklearn.metrics import accuracy_score, f1_score, classification_report\n",
        "stop_words = set(stopwords.words('english'))"
      ],
      "execution_count": 0,
      "outputs": [
        {
          "output_type": "stream",
          "text": [
            "[nltk_data] Downloading collection 'popular'\n",
            "[nltk_data]    | \n",
            "[nltk_data]    | Downloading package cmudict to /root/nltk_data...\n",
            "[nltk_data]    |   Package cmudict is already up-to-date!\n",
            "[nltk_data]    | Downloading package gazetteers to /root/nltk_data...\n",
            "[nltk_data]    |   Package gazetteers is already up-to-date!\n",
            "[nltk_data]    | Downloading package genesis to /root/nltk_data...\n",
            "[nltk_data]    |   Package genesis is already up-to-date!\n",
            "[nltk_data]    | Downloading package gutenberg to /root/nltk_data...\n",
            "[nltk_data]    |   Package gutenberg is already up-to-date!\n",
            "[nltk_data]    | Downloading package inaugural to /root/nltk_data...\n",
            "[nltk_data]    |   Package inaugural is already up-to-date!\n",
            "[nltk_data]    | Downloading package movie_reviews to\n",
            "[nltk_data]    |     /root/nltk_data...\n",
            "[nltk_data]    |   Package movie_reviews is already up-to-date!\n",
            "[nltk_data]    | Downloading package names to /root/nltk_data...\n",
            "[nltk_data]    |   Package names is already up-to-date!\n",
            "[nltk_data]    | Downloading package shakespeare to /root/nltk_data...\n",
            "[nltk_data]    |   Package shakespeare is already up-to-date!\n",
            "[nltk_data]    | Downloading package stopwords to /root/nltk_data...\n",
            "[nltk_data]    |   Package stopwords is already up-to-date!\n",
            "[nltk_data]    | Downloading package treebank to /root/nltk_data...\n",
            "[nltk_data]    |   Package treebank is already up-to-date!\n",
            "[nltk_data]    | Downloading package twitter_samples to\n",
            "[nltk_data]    |     /root/nltk_data...\n",
            "[nltk_data]    |   Package twitter_samples is already up-to-date!\n",
            "[nltk_data]    | Downloading package omw to /root/nltk_data...\n",
            "[nltk_data]    |   Package omw is already up-to-date!\n",
            "[nltk_data]    | Downloading package wordnet to /root/nltk_data...\n",
            "[nltk_data]    |   Package wordnet is already up-to-date!\n",
            "[nltk_data]    | Downloading package wordnet_ic to /root/nltk_data...\n",
            "[nltk_data]    |   Package wordnet_ic is already up-to-date!\n",
            "[nltk_data]    | Downloading package words to /root/nltk_data...\n",
            "[nltk_data]    |   Package words is already up-to-date!\n",
            "[nltk_data]    | Downloading package maxent_ne_chunker to\n",
            "[nltk_data]    |     /root/nltk_data...\n",
            "[nltk_data]    |   Package maxent_ne_chunker is already up-to-date!\n",
            "[nltk_data]    | Downloading package punkt to /root/nltk_data...\n",
            "[nltk_data]    |   Package punkt is already up-to-date!\n",
            "[nltk_data]    | Downloading package snowball_data to\n",
            "[nltk_data]    |     /root/nltk_data...\n",
            "[nltk_data]    |   Package snowball_data is already up-to-date!\n",
            "[nltk_data]    | Downloading package averaged_perceptron_tagger to\n",
            "[nltk_data]    |     /root/nltk_data...\n",
            "[nltk_data]    |   Package averaged_perceptron_tagger is already up-\n",
            "[nltk_data]    |       to-date!\n",
            "[nltk_data]    | \n",
            "[nltk_data]  Done downloading collection popular\n"
          ],
          "name": "stdout"
        }
      ]
    },
    {
      "cell_type": "code",
      "metadata": {
        "id": "FttEt1iQW53-",
        "colab_type": "code",
        "colab": {}
      },
      "source": [
        "# load appropriate csv file for time interval\n",
        "df = pd.read_csv('./final1440_aapl.csv')"
      ],
      "execution_count": 0,
      "outputs": []
    },
    {
      "cell_type": "code",
      "metadata": {
        "id": "1MkhP9K5cFLf",
        "colab_type": "code",
        "outputId": "a663a07e-5876-42a6-8ae2-006e89cf27a9",
        "colab": {
          "base_uri": "https://localhost:8080/",
          "height": 419
        }
      },
      "source": [
        "df"
      ],
      "execution_count": 0,
      "outputs": [
        {
          "output_type": "execute_result",
          "data": {
            "text/html": [
              "<div>\n",
              "<style scoped>\n",
              "    .dataframe tbody tr th:only-of-type {\n",
              "        vertical-align: middle;\n",
              "    }\n",
              "\n",
              "    .dataframe tbody tr th {\n",
              "        vertical-align: top;\n",
              "    }\n",
              "\n",
              "    .dataframe thead th {\n",
              "        text-align: right;\n",
              "    }\n",
              "</style>\n",
              "<table border=\"1\" class=\"dataframe\">\n",
              "  <thead>\n",
              "    <tr style=\"text-align: right;\">\n",
              "      <th></th>\n",
              "      <th>Unnamed: 0</th>\n",
              "      <th>text</th>\n",
              "      <th>sentiment</th>\n",
              "      <th>label</th>\n",
              "      <th>stock_time</th>\n",
              "    </tr>\n",
              "  </thead>\n",
              "  <tbody>\n",
              "    <tr>\n",
              "      <th>0</th>\n",
              "      <td>0</td>\n",
              "      <td>2018 nape global busi confer held februari 7 2...</td>\n",
              "      <td>0.024667</td>\n",
              "      <td>1.0</td>\n",
              "      <td>2017-12-08 05:00:00</td>\n",
              "    </tr>\n",
              "    <tr>\n",
              "      <th>1</th>\n",
              "      <td>1</td>\n",
              "      <td>725 s8 25 iphon 8 perhap ngalaxi s8 best smart...</td>\n",
              "      <td>0.091103</td>\n",
              "      <td>-1.0</td>\n",
              "      <td>2017-12-11 05:00:00</td>\n",
              "    </tr>\n",
              "    <tr>\n",
              "      <th>2</th>\n",
              "      <td>2</td>\n",
              "      <td>web publish would wise rememb arent kind bad a...</td>\n",
              "      <td>0.016494</td>\n",
              "      <td>1.0</td>\n",
              "      <td>2017-12-12 05:00:00</td>\n",
              "    </tr>\n",
              "    <tr>\n",
              "      <th>3</th>\n",
              "      <td>3</td>\n",
              "      <td>fact cobalt mine mainli byproduct metal copper...</td>\n",
              "      <td>0.013467</td>\n",
              "      <td>-1.0</td>\n",
              "      <td>2017-12-13 05:00:00</td>\n",
              "    </tr>\n",
              "    <tr>\n",
              "      <th>4</th>\n",
              "      <td>4</td>\n",
              "      <td>snap nyse snap cramer fan cramer trust doesnt ...</td>\n",
              "      <td>0.031292</td>\n",
              "      <td>1.0</td>\n",
              "      <td>2017-12-15 05:00:00</td>\n",
              "    </tr>\n",
              "    <tr>\n",
              "      <th>...</th>\n",
              "      <td>...</td>\n",
              "      <td>...</td>\n",
              "      <td>...</td>\n",
              "      <td>...</td>\n",
              "      <td>...</td>\n",
              "    </tr>\n",
              "    <tr>\n",
              "      <th>281</th>\n",
              "      <td>281</td>\n",
              "      <td>2019 tast year got scorcher blaze hot melbourn...</td>\n",
              "      <td>0.012952</td>\n",
              "      <td>1.0</td>\n",
              "      <td>2019-01-28 05:00:00</td>\n",
              "    </tr>\n",
              "    <tr>\n",
              "      <th>282</th>\n",
              "      <td>282</td>\n",
              "      <td>aapl topic sever report compani offer iphon li...</td>\n",
              "      <td>0.011818</td>\n",
              "      <td>1.0</td>\n",
              "      <td>2019-01-29 05:00:00</td>\n",
              "    </tr>\n",
              "    <tr>\n",
              "      <th>283</th>\n",
              "      <td>283</td>\n",
              "      <td>httpswwwyoutubecomwatchv6enwkf1sqog tag aapl a...</td>\n",
              "      <td>0.009776</td>\n",
              "      <td>1.0</td>\n",
              "      <td>2019-01-30 05:00:00</td>\n",
              "    </tr>\n",
              "    <tr>\n",
              "      <th>284</th>\n",
              "      <td>284</td>\n",
              "      <td>compani offer iphon line smartphon ipad line m...</td>\n",
              "      <td>0.009638</td>\n",
              "      <td>1.0</td>\n",
              "      <td>2019-01-31 05:00:00</td>\n",
              "    </tr>\n",
              "    <tr>\n",
              "      <th>285</th>\n",
              "      <td>285</td>\n",
              "      <td>2020 version would reportedli includ laserpow ...</td>\n",
              "      <td>0.013898</td>\n",
              "      <td>1.0</td>\n",
              "      <td>2019-02-01 05:00:00</td>\n",
              "    </tr>\n",
              "  </tbody>\n",
              "</table>\n",
              "<p>286 rows × 5 columns</p>\n",
              "</div>"
            ],
            "text/plain": [
              "     Unnamed: 0  ...           stock_time\n",
              "0             0  ...  2017-12-08 05:00:00\n",
              "1             1  ...  2017-12-11 05:00:00\n",
              "2             2  ...  2017-12-12 05:00:00\n",
              "3             3  ...  2017-12-13 05:00:00\n",
              "4             4  ...  2017-12-15 05:00:00\n",
              "..          ...  ...                  ...\n",
              "281         281  ...  2019-01-28 05:00:00\n",
              "282         282  ...  2019-01-29 05:00:00\n",
              "283         283  ...  2019-01-30 05:00:00\n",
              "284         284  ...  2019-01-31 05:00:00\n",
              "285         285  ...  2019-02-01 05:00:00\n",
              "\n",
              "[286 rows x 5 columns]"
            ]
          },
          "metadata": {
            "tags": []
          },
          "execution_count": 14
        }
      ]
    },
    {
      "cell_type": "code",
      "metadata": {
        "id": "uotwpWh2XAs7",
        "colab_type": "code",
        "colab": {}
      },
      "source": [
        "# train with ngrams and sentiment\n",
        "text = df['text']\n",
        "sent = df['sentiment']\n",
        "labels = df['label']\n",
        "\n",
        "# generate ngrams = 2,2 or 2,3 with Count Vectorizer\n",
        "count_vectorizer = CountVectorizer(max_df=0.8, min_df=0.02, stop_words=stop_words, ngram_range=(2,2))\n",
        "X = count_vectorizer.fit_transform(text)\n",
        "\n",
        "# use TfIdf to determine freq\n",
        "tfidf = TfidfTransformer(smooth_idf=True, use_idf=True)\n",
        "X = tfidf.fit_transform(X).toarray()\n",
        "\n",
        "# use PCA to generate final text dataset\n",
        "pca = PCA(n_components=3)\n",
        "pca_comp = pca.fit_transform(X)\n",
        "\n",
        "# join text and sentiment\n",
        "finalXtrain = np.hstack((pca_comp, np.atleast_2d(sent).T))\n",
        "\n",
        "# create train and test split\n",
        "X_train, X_test, y_train, y_test = train_test_split(finalXtrain, labels, test_size=0.3, random_state=23)\n",
        "\n",
        "# scale the data\n",
        "minmaxScaler = preprocessing.MinMaxScaler()\n",
        "scaled_x_train = minmaxScaler.fit_transform(X_train)\n",
        "scaled_x_test = minmaxScaler.fit_transform(X_test)"
      ],
      "execution_count": 0,
      "outputs": []
    },
    {
      "cell_type": "code",
      "metadata": {
        "id": "2Bv5soOUXDJu",
        "colab_type": "code",
        "outputId": "6ba98e2f-cb10-4e24-af55-1c65fef08dd0",
        "colab": {
          "base_uri": "https://localhost:8080/",
          "height": 221
        }
      },
      "source": [
        "# evaluation for ngrams and sentiment\n",
        "\n",
        "# create and train SVM model\n",
        "svm_model = svm.NuSVC(gamma='scale',probability=True)\n",
        "svm_model.fit(scaled_x_train, y_train)\n",
        "\n",
        "# generate prediction\n",
        "y_train_pred = svm_model.predict(scaled_x_train)\n",
        "y_test_pred = svm_model.predict(scaled_x_test)\n",
        "\n",
        "# display train and test accuracy\n",
        "train_accuracy = accuracy_score(y_train, y_train_pred)\n",
        "print('Training accuracy is {0}'.format(train_accuracy))\n",
        "test_accuracy = accuracy_score(y_test, y_test_pred)\n",
        "print('Testing accuracy is {0}'.format(test_accuracy))\n",
        "\n",
        "# display f-1 score\n",
        "f1score = f1_score(y_test, y_test_pred)\n",
        "print('F1 Score is {0}'.format(f1score))\n",
        "\n",
        "# display classification report\n",
        "report = classification_report(y_test, y_test_pred)\n",
        "print('Classifcation report: {0}'.format(report))"
      ],
      "execution_count": 0,
      "outputs": [
        {
          "output_type": "stream",
          "text": [
            "Training accuracy is 0.755\n",
            "Testing accuracy is 0.43023255813953487\n",
            "F1 Score is 0.4731182795698924\n",
            "Classifcation report:               precision    recall  f1-score   support\n",
            "\n",
            "        -1.0       0.29      0.54      0.38        28\n",
            "         1.0       0.63      0.38      0.47        58\n",
            "\n",
            "    accuracy                           0.43        86\n",
            "   macro avg       0.46      0.46      0.43        86\n",
            "weighted avg       0.52      0.43      0.44        86\n",
            "\n"
          ],
          "name": "stdout"
        }
      ]
    },
    {
      "cell_type": "code",
      "metadata": {
        "id": "AUKr2ulocV4u",
        "colab_type": "code",
        "colab": {}
      },
      "source": [
        "# train with ngrams only\n",
        "text = df['text']\n",
        "labels = df['label']\n",
        "\n",
        "# generate ngrams = 2,2 or 2,3 with Count Vectorizer\n",
        "count_vectorizer = CountVectorizer(max_df=0.8, min_df=0.02, stop_words=stop_words, ngram_range=(2,2))\n",
        "X = count_vectorizer.fit_transform(text)\n",
        "\n",
        "# use TfIdf to determine freq\n",
        "tfidf = TfidfTransformer(smooth_idf=True, use_idf=True)\n",
        "X = tfidf.fit_transform(X).toarray()\n",
        "\n",
        "# use PCA to generate final text dataset\n",
        "pca = PCA(n_components=3)\n",
        "finalXtrain = pca.fit_transform(X)\n",
        "\n",
        "# create train and test split\n",
        "X_train, X_test, y_train, y_test = train_test_split(finalXtrain, labels, test_size=0.3, random_state=23)\n",
        "\n",
        "# scale the data\n",
        "minmaxScaler = preprocessing.MinMaxScaler()\n",
        "scaled_x_train = minmaxScaler.fit_transform(X_train)\n",
        "scaled_x_test = minmaxScaler.fit_transform(X_test)"
      ],
      "execution_count": 0,
      "outputs": []
    },
    {
      "cell_type": "code",
      "metadata": {
        "id": "jCPQAPIjccBl",
        "colab_type": "code",
        "outputId": "6bcffd8f-e19b-43f7-8d04-bddcfd58d578",
        "colab": {
          "base_uri": "https://localhost:8080/",
          "height": 221
        }
      },
      "source": [
        "# evaluation for ngrams\n",
        "\n",
        "# create and train SVM model\n",
        "svm_model = svm.NuSVC(gamma='scale',probability=True)\n",
        "svm_model.fit(scaled_x_train, y_train)\n",
        "\n",
        "# generate prediction\n",
        "y_train_pred = svm_model.predict(scaled_x_train)\n",
        "y_test_pred = svm_model.predict(scaled_x_test)\n",
        "\n",
        "# display train and test accuracy\n",
        "train_accuracy = accuracy_score(y_train, y_train_pred)\n",
        "print('Training accuracy is {0}'.format(train_accuracy))\n",
        "test_accuracy = accuracy_score(y_test, y_test_pred)\n",
        "print('Testing accuracy is {0}'.format(test_accuracy))\n",
        "\n",
        "# display f-1 score\n",
        "f1score = f1_score(y_test, y_test_pred)\n",
        "print('F1 Score is {0}'.format(f1score))\n",
        "\n",
        "# display classification report\n",
        "report = classification_report(y_test, y_test_pred)\n",
        "print('Classifcation report: {0}'.format(report))"
      ],
      "execution_count": 0,
      "outputs": [
        {
          "output_type": "stream",
          "text": [
            "Training accuracy is 0.68\n",
            "Testing accuracy is 0.5581395348837209\n",
            "F1 Score is 0.6666666666666666\n",
            "Classifcation report:               precision    recall  f1-score   support\n",
            "\n",
            "        -1.0       0.33      0.36      0.34        28\n",
            "         1.0       0.68      0.66      0.67        58\n",
            "\n",
            "    accuracy                           0.56        86\n",
            "   macro avg       0.51      0.51      0.51        86\n",
            "weighted avg       0.57      0.56      0.56        86\n",
            "\n"
          ],
          "name": "stdout"
        }
      ]
    },
    {
      "cell_type": "code",
      "metadata": {
        "id": "gjK_JSyZc8mB",
        "colab_type": "code",
        "colab": {}
      },
      "source": [
        ""
      ],
      "execution_count": 0,
      "outputs": []
    }
  ]
}